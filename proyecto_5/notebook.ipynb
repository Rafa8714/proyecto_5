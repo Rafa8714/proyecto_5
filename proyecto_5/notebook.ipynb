{
 "cells": [
  {
   "cell_type": "markdown",
   "metadata": {
    "id": "3rYiDeEH0q0f"
   },
   "source": [
    "# ¿Cuál es la mejor tarifa?\n",
    "\n",
    "Trabajas como analista para el operador de telecomunicaciones Megaline. La empresa ofrece a sus clientes dos tarifas de prepago, Surf y Ultimate. El departamento comercial quiere saber cuál de las tarifas genera más ingresos para poder ajustar el presupuesto de publicidad.\n",
    "\n",
    "Vas a realizar un análisis preliminar de las tarifas basado en una selección de clientes relativamente pequeña. Tendrás los datos de 500 clientes de Megaline: quiénes son los clientes, de dónde son, qué tarifa usan, así como la cantidad de llamadas que hicieron y los mensajes de texto que enviaron en 2018. Tu trabajo es analizar el comportamiento de los clientes y determinar qué tarifa de prepago genera más ingresos."
   ]
  },
  {
   "cell_type": "markdown",
   "metadata": {
    "id": "VNddPNRQ0q0w"
   },
   "source": [
    "[Te proporcionamos algunos comentarios para orientarte mientras completas este proyecto. Pero debes asegurarte de eliminar todos los comentarios entre corchetes antes de entregar tu proyecto.]\n",
    "\n",
    "[Antes de sumergirte en el análisis de datos, explica por tu propia cuenta el propósito del proyecto y las acciones que planeas realizar.]\n",
    "\n",
    "[Ten en cuenta que estudiar, modificar y analizar datos es un proceso iterativo. Es normal volver a los pasos anteriores y corregirlos/ampliarlos para permitir nuevos pasos.]"
   ]
  },
  {
   "cell_type": "markdown",
   "metadata": {},
   "source": [
    "**Proceso a seguir para completar el completar el proyecto.**\n",
    "\n",
    "1. Comenzaré por descargar los archivos de excel para darle un vistazo a las tablas y entender lo que sus datos nos muestran.\n",
    "2. Posteriormente inportaré las bases al NoteBbook para revisar su estructura y validar: tipos de datos, valores repetidos, valores ausentes y si es necesario corregir datos.\n",
    "3. Una vez que las tablas estén limpias podré empezar con el análisis el cual podrá ser más fácil si uno todas las tablas con las columnas necesarias.\n",
    "4. Con base en ese df nuevo, realizar mis gráficas para así responder a las hipótesis solicitadas."
   ]
  },
  {
   "cell_type": "markdown",
   "metadata": {
    "id": "MQi4IPy70q0y"
   },
   "source": [
    "## Inicialización"
   ]
  },
  {
   "cell_type": "code",
   "execution_count": 1,
   "metadata": {
    "id": "MtYIuBxu0q0z"
   },
   "outputs": [],
   "source": [
    "import pandas as pd\n",
    "import numpy as np\n",
    "import matplotlib.pyplot as plt\n",
    "import seaborn as sns\n",
    "from scipy import stats\n",
    "\n"
   ]
  },
  {
   "cell_type": "markdown",
   "metadata": {
    "id": "4ysWWC5i0q00"
   },
   "source": [
    "## Cargar datos"
   ]
  },
  {
   "cell_type": "code",
   "execution_count": 2,
   "metadata": {
    "id": "CCqPW7rS0q01"
   },
   "outputs": [],
   "source": [
    "calls = pd.read_csv('/datasets/megaline_calls.csv')\n",
    "internet = pd.read_csv('/datasets/megaline_internet.csv')\n",
    "menssages = pd.read_csv('/datasets/megaline_messages.csv')\n",
    "plans = pd.read_csv('/datasets/megaline_plans.csv')\n",
    "users = pd.read_csv('/datasets/megaline_users.csv')\n",
    "\n"
   ]
  },
  {
   "cell_type": "markdown",
   "metadata": {
    "id": "69qqoJ3r0q01"
   },
   "source": [
    "## Preparar los datos"
   ]
  },
  {
   "cell_type": "markdown",
   "metadata": {
    "id": "vUuZw80S0q01"
   },
   "source": [
    "[Los datos para este proyecto se dividen en varias tablas. Explora cada una para tener una comprensión inicial de los datos. Si es necesario, haz las correcciones requeridas en cada tabla.]"
   ]
  },
  {
   "cell_type": "markdown",
   "metadata": {
    "id": "ohBhimvH0q01"
   },
   "source": [
    "## Tarifas"
   ]
  },
  {
   "cell_type": "code",
   "execution_count": 3,
   "metadata": {
    "id": "GptqP3Q40q02"
   },
   "outputs": [
    {
     "name": "stdout",
     "output_type": "stream",
     "text": [
      "<class 'pandas.core.frame.DataFrame'>\n",
      "RangeIndex: 2 entries, 0 to 1\n",
      "Data columns (total 8 columns):\n",
      " #   Column                 Non-Null Count  Dtype  \n",
      "---  ------                 --------------  -----  \n",
      " 0   messages_included      2 non-null      int64  \n",
      " 1   mb_per_month_included  2 non-null      int64  \n",
      " 2   minutes_included       2 non-null      int64  \n",
      " 3   usd_monthly_pay        2 non-null      int64  \n",
      " 4   usd_per_gb             2 non-null      int64  \n",
      " 5   usd_per_message        2 non-null      float64\n",
      " 6   usd_per_minute         2 non-null      float64\n",
      " 7   plan_name              2 non-null      object \n",
      "dtypes: float64(2), int64(5), object(1)\n",
      "memory usage: 256.0+ bytes\n"
     ]
    }
   ],
   "source": [
    "plans.info()\n",
    "\n"
   ]
  },
  {
   "cell_type": "code",
   "execution_count": 4,
   "metadata": {
    "id": "64xzjwL70q02"
   },
   "outputs": [
    {
     "data": {
      "text/html": [
       "<div>\n",
       "<style scoped>\n",
       "    .dataframe tbody tr th:only-of-type {\n",
       "        vertical-align: middle;\n",
       "    }\n",
       "\n",
       "    .dataframe tbody tr th {\n",
       "        vertical-align: top;\n",
       "    }\n",
       "\n",
       "    .dataframe thead th {\n",
       "        text-align: right;\n",
       "    }\n",
       "</style>\n",
       "<table border=\"1\" class=\"dataframe\">\n",
       "  <thead>\n",
       "    <tr style=\"text-align: right;\">\n",
       "      <th></th>\n",
       "      <th>messages_included</th>\n",
       "      <th>mb_per_month_included</th>\n",
       "      <th>minutes_included</th>\n",
       "      <th>usd_monthly_pay</th>\n",
       "      <th>usd_per_gb</th>\n",
       "      <th>usd_per_message</th>\n",
       "      <th>usd_per_minute</th>\n",
       "      <th>plan_name</th>\n",
       "    </tr>\n",
       "  </thead>\n",
       "  <tbody>\n",
       "    <tr>\n",
       "      <th>0</th>\n",
       "      <td>50</td>\n",
       "      <td>15360</td>\n",
       "      <td>500</td>\n",
       "      <td>20</td>\n",
       "      <td>10</td>\n",
       "      <td>0.03</td>\n",
       "      <td>0.03</td>\n",
       "      <td>surf</td>\n",
       "    </tr>\n",
       "    <tr>\n",
       "      <th>1</th>\n",
       "      <td>1000</td>\n",
       "      <td>30720</td>\n",
       "      <td>3000</td>\n",
       "      <td>70</td>\n",
       "      <td>7</td>\n",
       "      <td>0.01</td>\n",
       "      <td>0.01</td>\n",
       "      <td>ultimate</td>\n",
       "    </tr>\n",
       "  </tbody>\n",
       "</table>\n",
       "</div>"
      ],
      "text/plain": [
       "   messages_included  mb_per_month_included  minutes_included  \\\n",
       "0                 50                  15360               500   \n",
       "1               1000                  30720              3000   \n",
       "\n",
       "   usd_monthly_pay  usd_per_gb  usd_per_message  usd_per_minute plan_name  \n",
       "0               20          10             0.03            0.03      surf  \n",
       "1               70           7             0.01            0.01  ultimate  "
      ]
     },
     "execution_count": 4,
     "metadata": {},
     "output_type": "execute_result"
    }
   ],
   "source": [
    "plans.head()\n",
    "\n"
   ]
  },
  {
   "cell_type": "markdown",
   "metadata": {
    "id": "mEc_3_hs0q02"
   },
   "source": [
    "[Describe lo que ves y observas en la información general y en la muestra de datos impresa para el precio de datos anterior. ¿Hay algún problema (tipos de datos no adecuados, datos ausentes, etc.) que pudieran necesitar investigación y cambios adicionales? ¿Cómo se puede arreglar?]"
   ]
  },
  {
   "cell_type": "markdown",
   "metadata": {},
   "source": [
    "**Al ser una tabla muy pequeña no existen valores ausentes y tosos los tidos de datos son correctos**"
   ]
  },
  {
   "cell_type": "markdown",
   "metadata": {
    "collapsed": false,
    "id": "R3C05i1l0q03",
    "jupyter": {
     "outputs_hidden": false
    }
   },
   "source": [
    "## Corregir datos"
   ]
  },
  {
   "cell_type": "markdown",
   "metadata": {
    "id": "bIi8StZI0q03"
   },
   "source": [
    "[Corrige los problemas obvios con los datos basándote en las observaciones iniciales.]"
   ]
  },
  {
   "cell_type": "code",
   "execution_count": null,
   "metadata": {
    "id": "Y7SVmjGn0q03"
   },
   "outputs": [],
   "source": []
  },
  {
   "cell_type": "markdown",
   "metadata": {
    "id": "LJir7bml0q03"
   },
   "source": [
    "## Enriquecer los datos"
   ]
  },
  {
   "cell_type": "markdown",
   "metadata": {
    "id": "eqADpCfg0q04"
   },
   "source": [
    "[Agrega factores adicionales a los datos si crees que pudieran ser útiles.]"
   ]
  },
  {
   "cell_type": "code",
   "execution_count": null,
   "metadata": {
    "id": "gfcIEuXV0q04"
   },
   "outputs": [],
   "source": []
  },
  {
   "cell_type": "markdown",
   "metadata": {
    "id": "1n2X6WXf0q04"
   },
   "source": [
    "## Usuarios/as"
   ]
  },
  {
   "cell_type": "code",
   "execution_count": 5,
   "metadata": {
    "id": "2NgjWFqx0q05"
   },
   "outputs": [
    {
     "name": "stdout",
     "output_type": "stream",
     "text": [
      "<class 'pandas.core.frame.DataFrame'>\n",
      "RangeIndex: 500 entries, 0 to 499\n",
      "Data columns (total 8 columns):\n",
      " #   Column      Non-Null Count  Dtype \n",
      "---  ------      --------------  ----- \n",
      " 0   user_id     500 non-null    int64 \n",
      " 1   first_name  500 non-null    object\n",
      " 2   last_name   500 non-null    object\n",
      " 3   age         500 non-null    int64 \n",
      " 4   city        500 non-null    object\n",
      " 5   reg_date    500 non-null    object\n",
      " 6   plan        500 non-null    object\n",
      " 7   churn_date  34 non-null     object\n",
      "dtypes: int64(2), object(6)\n",
      "memory usage: 31.4+ KB\n"
     ]
    }
   ],
   "source": [
    "users.info()\n",
    "\n"
   ]
  },
  {
   "cell_type": "code",
   "execution_count": 6,
   "metadata": {
    "id": "1IN1L9uh0q05"
   },
   "outputs": [
    {
     "data": {
      "text/html": [
       "<div>\n",
       "<style scoped>\n",
       "    .dataframe tbody tr th:only-of-type {\n",
       "        vertical-align: middle;\n",
       "    }\n",
       "\n",
       "    .dataframe tbody tr th {\n",
       "        vertical-align: top;\n",
       "    }\n",
       "\n",
       "    .dataframe thead th {\n",
       "        text-align: right;\n",
       "    }\n",
       "</style>\n",
       "<table border=\"1\" class=\"dataframe\">\n",
       "  <thead>\n",
       "    <tr style=\"text-align: right;\">\n",
       "      <th></th>\n",
       "      <th>user_id</th>\n",
       "      <th>first_name</th>\n",
       "      <th>last_name</th>\n",
       "      <th>age</th>\n",
       "      <th>city</th>\n",
       "      <th>reg_date</th>\n",
       "      <th>plan</th>\n",
       "      <th>churn_date</th>\n",
       "    </tr>\n",
       "  </thead>\n",
       "  <tbody>\n",
       "    <tr>\n",
       "      <th>436</th>\n",
       "      <td>1436</td>\n",
       "      <td>Jennine</td>\n",
       "      <td>Kinney</td>\n",
       "      <td>69</td>\n",
       "      <td>Philadelphia-Camden-Wilmington, PA-NJ-DE-MD MSA</td>\n",
       "      <td>2018-08-26</td>\n",
       "      <td>ultimate</td>\n",
       "      <td>NaN</td>\n",
       "    </tr>\n",
       "    <tr>\n",
       "      <th>33</th>\n",
       "      <td>1033</td>\n",
       "      <td>Latoyia</td>\n",
       "      <td>Moran</td>\n",
       "      <td>28</td>\n",
       "      <td>Oklahoma City, OK MSA</td>\n",
       "      <td>2018-05-30</td>\n",
       "      <td>ultimate</td>\n",
       "      <td>NaN</td>\n",
       "    </tr>\n",
       "    <tr>\n",
       "      <th>216</th>\n",
       "      <td>1216</td>\n",
       "      <td>Reita</td>\n",
       "      <td>Atkins</td>\n",
       "      <td>29</td>\n",
       "      <td>San Francisco-Oakland-Berkeley, CA MSA</td>\n",
       "      <td>2018-06-19</td>\n",
       "      <td>surf</td>\n",
       "      <td>NaN</td>\n",
       "    </tr>\n",
       "    <tr>\n",
       "      <th>56</th>\n",
       "      <td>1056</td>\n",
       "      <td>Denis</td>\n",
       "      <td>Chandler</td>\n",
       "      <td>33</td>\n",
       "      <td>Cincinnati, OH-KY-IN MSA</td>\n",
       "      <td>2018-03-01</td>\n",
       "      <td>surf</td>\n",
       "      <td>NaN</td>\n",
       "    </tr>\n",
       "    <tr>\n",
       "      <th>370</th>\n",
       "      <td>1370</td>\n",
       "      <td>Nenita</td>\n",
       "      <td>Vasquez</td>\n",
       "      <td>49</td>\n",
       "      <td>San Diego-Chula Vista-Carlsbad, CA MSA</td>\n",
       "      <td>2018-09-12</td>\n",
       "      <td>ultimate</td>\n",
       "      <td>NaN</td>\n",
       "    </tr>\n",
       "    <tr>\n",
       "      <th>21</th>\n",
       "      <td>1021</td>\n",
       "      <td>Ricarda</td>\n",
       "      <td>Booker</td>\n",
       "      <td>37</td>\n",
       "      <td>Los Angeles-Long Beach-Anaheim, CA MSA</td>\n",
       "      <td>2018-12-21</td>\n",
       "      <td>surf</td>\n",
       "      <td>NaN</td>\n",
       "    </tr>\n",
       "    <tr>\n",
       "      <th>127</th>\n",
       "      <td>1127</td>\n",
       "      <td>Marchelle</td>\n",
       "      <td>Brock</td>\n",
       "      <td>28</td>\n",
       "      <td>New York-Newark-Jersey City, NY-NJ-PA MSA</td>\n",
       "      <td>2018-06-23</td>\n",
       "      <td>surf</td>\n",
       "      <td>NaN</td>\n",
       "    </tr>\n",
       "    <tr>\n",
       "      <th>128</th>\n",
       "      <td>1128</td>\n",
       "      <td>Lucius</td>\n",
       "      <td>Fernandez</td>\n",
       "      <td>41</td>\n",
       "      <td>Knoxville, TN MSA</td>\n",
       "      <td>2018-01-25</td>\n",
       "      <td>ultimate</td>\n",
       "      <td>NaN</td>\n",
       "    </tr>\n",
       "    <tr>\n",
       "      <th>133</th>\n",
       "      <td>1133</td>\n",
       "      <td>Larry</td>\n",
       "      <td>Barr</td>\n",
       "      <td>50</td>\n",
       "      <td>Cincinnati, OH-KY-IN MSA</td>\n",
       "      <td>2018-07-21</td>\n",
       "      <td>ultimate</td>\n",
       "      <td>NaN</td>\n",
       "    </tr>\n",
       "    <tr>\n",
       "      <th>45</th>\n",
       "      <td>1045</td>\n",
       "      <td>Barney</td>\n",
       "      <td>Ortega</td>\n",
       "      <td>20</td>\n",
       "      <td>New York-Newark-Jersey City, NY-NJ-PA MSA</td>\n",
       "      <td>2018-10-15</td>\n",
       "      <td>surf</td>\n",
       "      <td>NaN</td>\n",
       "    </tr>\n",
       "  </tbody>\n",
       "</table>\n",
       "</div>"
      ],
      "text/plain": [
       "     user_id first_name  last_name  age  \\\n",
       "436     1436    Jennine     Kinney   69   \n",
       "33      1033    Latoyia      Moran   28   \n",
       "216     1216      Reita     Atkins   29   \n",
       "56      1056      Denis   Chandler   33   \n",
       "370     1370     Nenita    Vasquez   49   \n",
       "21      1021    Ricarda     Booker   37   \n",
       "127     1127  Marchelle      Brock   28   \n",
       "128     1128     Lucius  Fernandez   41   \n",
       "133     1133      Larry       Barr   50   \n",
       "45      1045     Barney     Ortega   20   \n",
       "\n",
       "                                                city    reg_date      plan  \\\n",
       "436  Philadelphia-Camden-Wilmington, PA-NJ-DE-MD MSA  2018-08-26  ultimate   \n",
       "33                             Oklahoma City, OK MSA  2018-05-30  ultimate   \n",
       "216           San Francisco-Oakland-Berkeley, CA MSA  2018-06-19      surf   \n",
       "56                          Cincinnati, OH-KY-IN MSA  2018-03-01      surf   \n",
       "370           San Diego-Chula Vista-Carlsbad, CA MSA  2018-09-12  ultimate   \n",
       "21            Los Angeles-Long Beach-Anaheim, CA MSA  2018-12-21      surf   \n",
       "127        New York-Newark-Jersey City, NY-NJ-PA MSA  2018-06-23      surf   \n",
       "128                                Knoxville, TN MSA  2018-01-25  ultimate   \n",
       "133                         Cincinnati, OH-KY-IN MSA  2018-07-21  ultimate   \n",
       "45         New York-Newark-Jersey City, NY-NJ-PA MSA  2018-10-15      surf   \n",
       "\n",
       "    churn_date  \n",
       "436        NaN  \n",
       "33         NaN  \n",
       "216        NaN  \n",
       "56         NaN  \n",
       "370        NaN  \n",
       "21         NaN  \n",
       "127        NaN  \n",
       "128        NaN  \n",
       "133        NaN  \n",
       "45         NaN  "
      ]
     },
     "execution_count": 6,
     "metadata": {},
     "output_type": "execute_result"
    }
   ],
   "source": [
    "users.sample(10)\n",
    "\n"
   ]
  },
  {
   "cell_type": "markdown",
   "metadata": {
    "id": "dCZoUq4f0q06"
   },
   "source": [
    "[Describe lo que ves y observas en la información general y en la muestra de datos impresa para el precio de datos anterior. ¿Hay algún problema (tipos de datos no adecuados, datos ausentes, etc.) que pudieran necesitar investigación y cambios adicionales? ¿Cómo se puede arreglar?]"
   ]
  },
  {
   "cell_type": "markdown",
   "metadata": {},
   "source": [
    "**En éste df noto que existen muchos datos ausentes los cuales corresponden a los usuarios que actualmente cuentan con un plan activo, podriamos llenar esos datos con una etiqueta para poder categorizarlos y realizar análisis con ellos, adicional podemos cambiar el tipo de dato de la columna 'reg_date' a datatime para poder trabajar con el y convertir 'user_id' a object.**"
   ]
  },
  {
   "cell_type": "markdown",
   "metadata": {
    "id": "BX5FQh_I0q06"
   },
   "source": [
    "### Corregir los datos"
   ]
  },
  {
   "cell_type": "markdown",
   "metadata": {
    "id": "8OdKMwJv0q06"
   },
   "source": [
    "[Corrige los problemas obvios con los datos basándote en las observaciones iniciales.]"
   ]
  },
  {
   "cell_type": "markdown",
   "metadata": {},
   "source": [
    "*Cambiamos el tipo de dato de la columna 'reg_date' a datetime y user_id a object*"
   ]
  },
  {
   "cell_type": "code",
   "execution_count": 7,
   "metadata": {
    "id": "yUqX-K0C0q07"
   },
   "outputs": [
    {
     "name": "stdout",
     "output_type": "stream",
     "text": [
      "<class 'pandas.core.frame.DataFrame'>\n",
      "RangeIndex: 500 entries, 0 to 499\n",
      "Data columns (total 8 columns):\n",
      " #   Column      Non-Null Count  Dtype         \n",
      "---  ------      --------------  -----         \n",
      " 0   user_id     500 non-null    object        \n",
      " 1   first_name  500 non-null    object        \n",
      " 2   last_name   500 non-null    object        \n",
      " 3   age         500 non-null    int64         \n",
      " 4   city        500 non-null    object        \n",
      " 5   reg_date    500 non-null    datetime64[ns]\n",
      " 6   plan        500 non-null    object        \n",
      " 7   churn_date  34 non-null     object        \n",
      "dtypes: datetime64[ns](1), int64(1), object(6)\n",
      "memory usage: 31.4+ KB\n"
     ]
    }
   ],
   "source": [
    "users['user_id'] = users['user_id'].astype(str)\n",
    "users['reg_date'] = pd.to_datetime(users['reg_date'], errors='coerce')\n",
    "users.info()\n",
    "                                            "
   ]
  },
  {
   "cell_type": "markdown",
   "metadata": {
    "id": "ycwuARJp0q07"
   },
   "source": [
    "### Enriquecer los datos"
   ]
  },
  {
   "cell_type": "markdown",
   "metadata": {
    "id": "96NIh4CJ0q08"
   },
   "source": [
    "[Agrega factores adicionales a los datos si crees que pudieran ser útiles.]"
   ]
  },
  {
   "cell_type": "markdown",
   "metadata": {},
   "source": [
    "*Sustituimos los valores ausentes por 'active' que indica que el plan del usuario está activo*"
   ]
  },
  {
   "cell_type": "code",
   "execution_count": 8,
   "metadata": {
    "id": "iq0AaBS90q08"
   },
   "outputs": [
    {
     "name": "stdout",
     "output_type": "stream",
     "text": [
      "<class 'pandas.core.frame.DataFrame'>\n",
      "RangeIndex: 500 entries, 0 to 499\n",
      "Data columns (total 8 columns):\n",
      " #   Column      Non-Null Count  Dtype         \n",
      "---  ------      --------------  -----         \n",
      " 0   user_id     500 non-null    object        \n",
      " 1   first_name  500 non-null    object        \n",
      " 2   last_name   500 non-null    object        \n",
      " 3   age         500 non-null    int64         \n",
      " 4   city        500 non-null    object        \n",
      " 5   reg_date    500 non-null    datetime64[ns]\n",
      " 6   plan        500 non-null    object        \n",
      " 7   churn_date  500 non-null    object        \n",
      "dtypes: datetime64[ns](1), int64(1), object(6)\n",
      "memory usage: 31.4+ KB\n"
     ]
    },
    {
     "data": {
      "text/html": [
       "<div>\n",
       "<style scoped>\n",
       "    .dataframe tbody tr th:only-of-type {\n",
       "        vertical-align: middle;\n",
       "    }\n",
       "\n",
       "    .dataframe tbody tr th {\n",
       "        vertical-align: top;\n",
       "    }\n",
       "\n",
       "    .dataframe thead th {\n",
       "        text-align: right;\n",
       "    }\n",
       "</style>\n",
       "<table border=\"1\" class=\"dataframe\">\n",
       "  <thead>\n",
       "    <tr style=\"text-align: right;\">\n",
       "      <th></th>\n",
       "      <th>user_id</th>\n",
       "      <th>first_name</th>\n",
       "      <th>last_name</th>\n",
       "      <th>age</th>\n",
       "      <th>city</th>\n",
       "      <th>reg_date</th>\n",
       "      <th>plan</th>\n",
       "      <th>churn_date</th>\n",
       "    </tr>\n",
       "  </thead>\n",
       "  <tbody>\n",
       "    <tr>\n",
       "      <th>162</th>\n",
       "      <td>1162</td>\n",
       "      <td>Mark</td>\n",
       "      <td>Farley</td>\n",
       "      <td>20</td>\n",
       "      <td>Los Angeles-Long Beach-Anaheim, CA MSA</td>\n",
       "      <td>2018-07-12</td>\n",
       "      <td>ultimate</td>\n",
       "      <td>active</td>\n",
       "    </tr>\n",
       "    <tr>\n",
       "      <th>406</th>\n",
       "      <td>1406</td>\n",
       "      <td>Noble</td>\n",
       "      <td>Jefferson</td>\n",
       "      <td>54</td>\n",
       "      <td>San Diego-Chula Vista-Carlsbad, CA MSA</td>\n",
       "      <td>2018-03-04</td>\n",
       "      <td>surf</td>\n",
       "      <td>active</td>\n",
       "    </tr>\n",
       "    <tr>\n",
       "      <th>114</th>\n",
       "      <td>1114</td>\n",
       "      <td>Esta</td>\n",
       "      <td>Estes</td>\n",
       "      <td>55</td>\n",
       "      <td>New York-Newark-Jersey City, NY-NJ-PA MSA</td>\n",
       "      <td>2018-07-21</td>\n",
       "      <td>surf</td>\n",
       "      <td>active</td>\n",
       "    </tr>\n",
       "    <tr>\n",
       "      <th>344</th>\n",
       "      <td>1344</td>\n",
       "      <td>Hugo</td>\n",
       "      <td>Daugherty</td>\n",
       "      <td>70</td>\n",
       "      <td>New York-Newark-Jersey City, NY-NJ-PA MSA</td>\n",
       "      <td>2018-12-25</td>\n",
       "      <td>surf</td>\n",
       "      <td>active</td>\n",
       "    </tr>\n",
       "    <tr>\n",
       "      <th>113</th>\n",
       "      <td>1113</td>\n",
       "      <td>Spencer</td>\n",
       "      <td>Powers</td>\n",
       "      <td>27</td>\n",
       "      <td>New York-Newark-Jersey City, NY-NJ-PA MSA</td>\n",
       "      <td>2018-06-04</td>\n",
       "      <td>ultimate</td>\n",
       "      <td>active</td>\n",
       "    </tr>\n",
       "    <tr>\n",
       "      <th>349</th>\n",
       "      <td>1349</td>\n",
       "      <td>Florentina</td>\n",
       "      <td>Diaz</td>\n",
       "      <td>69</td>\n",
       "      <td>Boston-Cambridge-Newton, MA-NH MSA</td>\n",
       "      <td>2018-10-01</td>\n",
       "      <td>surf</td>\n",
       "      <td>active</td>\n",
       "    </tr>\n",
       "    <tr>\n",
       "      <th>316</th>\n",
       "      <td>1316</td>\n",
       "      <td>Lucilla</td>\n",
       "      <td>Weeks</td>\n",
       "      <td>59</td>\n",
       "      <td>Tulsa, OK MSA</td>\n",
       "      <td>2018-05-21</td>\n",
       "      <td>surf</td>\n",
       "      <td>active</td>\n",
       "    </tr>\n",
       "    <tr>\n",
       "      <th>345</th>\n",
       "      <td>1345</td>\n",
       "      <td>Pasquale</td>\n",
       "      <td>Caldwell</td>\n",
       "      <td>26</td>\n",
       "      <td>Los Angeles-Long Beach-Anaheim, CA MSA</td>\n",
       "      <td>2018-07-12</td>\n",
       "      <td>surf</td>\n",
       "      <td>active</td>\n",
       "    </tr>\n",
       "    <tr>\n",
       "      <th>307</th>\n",
       "      <td>1307</td>\n",
       "      <td>Kristopher</td>\n",
       "      <td>Lang</td>\n",
       "      <td>28</td>\n",
       "      <td>Boston-Cambridge-Newton, MA-NH MSA</td>\n",
       "      <td>2018-12-31</td>\n",
       "      <td>surf</td>\n",
       "      <td>active</td>\n",
       "    </tr>\n",
       "    <tr>\n",
       "      <th>209</th>\n",
       "      <td>1209</td>\n",
       "      <td>Garret</td>\n",
       "      <td>Paul</td>\n",
       "      <td>63</td>\n",
       "      <td>Los Angeles-Long Beach-Anaheim, CA MSA</td>\n",
       "      <td>2018-08-28</td>\n",
       "      <td>surf</td>\n",
       "      <td>active</td>\n",
       "    </tr>\n",
       "  </tbody>\n",
       "</table>\n",
       "</div>"
      ],
      "text/plain": [
       "    user_id  first_name  last_name  age  \\\n",
       "162    1162        Mark     Farley   20   \n",
       "406    1406       Noble  Jefferson   54   \n",
       "114    1114        Esta      Estes   55   \n",
       "344    1344        Hugo  Daugherty   70   \n",
       "113    1113     Spencer     Powers   27   \n",
       "349    1349  Florentina       Diaz   69   \n",
       "316    1316     Lucilla      Weeks   59   \n",
       "345    1345    Pasquale   Caldwell   26   \n",
       "307    1307  Kristopher       Lang   28   \n",
       "209    1209      Garret       Paul   63   \n",
       "\n",
       "                                          city   reg_date      plan churn_date  \n",
       "162     Los Angeles-Long Beach-Anaheim, CA MSA 2018-07-12  ultimate     active  \n",
       "406     San Diego-Chula Vista-Carlsbad, CA MSA 2018-03-04      surf     active  \n",
       "114  New York-Newark-Jersey City, NY-NJ-PA MSA 2018-07-21      surf     active  \n",
       "344  New York-Newark-Jersey City, NY-NJ-PA MSA 2018-12-25      surf     active  \n",
       "113  New York-Newark-Jersey City, NY-NJ-PA MSA 2018-06-04  ultimate     active  \n",
       "349         Boston-Cambridge-Newton, MA-NH MSA 2018-10-01      surf     active  \n",
       "316                              Tulsa, OK MSA 2018-05-21      surf     active  \n",
       "345     Los Angeles-Long Beach-Anaheim, CA MSA 2018-07-12      surf     active  \n",
       "307         Boston-Cambridge-Newton, MA-NH MSA 2018-12-31      surf     active  \n",
       "209     Los Angeles-Long Beach-Anaheim, CA MSA 2018-08-28      surf     active  "
      ]
     },
     "execution_count": 8,
     "metadata": {},
     "output_type": "execute_result"
    }
   ],
   "source": [
    "users['churn_date']= users['churn_date'].fillna('active')\n",
    "\n",
    "\n",
    "users.info()\n",
    "users.sample(10)"
   ]
  },
  {
   "cell_type": "markdown",
   "metadata": {
    "id": "o7MeKCid0q08"
   },
   "source": [
    "## Llamadas"
   ]
  },
  {
   "cell_type": "code",
   "execution_count": 9,
   "metadata": {
    "id": "6dDlnoDm0q08"
   },
   "outputs": [
    {
     "name": "stdout",
     "output_type": "stream",
     "text": [
      "<class 'pandas.core.frame.DataFrame'>\n",
      "RangeIndex: 137735 entries, 0 to 137734\n",
      "Data columns (total 4 columns):\n",
      " #   Column     Non-Null Count   Dtype  \n",
      "---  ------     --------------   -----  \n",
      " 0   id         137735 non-null  object \n",
      " 1   user_id    137735 non-null  int64  \n",
      " 2   call_date  137735 non-null  object \n",
      " 3   duration   137735 non-null  float64\n",
      "dtypes: float64(1), int64(1), object(2)\n",
      "memory usage: 4.2+ MB\n"
     ]
    }
   ],
   "source": [
    "calls.info()\n",
    "\n"
   ]
  },
  {
   "cell_type": "code",
   "execution_count": 10,
   "metadata": {
    "id": "kuh1vlNB0q09"
   },
   "outputs": [
    {
     "data": {
      "text/html": [
       "<div>\n",
       "<style scoped>\n",
       "    .dataframe tbody tr th:only-of-type {\n",
       "        vertical-align: middle;\n",
       "    }\n",
       "\n",
       "    .dataframe tbody tr th {\n",
       "        vertical-align: top;\n",
       "    }\n",
       "\n",
       "    .dataframe thead th {\n",
       "        text-align: right;\n",
       "    }\n",
       "</style>\n",
       "<table border=\"1\" class=\"dataframe\">\n",
       "  <thead>\n",
       "    <tr style=\"text-align: right;\">\n",
       "      <th></th>\n",
       "      <th>id</th>\n",
       "      <th>user_id</th>\n",
       "      <th>call_date</th>\n",
       "      <th>duration</th>\n",
       "    </tr>\n",
       "  </thead>\n",
       "  <tbody>\n",
       "    <tr>\n",
       "      <th>22839</th>\n",
       "      <td>1082_1006</td>\n",
       "      <td>1082</td>\n",
       "      <td>2018-08-01</td>\n",
       "      <td>0.00</td>\n",
       "    </tr>\n",
       "    <tr>\n",
       "      <th>5616</th>\n",
       "      <td>1027_159</td>\n",
       "      <td>1027</td>\n",
       "      <td>2018-09-24</td>\n",
       "      <td>11.45</td>\n",
       "    </tr>\n",
       "    <tr>\n",
       "      <th>110902</th>\n",
       "      <td>1390_351</td>\n",
       "      <td>1390</td>\n",
       "      <td>2018-04-08</td>\n",
       "      <td>0.00</td>\n",
       "    </tr>\n",
       "    <tr>\n",
       "      <th>5303</th>\n",
       "      <td>1023_2</td>\n",
       "      <td>1023</td>\n",
       "      <td>2018-07-22</td>\n",
       "      <td>3.00</td>\n",
       "    </tr>\n",
       "    <tr>\n",
       "      <th>63530</th>\n",
       "      <td>1231_244</td>\n",
       "      <td>1231</td>\n",
       "      <td>2018-06-27</td>\n",
       "      <td>13.11</td>\n",
       "    </tr>\n",
       "    <tr>\n",
       "      <th>128257</th>\n",
       "      <td>1460_356</td>\n",
       "      <td>1460</td>\n",
       "      <td>2018-11-06</td>\n",
       "      <td>7.93</td>\n",
       "    </tr>\n",
       "    <tr>\n",
       "      <th>63110</th>\n",
       "      <td>1228_34</td>\n",
       "      <td>1228</td>\n",
       "      <td>2018-10-30</td>\n",
       "      <td>9.18</td>\n",
       "    </tr>\n",
       "    <tr>\n",
       "      <th>54569</th>\n",
       "      <td>1196_458</td>\n",
       "      <td>1196</td>\n",
       "      <td>2018-06-15</td>\n",
       "      <td>10.04</td>\n",
       "    </tr>\n",
       "    <tr>\n",
       "      <th>2077</th>\n",
       "      <td>1009_499</td>\n",
       "      <td>1009</td>\n",
       "      <td>2018-07-26</td>\n",
       "      <td>4.73</td>\n",
       "    </tr>\n",
       "    <tr>\n",
       "      <th>79783</th>\n",
       "      <td>1285_285</td>\n",
       "      <td>1285</td>\n",
       "      <td>2018-10-09</td>\n",
       "      <td>3.53</td>\n",
       "    </tr>\n",
       "  </tbody>\n",
       "</table>\n",
       "</div>"
      ],
      "text/plain": [
       "               id  user_id   call_date  duration\n",
       "22839   1082_1006     1082  2018-08-01      0.00\n",
       "5616     1027_159     1027  2018-09-24     11.45\n",
       "110902   1390_351     1390  2018-04-08      0.00\n",
       "5303       1023_2     1023  2018-07-22      3.00\n",
       "63530    1231_244     1231  2018-06-27     13.11\n",
       "128257   1460_356     1460  2018-11-06      7.93\n",
       "63110     1228_34     1228  2018-10-30      9.18\n",
       "54569    1196_458     1196  2018-06-15     10.04\n",
       "2077     1009_499     1009  2018-07-26      4.73\n",
       "79783    1285_285     1285  2018-10-09      3.53"
      ]
     },
     "execution_count": 10,
     "metadata": {},
     "output_type": "execute_result"
    }
   ],
   "source": [
    "calls.sample(10)\n",
    "\n"
   ]
  },
  {
   "cell_type": "markdown",
   "metadata": {
    "id": "DOAxYJSx0q09"
   },
   "source": [
    "[Describe lo que ves y observas en la información general y en la muestra de datos impresa para el precio de datos anterior. ¿Hay algún problema (tipos de datos no adecuados, datos ausentes, etc.) que pudieran necesitar investigación y cambios adicionales? ¿Cómo se puede arreglar?]"
   ]
  },
  {
   "cell_type": "markdown",
   "metadata": {},
   "source": [
    "**Noto que no hay valores ausentes pero si podrímos hacer cambios en los tipos de datos en las columnas 'user_id' y 'call_data' para facilitar su análisis.**"
   ]
  },
  {
   "cell_type": "markdown",
   "metadata": {
    "id": "S7hzxmbX0q0-"
   },
   "source": [
    "### Corregir los datos"
   ]
  },
  {
   "cell_type": "markdown",
   "metadata": {
    "id": "YxWyAjD20q0-"
   },
   "source": [
    "[Corrige los problemas obvios con los datos basándote en las observaciones iniciales.]"
   ]
  },
  {
   "cell_type": "code",
   "execution_count": 11,
   "metadata": {
    "id": "S2r8xA4f0q0-"
   },
   "outputs": [
    {
     "name": "stdout",
     "output_type": "stream",
     "text": [
      "<class 'pandas.core.frame.DataFrame'>\n",
      "RangeIndex: 137735 entries, 0 to 137734\n",
      "Data columns (total 4 columns):\n",
      " #   Column     Non-Null Count   Dtype         \n",
      "---  ------     --------------   -----         \n",
      " 0   id         137735 non-null  object        \n",
      " 1   user_id    137735 non-null  object        \n",
      " 2   call_date  137735 non-null  datetime64[ns]\n",
      " 3   duration   137735 non-null  float64       \n",
      "dtypes: datetime64[ns](1), float64(1), object(2)\n",
      "memory usage: 4.2+ MB\n"
     ]
    },
    {
     "data": {
      "text/html": [
       "<div>\n",
       "<style scoped>\n",
       "    .dataframe tbody tr th:only-of-type {\n",
       "        vertical-align: middle;\n",
       "    }\n",
       "\n",
       "    .dataframe tbody tr th {\n",
       "        vertical-align: top;\n",
       "    }\n",
       "\n",
       "    .dataframe thead th {\n",
       "        text-align: right;\n",
       "    }\n",
       "</style>\n",
       "<table border=\"1\" class=\"dataframe\">\n",
       "  <thead>\n",
       "    <tr style=\"text-align: right;\">\n",
       "      <th></th>\n",
       "      <th>id</th>\n",
       "      <th>user_id</th>\n",
       "      <th>call_date</th>\n",
       "      <th>duration</th>\n",
       "    </tr>\n",
       "  </thead>\n",
       "  <tbody>\n",
       "    <tr>\n",
       "      <th>48345</th>\n",
       "      <td>1174_322</td>\n",
       "      <td>1174</td>\n",
       "      <td>2018-10-12</td>\n",
       "      <td>17.17</td>\n",
       "    </tr>\n",
       "    <tr>\n",
       "      <th>20692</th>\n",
       "      <td>1077_659</td>\n",
       "      <td>1077</td>\n",
       "      <td>2018-04-04</td>\n",
       "      <td>16.72</td>\n",
       "    </tr>\n",
       "    <tr>\n",
       "      <th>75010</th>\n",
       "      <td>1264_351</td>\n",
       "      <td>1264</td>\n",
       "      <td>2018-12-25</td>\n",
       "      <td>12.37</td>\n",
       "    </tr>\n",
       "    <tr>\n",
       "      <th>69085</th>\n",
       "      <td>1247_418</td>\n",
       "      <td>1247</td>\n",
       "      <td>2018-12-01</td>\n",
       "      <td>6.82</td>\n",
       "    </tr>\n",
       "    <tr>\n",
       "      <th>72492</th>\n",
       "      <td>1257_232</td>\n",
       "      <td>1257</td>\n",
       "      <td>2018-10-12</td>\n",
       "      <td>12.27</td>\n",
       "    </tr>\n",
       "    <tr>\n",
       "      <th>19844</th>\n",
       "      <td>1076_185</td>\n",
       "      <td>1076</td>\n",
       "      <td>2018-11-23</td>\n",
       "      <td>7.78</td>\n",
       "    </tr>\n",
       "    <tr>\n",
       "      <th>52942</th>\n",
       "      <td>1191_90</td>\n",
       "      <td>1191</td>\n",
       "      <td>2018-08-09</td>\n",
       "      <td>6.39</td>\n",
       "    </tr>\n",
       "    <tr>\n",
       "      <th>18412</th>\n",
       "      <td>1071_192</td>\n",
       "      <td>1071</td>\n",
       "      <td>2018-07-22</td>\n",
       "      <td>0.00</td>\n",
       "    </tr>\n",
       "    <tr>\n",
       "      <th>106991</th>\n",
       "      <td>1380_15</td>\n",
       "      <td>1380</td>\n",
       "      <td>2018-12-03</td>\n",
       "      <td>14.44</td>\n",
       "    </tr>\n",
       "    <tr>\n",
       "      <th>102353</th>\n",
       "      <td>1362_1130</td>\n",
       "      <td>1362</td>\n",
       "      <td>2018-12-01</td>\n",
       "      <td>7.71</td>\n",
       "    </tr>\n",
       "  </tbody>\n",
       "</table>\n",
       "</div>"
      ],
      "text/plain": [
       "               id user_id  call_date  duration\n",
       "48345    1174_322    1174 2018-10-12     17.17\n",
       "20692    1077_659    1077 2018-04-04     16.72\n",
       "75010    1264_351    1264 2018-12-25     12.37\n",
       "69085    1247_418    1247 2018-12-01      6.82\n",
       "72492    1257_232    1257 2018-10-12     12.27\n",
       "19844    1076_185    1076 2018-11-23      7.78\n",
       "52942     1191_90    1191 2018-08-09      6.39\n",
       "18412    1071_192    1071 2018-07-22      0.00\n",
       "106991    1380_15    1380 2018-12-03     14.44\n",
       "102353  1362_1130    1362 2018-12-01      7.71"
      ]
     },
     "execution_count": 11,
     "metadata": {},
     "output_type": "execute_result"
    }
   ],
   "source": [
    "calls['user_id']= calls['user_id'].astype(str)\n",
    "calls['call_date'] = pd.to_datetime(calls['call_date'], errors= 'coerce')\n",
    "\n",
    "calls.info()\n",
    "calls.sample(10)"
   ]
  },
  {
   "cell_type": "markdown",
   "metadata": {
    "id": "KrMgTrlG0q0_"
   },
   "source": [
    "### Enriquecer los datos"
   ]
  },
  {
   "cell_type": "markdown",
   "metadata": {
    "id": "a9MbmEvE0q0_"
   },
   "source": [
    "[Agrega factores adicionales a los datos si crees que pudieran ser útiles.]"
   ]
  },
  {
   "cell_type": "code",
   "execution_count": null,
   "metadata": {
    "id": "iZ1avpA_0q0_"
   },
   "outputs": [],
   "source": []
  },
  {
   "cell_type": "markdown",
   "metadata": {
    "id": "mOUZSi180q0_"
   },
   "source": [
    "## Mensajes"
   ]
  },
  {
   "cell_type": "code",
   "execution_count": 12,
   "metadata": {
    "id": "R-bYJpdV0q1A"
   },
   "outputs": [
    {
     "name": "stdout",
     "output_type": "stream",
     "text": [
      "<class 'pandas.core.frame.DataFrame'>\n",
      "RangeIndex: 76051 entries, 0 to 76050\n",
      "Data columns (total 3 columns):\n",
      " #   Column        Non-Null Count  Dtype \n",
      "---  ------        --------------  ----- \n",
      " 0   id            76051 non-null  object\n",
      " 1   user_id       76051 non-null  int64 \n",
      " 2   message_date  76051 non-null  object\n",
      "dtypes: int64(1), object(2)\n",
      "memory usage: 1.7+ MB\n"
     ]
    }
   ],
   "source": [
    "menssages.info()\n",
    "\n"
   ]
  },
  {
   "cell_type": "code",
   "execution_count": 13,
   "metadata": {
    "id": "mCEl2iGE0q1A"
   },
   "outputs": [
    {
     "data": {
      "text/html": [
       "<div>\n",
       "<style scoped>\n",
       "    .dataframe tbody tr th:only-of-type {\n",
       "        vertical-align: middle;\n",
       "    }\n",
       "\n",
       "    .dataframe tbody tr th {\n",
       "        vertical-align: top;\n",
       "    }\n",
       "\n",
       "    .dataframe thead th {\n",
       "        text-align: right;\n",
       "    }\n",
       "</style>\n",
       "<table border=\"1\" class=\"dataframe\">\n",
       "  <thead>\n",
       "    <tr style=\"text-align: right;\">\n",
       "      <th></th>\n",
       "      <th>id</th>\n",
       "      <th>user_id</th>\n",
       "      <th>message_date</th>\n",
       "    </tr>\n",
       "  </thead>\n",
       "  <tbody>\n",
       "    <tr>\n",
       "      <th>59370</th>\n",
       "      <td>1374_544</td>\n",
       "      <td>1374</td>\n",
       "      <td>2018-11-11</td>\n",
       "    </tr>\n",
       "    <tr>\n",
       "      <th>61391</th>\n",
       "      <td>1384_509</td>\n",
       "      <td>1384</td>\n",
       "      <td>2018-09-14</td>\n",
       "    </tr>\n",
       "    <tr>\n",
       "      <th>70080</th>\n",
       "      <td>1455_16</td>\n",
       "      <td>1455</td>\n",
       "      <td>2018-11-29</td>\n",
       "    </tr>\n",
       "    <tr>\n",
       "      <th>14927</th>\n",
       "      <td>1100_249</td>\n",
       "      <td>1100</td>\n",
       "      <td>2018-11-17</td>\n",
       "    </tr>\n",
       "    <tr>\n",
       "      <th>1562</th>\n",
       "      <td>1015_561</td>\n",
       "      <td>1015</td>\n",
       "      <td>2018-12-26</td>\n",
       "    </tr>\n",
       "    <tr>\n",
       "      <th>75885</th>\n",
       "      <td>1494_123</td>\n",
       "      <td>1494</td>\n",
       "      <td>2018-10-01</td>\n",
       "    </tr>\n",
       "    <tr>\n",
       "      <th>75136</th>\n",
       "      <td>1489_211</td>\n",
       "      <td>1489</td>\n",
       "      <td>2018-10-31</td>\n",
       "    </tr>\n",
       "    <tr>\n",
       "      <th>7130</th>\n",
       "      <td>1058_196</td>\n",
       "      <td>1058</td>\n",
       "      <td>2018-12-11</td>\n",
       "    </tr>\n",
       "    <tr>\n",
       "      <th>70215</th>\n",
       "      <td>1456_129</td>\n",
       "      <td>1456</td>\n",
       "      <td>2018-07-24</td>\n",
       "    </tr>\n",
       "    <tr>\n",
       "      <th>40408</th>\n",
       "      <td>1261_35</td>\n",
       "      <td>1261</td>\n",
       "      <td>2018-08-10</td>\n",
       "    </tr>\n",
       "  </tbody>\n",
       "</table>\n",
       "</div>"
      ],
      "text/plain": [
       "             id  user_id message_date\n",
       "59370  1374_544     1374   2018-11-11\n",
       "61391  1384_509     1384   2018-09-14\n",
       "70080   1455_16     1455   2018-11-29\n",
       "14927  1100_249     1100   2018-11-17\n",
       "1562   1015_561     1015   2018-12-26\n",
       "75885  1494_123     1494   2018-10-01\n",
       "75136  1489_211     1489   2018-10-31\n",
       "7130   1058_196     1058   2018-12-11\n",
       "70215  1456_129     1456   2018-07-24\n",
       "40408   1261_35     1261   2018-08-10"
      ]
     },
     "execution_count": 13,
     "metadata": {},
     "output_type": "execute_result"
    }
   ],
   "source": [
    "menssages.sample(10)\n",
    "\n"
   ]
  },
  {
   "cell_type": "markdown",
   "metadata": {
    "id": "04xDj7KH0q1A"
   },
   "source": [
    "[Describe lo que ves y observas en la información general y en la muestra de datos impresa para el precio de datos anterior. ¿Hay algún problema (tipos de datos no adecuados, datos ausentes, etc.) que pudieran necesitar investigación y cambios adicionales? ¿Cómo se puede arreglar?]"
   ]
  },
  {
   "cell_type": "markdown",
   "metadata": {},
   "source": [
    "**Se observa que no existen valores nulos y aunque tenemos valores repetidos en la columna user_id no podemos eliminarlos ya que cada fila es diferente. Sólo podemos cambiar los tipos de datos de user_id y message_date.**"
   ]
  },
  {
   "cell_type": "markdown",
   "metadata": {
    "id": "Sprfak900q1B"
   },
   "source": [
    "### Corregir los datos"
   ]
  },
  {
   "cell_type": "markdown",
   "metadata": {
    "id": "eGw7d9j10q1B"
   },
   "source": [
    "[Corrige los problemas obvios con los datos basándote en las observaciones iniciales.]"
   ]
  },
  {
   "cell_type": "code",
   "execution_count": 14,
   "metadata": {
    "id": "vsllvkoa0q1B"
   },
   "outputs": [
    {
     "name": "stdout",
     "output_type": "stream",
     "text": [
      "<class 'pandas.core.frame.DataFrame'>\n",
      "RangeIndex: 76051 entries, 0 to 76050\n",
      "Data columns (total 3 columns):\n",
      " #   Column        Non-Null Count  Dtype         \n",
      "---  ------        --------------  -----         \n",
      " 0   id            76051 non-null  object        \n",
      " 1   user_id       76051 non-null  object        \n",
      " 2   message_date  76051 non-null  datetime64[ns]\n",
      "dtypes: datetime64[ns](1), object(2)\n",
      "memory usage: 1.7+ MB\n"
     ]
    },
    {
     "data": {
      "text/html": [
       "<div>\n",
       "<style scoped>\n",
       "    .dataframe tbody tr th:only-of-type {\n",
       "        vertical-align: middle;\n",
       "    }\n",
       "\n",
       "    .dataframe tbody tr th {\n",
       "        vertical-align: top;\n",
       "    }\n",
       "\n",
       "    .dataframe thead th {\n",
       "        text-align: right;\n",
       "    }\n",
       "</style>\n",
       "<table border=\"1\" class=\"dataframe\">\n",
       "  <thead>\n",
       "    <tr style=\"text-align: right;\">\n",
       "      <th></th>\n",
       "      <th>id</th>\n",
       "      <th>user_id</th>\n",
       "      <th>message_date</th>\n",
       "    </tr>\n",
       "  </thead>\n",
       "  <tbody>\n",
       "    <tr>\n",
       "      <th>2593</th>\n",
       "      <td>1028_516</td>\n",
       "      <td>1028</td>\n",
       "      <td>2018-09-16</td>\n",
       "    </tr>\n",
       "    <tr>\n",
       "      <th>55398</th>\n",
       "      <td>1348_174</td>\n",
       "      <td>1348</td>\n",
       "      <td>2018-12-20</td>\n",
       "    </tr>\n",
       "    <tr>\n",
       "      <th>9008</th>\n",
       "      <td>1066_181</td>\n",
       "      <td>1066</td>\n",
       "      <td>2018-08-26</td>\n",
       "    </tr>\n",
       "    <tr>\n",
       "      <th>56967</th>\n",
       "      <td>1362_32</td>\n",
       "      <td>1362</td>\n",
       "      <td>2018-07-11</td>\n",
       "    </tr>\n",
       "    <tr>\n",
       "      <th>20759</th>\n",
       "      <td>1131_98</td>\n",
       "      <td>1131</td>\n",
       "      <td>2018-07-09</td>\n",
       "    </tr>\n",
       "    <tr>\n",
       "      <th>33507</th>\n",
       "      <td>1211_183</td>\n",
       "      <td>1211</td>\n",
       "      <td>2018-07-14</td>\n",
       "    </tr>\n",
       "    <tr>\n",
       "      <th>39319</th>\n",
       "      <td>1255_537</td>\n",
       "      <td>1255</td>\n",
       "      <td>2018-09-15</td>\n",
       "    </tr>\n",
       "    <tr>\n",
       "      <th>74416</th>\n",
       "      <td>1476_183</td>\n",
       "      <td>1476</td>\n",
       "      <td>2018-11-03</td>\n",
       "    </tr>\n",
       "    <tr>\n",
       "      <th>65213</th>\n",
       "      <td>1419_22</td>\n",
       "      <td>1419</td>\n",
       "      <td>2018-12-12</td>\n",
       "    </tr>\n",
       "    <tr>\n",
       "      <th>72866</th>\n",
       "      <td>1470_494</td>\n",
       "      <td>1470</td>\n",
       "      <td>2018-12-06</td>\n",
       "    </tr>\n",
       "  </tbody>\n",
       "</table>\n",
       "</div>"
      ],
      "text/plain": [
       "             id user_id message_date\n",
       "2593   1028_516    1028   2018-09-16\n",
       "55398  1348_174    1348   2018-12-20\n",
       "9008   1066_181    1066   2018-08-26\n",
       "56967   1362_32    1362   2018-07-11\n",
       "20759   1131_98    1131   2018-07-09\n",
       "33507  1211_183    1211   2018-07-14\n",
       "39319  1255_537    1255   2018-09-15\n",
       "74416  1476_183    1476   2018-11-03\n",
       "65213   1419_22    1419   2018-12-12\n",
       "72866  1470_494    1470   2018-12-06"
      ]
     },
     "execution_count": 14,
     "metadata": {},
     "output_type": "execute_result"
    }
   ],
   "source": [
    "menssages['user_id'] = menssages['user_id'].astype(str)\n",
    "menssages['message_date'] = pd.to_datetime(menssages['message_date'], errors = 'coerce')\n",
    "\n",
    "menssages.info()\n",
    "menssages.sample(10)"
   ]
  },
  {
   "cell_type": "markdown",
   "metadata": {
    "id": "HvLid7iD0q1B"
   },
   "source": [
    "### Enriquecer los datos"
   ]
  },
  {
   "cell_type": "markdown",
   "metadata": {
    "id": "8nhPFKIe0q1C"
   },
   "source": [
    "[Agrega factores adicionales a los datos si crees que pudieran ser útiles.]"
   ]
  },
  {
   "cell_type": "code",
   "execution_count": null,
   "metadata": {
    "id": "zYEXZac10q1C"
   },
   "outputs": [],
   "source": []
  },
  {
   "cell_type": "markdown",
   "metadata": {
    "id": "bStkaxn40q1C"
   },
   "source": [
    "## Internet"
   ]
  },
  {
   "cell_type": "code",
   "execution_count": 15,
   "metadata": {
    "id": "e-Uz5qyn0q1C"
   },
   "outputs": [
    {
     "name": "stdout",
     "output_type": "stream",
     "text": [
      "<class 'pandas.core.frame.DataFrame'>\n",
      "RangeIndex: 104825 entries, 0 to 104824\n",
      "Data columns (total 4 columns):\n",
      " #   Column        Non-Null Count   Dtype  \n",
      "---  ------        --------------   -----  \n",
      " 0   id            104825 non-null  object \n",
      " 1   user_id       104825 non-null  int64  \n",
      " 2   session_date  104825 non-null  object \n",
      " 3   mb_used       104825 non-null  float64\n",
      "dtypes: float64(1), int64(1), object(2)\n",
      "memory usage: 3.2+ MB\n"
     ]
    }
   ],
   "source": [
    "internet.info()\n",
    "\n"
   ]
  },
  {
   "cell_type": "code",
   "execution_count": 16,
   "metadata": {
    "id": "9r3x_XLw0q1C"
   },
   "outputs": [
    {
     "data": {
      "text/html": [
       "<div>\n",
       "<style scoped>\n",
       "    .dataframe tbody tr th:only-of-type {\n",
       "        vertical-align: middle;\n",
       "    }\n",
       "\n",
       "    .dataframe tbody tr th {\n",
       "        vertical-align: top;\n",
       "    }\n",
       "\n",
       "    .dataframe thead th {\n",
       "        text-align: right;\n",
       "    }\n",
       "</style>\n",
       "<table border=\"1\" class=\"dataframe\">\n",
       "  <thead>\n",
       "    <tr style=\"text-align: right;\">\n",
       "      <th></th>\n",
       "      <th>id</th>\n",
       "      <th>user_id</th>\n",
       "      <th>session_date</th>\n",
       "      <th>mb_used</th>\n",
       "    </tr>\n",
       "  </thead>\n",
       "  <tbody>\n",
       "    <tr>\n",
       "      <th>83614</th>\n",
       "      <td>1390_169</td>\n",
       "      <td>1390</td>\n",
       "      <td>2018-10-19</td>\n",
       "      <td>639.84</td>\n",
       "    </tr>\n",
       "    <tr>\n",
       "      <th>53793</th>\n",
       "      <td>1243_95</td>\n",
       "      <td>1243</td>\n",
       "      <td>2018-12-15</td>\n",
       "      <td>0.00</td>\n",
       "    </tr>\n",
       "    <tr>\n",
       "      <th>32855</th>\n",
       "      <td>1147_508</td>\n",
       "      <td>1147</td>\n",
       "      <td>2018-06-29</td>\n",
       "      <td>768.52</td>\n",
       "    </tr>\n",
       "    <tr>\n",
       "      <th>44709</th>\n",
       "      <td>1198_83</td>\n",
       "      <td>1198</td>\n",
       "      <td>2018-11-03</td>\n",
       "      <td>757.08</td>\n",
       "    </tr>\n",
       "    <tr>\n",
       "      <th>14611</th>\n",
       "      <td>1066_507</td>\n",
       "      <td>1066</td>\n",
       "      <td>2018-05-08</td>\n",
       "      <td>47.42</td>\n",
       "    </tr>\n",
       "    <tr>\n",
       "      <th>86138</th>\n",
       "      <td>1400_272</td>\n",
       "      <td>1400</td>\n",
       "      <td>2018-10-08</td>\n",
       "      <td>542.18</td>\n",
       "    </tr>\n",
       "    <tr>\n",
       "      <th>73569</th>\n",
       "      <td>1346_150</td>\n",
       "      <td>1346</td>\n",
       "      <td>2018-12-05</td>\n",
       "      <td>395.73</td>\n",
       "    </tr>\n",
       "    <tr>\n",
       "      <th>20151</th>\n",
       "      <td>1090_391</td>\n",
       "      <td>1090</td>\n",
       "      <td>2018-07-03</td>\n",
       "      <td>658.34</td>\n",
       "    </tr>\n",
       "    <tr>\n",
       "      <th>28103</th>\n",
       "      <td>1128_257</td>\n",
       "      <td>1128</td>\n",
       "      <td>2018-12-23</td>\n",
       "      <td>0.00</td>\n",
       "    </tr>\n",
       "    <tr>\n",
       "      <th>100194</th>\n",
       "      <td>1474_551</td>\n",
       "      <td>1474</td>\n",
       "      <td>2018-10-10</td>\n",
       "      <td>0.00</td>\n",
       "    </tr>\n",
       "  </tbody>\n",
       "</table>\n",
       "</div>"
      ],
      "text/plain": [
       "              id  user_id session_date  mb_used\n",
       "83614   1390_169     1390   2018-10-19   639.84\n",
       "53793    1243_95     1243   2018-12-15     0.00\n",
       "32855   1147_508     1147   2018-06-29   768.52\n",
       "44709    1198_83     1198   2018-11-03   757.08\n",
       "14611   1066_507     1066   2018-05-08    47.42\n",
       "86138   1400_272     1400   2018-10-08   542.18\n",
       "73569   1346_150     1346   2018-12-05   395.73\n",
       "20151   1090_391     1090   2018-07-03   658.34\n",
       "28103   1128_257     1128   2018-12-23     0.00\n",
       "100194  1474_551     1474   2018-10-10     0.00"
      ]
     },
     "execution_count": 16,
     "metadata": {},
     "output_type": "execute_result"
    }
   ],
   "source": [
    "internet.sample(10)\n",
    "\n"
   ]
  },
  {
   "cell_type": "markdown",
   "metadata": {
    "id": "EzOG5ik30q1D"
   },
   "source": [
    "[Describe lo que ves y observas en la información general y en la muestra de datos impresa para el precio de datos anterior. ¿Hay algún problema (tipos de datos no adecuados, datos ausentes, etc.) que pudieran necesitar investigación y cambios adicionales? ¿Cómo se puede arreglar?]"
   ]
  },
  {
   "cell_type": "markdown",
   "metadata": {},
   "source": [
    "**Se observa que no existen valores nulos y aunque tenemos valores repetidos en la columna user_id no podemos eliminarlos ya que cada fila es diferente. Sólo podemos cambiar los tipos de datos de user_id y session_date**"
   ]
  },
  {
   "cell_type": "markdown",
   "metadata": {
    "id": "yA0tkPFg0q1D"
   },
   "source": [
    "### Corregir los datos"
   ]
  },
  {
   "cell_type": "markdown",
   "metadata": {
    "id": "zlZMuIEK0q1D"
   },
   "source": [
    "[Corrige los problemas obvios con los datos basándote en las observaciones iniciales.]"
   ]
  },
  {
   "cell_type": "code",
   "execution_count": 17,
   "metadata": {
    "id": "zVeanzdd0q1E"
   },
   "outputs": [
    {
     "name": "stdout",
     "output_type": "stream",
     "text": [
      "<class 'pandas.core.frame.DataFrame'>\n",
      "RangeIndex: 104825 entries, 0 to 104824\n",
      "Data columns (total 4 columns):\n",
      " #   Column        Non-Null Count   Dtype         \n",
      "---  ------        --------------   -----         \n",
      " 0   id            104825 non-null  object        \n",
      " 1   user_id       104825 non-null  object        \n",
      " 2   session_date  104825 non-null  datetime64[ns]\n",
      " 3   mb_used       104825 non-null  float64       \n",
      "dtypes: datetime64[ns](1), float64(1), object(2)\n",
      "memory usage: 3.2+ MB\n"
     ]
    },
    {
     "data": {
      "text/html": [
       "<div>\n",
       "<style scoped>\n",
       "    .dataframe tbody tr th:only-of-type {\n",
       "        vertical-align: middle;\n",
       "    }\n",
       "\n",
       "    .dataframe tbody tr th {\n",
       "        vertical-align: top;\n",
       "    }\n",
       "\n",
       "    .dataframe thead th {\n",
       "        text-align: right;\n",
       "    }\n",
       "</style>\n",
       "<table border=\"1\" class=\"dataframe\">\n",
       "  <thead>\n",
       "    <tr style=\"text-align: right;\">\n",
       "      <th></th>\n",
       "      <th>id</th>\n",
       "      <th>user_id</th>\n",
       "      <th>session_date</th>\n",
       "      <th>mb_used</th>\n",
       "    </tr>\n",
       "  </thead>\n",
       "  <tbody>\n",
       "    <tr>\n",
       "      <th>44862</th>\n",
       "      <td>1199_75</td>\n",
       "      <td>1199</td>\n",
       "      <td>2018-10-21</td>\n",
       "      <td>228.61</td>\n",
       "    </tr>\n",
       "    <tr>\n",
       "      <th>49542</th>\n",
       "      <td>1222_41</td>\n",
       "      <td>1222</td>\n",
       "      <td>2018-08-30</td>\n",
       "      <td>202.79</td>\n",
       "    </tr>\n",
       "    <tr>\n",
       "      <th>92135</th>\n",
       "      <td>1428_15</td>\n",
       "      <td>1428</td>\n",
       "      <td>2018-11-29</td>\n",
       "      <td>230.38</td>\n",
       "    </tr>\n",
       "    <tr>\n",
       "      <th>68311</th>\n",
       "      <td>1318_251</td>\n",
       "      <td>1318</td>\n",
       "      <td>2018-10-12</td>\n",
       "      <td>279.66</td>\n",
       "    </tr>\n",
       "    <tr>\n",
       "      <th>23040</th>\n",
       "      <td>1106_297</td>\n",
       "      <td>1106</td>\n",
       "      <td>2018-12-30</td>\n",
       "      <td>576.62</td>\n",
       "    </tr>\n",
       "    <tr>\n",
       "      <th>16475</th>\n",
       "      <td>1073_416</td>\n",
       "      <td>1073</td>\n",
       "      <td>2018-09-02</td>\n",
       "      <td>0.00</td>\n",
       "    </tr>\n",
       "    <tr>\n",
       "      <th>5873</th>\n",
       "      <td>1032_34</td>\n",
       "      <td>1032</td>\n",
       "      <td>2018-11-21</td>\n",
       "      <td>454.49</td>\n",
       "    </tr>\n",
       "    <tr>\n",
       "      <th>83925</th>\n",
       "      <td>1391_169</td>\n",
       "      <td>1391</td>\n",
       "      <td>2018-12-31</td>\n",
       "      <td>233.88</td>\n",
       "    </tr>\n",
       "    <tr>\n",
       "      <th>60524</th>\n",
       "      <td>1276_8</td>\n",
       "      <td>1276</td>\n",
       "      <td>2018-11-30</td>\n",
       "      <td>37.08</td>\n",
       "    </tr>\n",
       "    <tr>\n",
       "      <th>61594</th>\n",
       "      <td>1280_97</td>\n",
       "      <td>1280</td>\n",
       "      <td>2018-11-18</td>\n",
       "      <td>775.09</td>\n",
       "    </tr>\n",
       "  </tbody>\n",
       "</table>\n",
       "</div>"
      ],
      "text/plain": [
       "             id user_id session_date  mb_used\n",
       "44862   1199_75    1199   2018-10-21   228.61\n",
       "49542   1222_41    1222   2018-08-30   202.79\n",
       "92135   1428_15    1428   2018-11-29   230.38\n",
       "68311  1318_251    1318   2018-10-12   279.66\n",
       "23040  1106_297    1106   2018-12-30   576.62\n",
       "16475  1073_416    1073   2018-09-02     0.00\n",
       "5873    1032_34    1032   2018-11-21   454.49\n",
       "83925  1391_169    1391   2018-12-31   233.88\n",
       "60524    1276_8    1276   2018-11-30    37.08\n",
       "61594   1280_97    1280   2018-11-18   775.09"
      ]
     },
     "execution_count": 17,
     "metadata": {},
     "output_type": "execute_result"
    }
   ],
   "source": [
    "internet['user_id'] = internet['user_id'].astype(str)\n",
    "internet['session_date'] = pd.to_datetime(internet['session_date'], errors = 'coerce')\n",
    "\n",
    "\n",
    "\n",
    "internet.info()\n",
    "internet.sample(10)"
   ]
  },
  {
   "cell_type": "markdown",
   "metadata": {
    "id": "e8_mLF4a0q1E"
   },
   "source": [
    "### Enriquecer los datos"
   ]
  },
  {
   "cell_type": "markdown",
   "metadata": {
    "id": "xhNdn2tE0q1E"
   },
   "source": [
    "[Agrega factores adicionales a los datos si crees que pudieran ser útiles.]"
   ]
  },
  {
   "cell_type": "code",
   "execution_count": null,
   "metadata": {
    "id": "ESiYPIEK0q1E"
   },
   "outputs": [],
   "source": []
  },
  {
   "cell_type": "markdown",
   "metadata": {
    "id": "3UA2cqIW0q1E"
   },
   "source": [
    "## Estudiar las condiciones de las tarifas"
   ]
  },
  {
   "cell_type": "markdown",
   "metadata": {
    "id": "T86Sqltq0q1F"
   },
   "source": [
    "[Es sumamente importante entender cómo funcionan las tarifas, cómo se les cobra a los usuarios en función de su plan de suscripción. Así que te sugerimos imprimir la información de la tarifa para ver una vez más sus condiciones.]"
   ]
  },
  {
   "cell_type": "code",
   "execution_count": 18,
   "metadata": {
    "id": "i409op8p0q1F"
   },
   "outputs": [
    {
     "data": {
      "text/html": [
       "<div>\n",
       "<style scoped>\n",
       "    .dataframe tbody tr th:only-of-type {\n",
       "        vertical-align: middle;\n",
       "    }\n",
       "\n",
       "    .dataframe tbody tr th {\n",
       "        vertical-align: top;\n",
       "    }\n",
       "\n",
       "    .dataframe thead th {\n",
       "        text-align: right;\n",
       "    }\n",
       "</style>\n",
       "<table border=\"1\" class=\"dataframe\">\n",
       "  <thead>\n",
       "    <tr style=\"text-align: right;\">\n",
       "      <th></th>\n",
       "      <th>messages_included</th>\n",
       "      <th>mb_per_month_included</th>\n",
       "      <th>minutes_included</th>\n",
       "      <th>usd_monthly_pay</th>\n",
       "      <th>usd_per_gb</th>\n",
       "      <th>usd_per_message</th>\n",
       "      <th>usd_per_minute</th>\n",
       "      <th>plan_name</th>\n",
       "    </tr>\n",
       "  </thead>\n",
       "  <tbody>\n",
       "    <tr>\n",
       "      <th>0</th>\n",
       "      <td>50</td>\n",
       "      <td>15360</td>\n",
       "      <td>500</td>\n",
       "      <td>20</td>\n",
       "      <td>10</td>\n",
       "      <td>0.03</td>\n",
       "      <td>0.03</td>\n",
       "      <td>surf</td>\n",
       "    </tr>\n",
       "    <tr>\n",
       "      <th>1</th>\n",
       "      <td>1000</td>\n",
       "      <td>30720</td>\n",
       "      <td>3000</td>\n",
       "      <td>70</td>\n",
       "      <td>7</td>\n",
       "      <td>0.01</td>\n",
       "      <td>0.01</td>\n",
       "      <td>ultimate</td>\n",
       "    </tr>\n",
       "  </tbody>\n",
       "</table>\n",
       "</div>"
      ],
      "text/plain": [
       "   messages_included  mb_per_month_included  minutes_included  \\\n",
       "0                 50                  15360               500   \n",
       "1               1000                  30720              3000   \n",
       "\n",
       "   usd_monthly_pay  usd_per_gb  usd_per_message  usd_per_minute plan_name  \n",
       "0               20          10             0.03            0.03      surf  \n",
       "1               70           7             0.01            0.01  ultimate  "
      ]
     },
     "execution_count": 18,
     "metadata": {},
     "output_type": "execute_result"
    }
   ],
   "source": [
    "plans\n",
    "\n"
   ]
  },
  {
   "cell_type": "markdown",
   "metadata": {
    "id": "hMR1tP5d0q1F"
   },
   "source": [
    "## Agregar datos por usuario\n",
    "\n",
    "[Ahora que los datos están limpios, agrega los datos por usuario y por periodo para que solo haya un registro por usuario y por periodo. Esto facilitará mucho el análisis posterior.]"
   ]
  },
  {
   "cell_type": "code",
   "execution_count": 19,
   "metadata": {
    "id": "A332cedB0q1G"
   },
   "outputs": [
    {
     "data": {
      "text/html": [
       "<div>\n",
       "<style scoped>\n",
       "    .dataframe tbody tr th:only-of-type {\n",
       "        vertical-align: middle;\n",
       "    }\n",
       "\n",
       "    .dataframe tbody tr th {\n",
       "        vertical-align: top;\n",
       "    }\n",
       "\n",
       "    .dataframe thead th {\n",
       "        text-align: right;\n",
       "    }\n",
       "</style>\n",
       "<table border=\"1\" class=\"dataframe\">\n",
       "  <thead>\n",
       "    <tr style=\"text-align: right;\">\n",
       "      <th></th>\n",
       "      <th>user_id</th>\n",
       "      <th>month</th>\n",
       "      <th>number_of_calls</th>\n",
       "    </tr>\n",
       "  </thead>\n",
       "  <tbody>\n",
       "    <tr>\n",
       "      <th>0</th>\n",
       "      <td>1000</td>\n",
       "      <td>12</td>\n",
       "      <td>16</td>\n",
       "    </tr>\n",
       "    <tr>\n",
       "      <th>1</th>\n",
       "      <td>1001</td>\n",
       "      <td>8</td>\n",
       "      <td>27</td>\n",
       "    </tr>\n",
       "    <tr>\n",
       "      <th>2</th>\n",
       "      <td>1001</td>\n",
       "      <td>9</td>\n",
       "      <td>49</td>\n",
       "    </tr>\n",
       "    <tr>\n",
       "      <th>3</th>\n",
       "      <td>1001</td>\n",
       "      <td>10</td>\n",
       "      <td>65</td>\n",
       "    </tr>\n",
       "    <tr>\n",
       "      <th>4</th>\n",
       "      <td>1001</td>\n",
       "      <td>11</td>\n",
       "      <td>64</td>\n",
       "    </tr>\n",
       "    <tr>\n",
       "      <th>...</th>\n",
       "      <td>...</td>\n",
       "      <td>...</td>\n",
       "      <td>...</td>\n",
       "    </tr>\n",
       "    <tr>\n",
       "      <th>2253</th>\n",
       "      <td>1498</td>\n",
       "      <td>12</td>\n",
       "      <td>39</td>\n",
       "    </tr>\n",
       "    <tr>\n",
       "      <th>2254</th>\n",
       "      <td>1499</td>\n",
       "      <td>9</td>\n",
       "      <td>41</td>\n",
       "    </tr>\n",
       "    <tr>\n",
       "      <th>2255</th>\n",
       "      <td>1499</td>\n",
       "      <td>10</td>\n",
       "      <td>53</td>\n",
       "    </tr>\n",
       "    <tr>\n",
       "      <th>2256</th>\n",
       "      <td>1499</td>\n",
       "      <td>11</td>\n",
       "      <td>45</td>\n",
       "    </tr>\n",
       "    <tr>\n",
       "      <th>2257</th>\n",
       "      <td>1499</td>\n",
       "      <td>12</td>\n",
       "      <td>65</td>\n",
       "    </tr>\n",
       "  </tbody>\n",
       "</table>\n",
       "<p>2258 rows × 3 columns</p>\n",
       "</div>"
      ],
      "text/plain": [
       "     user_id  month  number_of_calls\n",
       "0       1000     12               16\n",
       "1       1001      8               27\n",
       "2       1001      9               49\n",
       "3       1001     10               65\n",
       "4       1001     11               64\n",
       "...      ...    ...              ...\n",
       "2253    1498     12               39\n",
       "2254    1499      9               41\n",
       "2255    1499     10               53\n",
       "2256    1499     11               45\n",
       "2257    1499     12               65\n",
       "\n",
       "[2258 rows x 3 columns]"
      ]
     },
     "execution_count": 19,
     "metadata": {},
     "output_type": "execute_result"
    }
   ],
   "source": [
    "# Primero accedemos al mes de la fecha\n",
    "calls['month'] = calls['call_date'].dt.month\n",
    "# Agrupamos el usuario y el mes extraido para contar el número de llamadas con el id, \n",
    "#adicional nombramos la columna del resultado para un mayor entendimineto de la tabla\n",
    "calls_per_user_month = calls.groupby(['user_id', 'month']).agg(number_of_calls = ('id', 'count')).reset_index()\n",
    "\n",
    "calls_per_user_month\n",
    "\n"
   ]
  },
  {
   "cell_type": "code",
   "execution_count": 20,
   "metadata": {
    "id": "aw2cmuql0q1G"
   },
   "outputs": [
    {
     "data": {
      "text/html": [
       "<div>\n",
       "<style scoped>\n",
       "    .dataframe tbody tr th:only-of-type {\n",
       "        vertical-align: middle;\n",
       "    }\n",
       "\n",
       "    .dataframe tbody tr th {\n",
       "        vertical-align: top;\n",
       "    }\n",
       "\n",
       "    .dataframe thead th {\n",
       "        text-align: right;\n",
       "    }\n",
       "</style>\n",
       "<table border=\"1\" class=\"dataframe\">\n",
       "  <thead>\n",
       "    <tr style=\"text-align: right;\">\n",
       "      <th></th>\n",
       "      <th>user_id</th>\n",
       "      <th>month</th>\n",
       "      <th>number_of_minuts</th>\n",
       "    </tr>\n",
       "  </thead>\n",
       "  <tbody>\n",
       "    <tr>\n",
       "      <th>0</th>\n",
       "      <td>1000</td>\n",
       "      <td>12</td>\n",
       "      <td>116.83</td>\n",
       "    </tr>\n",
       "    <tr>\n",
       "      <th>1</th>\n",
       "      <td>1001</td>\n",
       "      <td>8</td>\n",
       "      <td>171.14</td>\n",
       "    </tr>\n",
       "    <tr>\n",
       "      <th>2</th>\n",
       "      <td>1001</td>\n",
       "      <td>9</td>\n",
       "      <td>297.69</td>\n",
       "    </tr>\n",
       "    <tr>\n",
       "      <th>3</th>\n",
       "      <td>1001</td>\n",
       "      <td>10</td>\n",
       "      <td>374.11</td>\n",
       "    </tr>\n",
       "    <tr>\n",
       "      <th>4</th>\n",
       "      <td>1001</td>\n",
       "      <td>11</td>\n",
       "      <td>404.59</td>\n",
       "    </tr>\n",
       "    <tr>\n",
       "      <th>...</th>\n",
       "      <td>...</td>\n",
       "      <td>...</td>\n",
       "      <td>...</td>\n",
       "    </tr>\n",
       "    <tr>\n",
       "      <th>2253</th>\n",
       "      <td>1498</td>\n",
       "      <td>12</td>\n",
       "      <td>324.77</td>\n",
       "    </tr>\n",
       "    <tr>\n",
       "      <th>2254</th>\n",
       "      <td>1499</td>\n",
       "      <td>9</td>\n",
       "      <td>330.37</td>\n",
       "    </tr>\n",
       "    <tr>\n",
       "      <th>2255</th>\n",
       "      <td>1499</td>\n",
       "      <td>10</td>\n",
       "      <td>363.28</td>\n",
       "    </tr>\n",
       "    <tr>\n",
       "      <th>2256</th>\n",
       "      <td>1499</td>\n",
       "      <td>11</td>\n",
       "      <td>288.56</td>\n",
       "    </tr>\n",
       "    <tr>\n",
       "      <th>2257</th>\n",
       "      <td>1499</td>\n",
       "      <td>12</td>\n",
       "      <td>468.10</td>\n",
       "    </tr>\n",
       "  </tbody>\n",
       "</table>\n",
       "<p>2258 rows × 3 columns</p>\n",
       "</div>"
      ],
      "text/plain": [
       "     user_id  month  number_of_minuts\n",
       "0       1000     12            116.83\n",
       "1       1001      8            171.14\n",
       "2       1001      9            297.69\n",
       "3       1001     10            374.11\n",
       "4       1001     11            404.59\n",
       "...      ...    ...               ...\n",
       "2253    1498     12            324.77\n",
       "2254    1499      9            330.37\n",
       "2255    1499     10            363.28\n",
       "2256    1499     11            288.56\n",
       "2257    1499     12            468.10\n",
       "\n",
       "[2258 rows x 3 columns]"
      ]
     },
     "execution_count": 20,
     "metadata": {},
     "output_type": "execute_result"
    }
   ],
   "source": [
    "# Primero accedemos al mes de la fecha\n",
    "calls['month'] = calls['call_date'].dt.month\n",
    "# Agrupamos por usurio, mes y sumamos los minutos, adicional nombramos la columna de la suma\n",
    "minuts_per_user_month = calls.groupby(['user_id', 'month']).agg(number_of_minuts= ('duration', 'sum')).reset_index()\n",
    "\n",
    "minuts_per_user_month\n",
    "\n"
   ]
  },
  {
   "cell_type": "code",
   "execution_count": 21,
   "metadata": {
    "id": "CcQvNHn60q1G"
   },
   "outputs": [
    {
     "data": {
      "text/html": [
       "<div>\n",
       "<style scoped>\n",
       "    .dataframe tbody tr th:only-of-type {\n",
       "        vertical-align: middle;\n",
       "    }\n",
       "\n",
       "    .dataframe tbody tr th {\n",
       "        vertical-align: top;\n",
       "    }\n",
       "\n",
       "    .dataframe thead th {\n",
       "        text-align: right;\n",
       "    }\n",
       "</style>\n",
       "<table border=\"1\" class=\"dataframe\">\n",
       "  <thead>\n",
       "    <tr style=\"text-align: right;\">\n",
       "      <th></th>\n",
       "      <th>user_id</th>\n",
       "      <th>month</th>\n",
       "      <th>number_of_msg</th>\n",
       "    </tr>\n",
       "  </thead>\n",
       "  <tbody>\n",
       "    <tr>\n",
       "      <th>0</th>\n",
       "      <td>1000</td>\n",
       "      <td>12</td>\n",
       "      <td>11</td>\n",
       "    </tr>\n",
       "    <tr>\n",
       "      <th>1</th>\n",
       "      <td>1001</td>\n",
       "      <td>8</td>\n",
       "      <td>30</td>\n",
       "    </tr>\n",
       "    <tr>\n",
       "      <th>2</th>\n",
       "      <td>1001</td>\n",
       "      <td>9</td>\n",
       "      <td>44</td>\n",
       "    </tr>\n",
       "    <tr>\n",
       "      <th>3</th>\n",
       "      <td>1001</td>\n",
       "      <td>10</td>\n",
       "      <td>53</td>\n",
       "    </tr>\n",
       "    <tr>\n",
       "      <th>4</th>\n",
       "      <td>1001</td>\n",
       "      <td>11</td>\n",
       "      <td>36</td>\n",
       "    </tr>\n",
       "    <tr>\n",
       "      <th>...</th>\n",
       "      <td>...</td>\n",
       "      <td>...</td>\n",
       "      <td>...</td>\n",
       "    </tr>\n",
       "    <tr>\n",
       "      <th>1801</th>\n",
       "      <td>1496</td>\n",
       "      <td>9</td>\n",
       "      <td>21</td>\n",
       "    </tr>\n",
       "    <tr>\n",
       "      <th>1802</th>\n",
       "      <td>1496</td>\n",
       "      <td>10</td>\n",
       "      <td>18</td>\n",
       "    </tr>\n",
       "    <tr>\n",
       "      <th>1803</th>\n",
       "      <td>1496</td>\n",
       "      <td>11</td>\n",
       "      <td>13</td>\n",
       "    </tr>\n",
       "    <tr>\n",
       "      <th>1804</th>\n",
       "      <td>1496</td>\n",
       "      <td>12</td>\n",
       "      <td>11</td>\n",
       "    </tr>\n",
       "    <tr>\n",
       "      <th>1805</th>\n",
       "      <td>1497</td>\n",
       "      <td>12</td>\n",
       "      <td>50</td>\n",
       "    </tr>\n",
       "  </tbody>\n",
       "</table>\n",
       "<p>1806 rows × 3 columns</p>\n",
       "</div>"
      ],
      "text/plain": [
       "     user_id  month  number_of_msg\n",
       "0       1000     12             11\n",
       "1       1001      8             30\n",
       "2       1001      9             44\n",
       "3       1001     10             53\n",
       "4       1001     11             36\n",
       "...      ...    ...            ...\n",
       "1801    1496      9             21\n",
       "1802    1496     10             18\n",
       "1803    1496     11             13\n",
       "1804    1496     12             11\n",
       "1805    1497     12             50\n",
       "\n",
       "[1806 rows x 3 columns]"
      ]
     },
     "execution_count": 21,
     "metadata": {},
     "output_type": "execute_result"
    }
   ],
   "source": [
    "# Accedemos al mes de la fecha\n",
    "menssages['month'] = menssages['message_date'].dt.month\n",
    "# Agrupamos por usuario, mes y contamos los mensajes por el id\n",
    "msg_per_user_month = menssages.groupby(['user_id', 'month']).agg(number_of_msg = ('id','count')).reset_index()\n",
    "\n",
    "msg_per_user_month\n",
    "\n"
   ]
  },
  {
   "cell_type": "code",
   "execution_count": 22,
   "metadata": {
    "id": "H1AqN2eG0q1H"
   },
   "outputs": [
    {
     "data": {
      "text/html": [
       "<div>\n",
       "<style scoped>\n",
       "    .dataframe tbody tr th:only-of-type {\n",
       "        vertical-align: middle;\n",
       "    }\n",
       "\n",
       "    .dataframe tbody tr th {\n",
       "        vertical-align: top;\n",
       "    }\n",
       "\n",
       "    .dataframe thead th {\n",
       "        text-align: right;\n",
       "    }\n",
       "</style>\n",
       "<table border=\"1\" class=\"dataframe\">\n",
       "  <thead>\n",
       "    <tr style=\"text-align: right;\">\n",
       "      <th></th>\n",
       "      <th>user_id</th>\n",
       "      <th>month</th>\n",
       "      <th>number_of_mb</th>\n",
       "    </tr>\n",
       "  </thead>\n",
       "  <tbody>\n",
       "    <tr>\n",
       "      <th>0</th>\n",
       "      <td>1000</td>\n",
       "      <td>12</td>\n",
       "      <td>1901.47</td>\n",
       "    </tr>\n",
       "    <tr>\n",
       "      <th>1</th>\n",
       "      <td>1001</td>\n",
       "      <td>8</td>\n",
       "      <td>6919.15</td>\n",
       "    </tr>\n",
       "    <tr>\n",
       "      <th>2</th>\n",
       "      <td>1001</td>\n",
       "      <td>9</td>\n",
       "      <td>13314.82</td>\n",
       "    </tr>\n",
       "    <tr>\n",
       "      <th>3</th>\n",
       "      <td>1001</td>\n",
       "      <td>10</td>\n",
       "      <td>22330.49</td>\n",
       "    </tr>\n",
       "    <tr>\n",
       "      <th>4</th>\n",
       "      <td>1001</td>\n",
       "      <td>11</td>\n",
       "      <td>18504.30</td>\n",
       "    </tr>\n",
       "    <tr>\n",
       "      <th>...</th>\n",
       "      <td>...</td>\n",
       "      <td>...</td>\n",
       "      <td>...</td>\n",
       "    </tr>\n",
       "    <tr>\n",
       "      <th>2272</th>\n",
       "      <td>1498</td>\n",
       "      <td>12</td>\n",
       "      <td>23137.69</td>\n",
       "    </tr>\n",
       "    <tr>\n",
       "      <th>2273</th>\n",
       "      <td>1499</td>\n",
       "      <td>9</td>\n",
       "      <td>12984.76</td>\n",
       "    </tr>\n",
       "    <tr>\n",
       "      <th>2274</th>\n",
       "      <td>1499</td>\n",
       "      <td>10</td>\n",
       "      <td>19492.43</td>\n",
       "    </tr>\n",
       "    <tr>\n",
       "      <th>2275</th>\n",
       "      <td>1499</td>\n",
       "      <td>11</td>\n",
       "      <td>16813.83</td>\n",
       "    </tr>\n",
       "    <tr>\n",
       "      <th>2276</th>\n",
       "      <td>1499</td>\n",
       "      <td>12</td>\n",
       "      <td>22059.21</td>\n",
       "    </tr>\n",
       "  </tbody>\n",
       "</table>\n",
       "<p>2277 rows × 3 columns</p>\n",
       "</div>"
      ],
      "text/plain": [
       "     user_id  month  number_of_mb\n",
       "0       1000     12       1901.47\n",
       "1       1001      8       6919.15\n",
       "2       1001      9      13314.82\n",
       "3       1001     10      22330.49\n",
       "4       1001     11      18504.30\n",
       "...      ...    ...           ...\n",
       "2272    1498     12      23137.69\n",
       "2273    1499      9      12984.76\n",
       "2274    1499     10      19492.43\n",
       "2275    1499     11      16813.83\n",
       "2276    1499     12      22059.21\n",
       "\n",
       "[2277 rows x 3 columns]"
      ]
     },
     "execution_count": 22,
     "metadata": {},
     "output_type": "execute_result"
    }
   ],
   "source": [
    "#Accedemos al mes de la fecha\n",
    "internet['month'] = internet['session_date'].dt.month\n",
    "#Agrupamos por usuario, mes, y sumamos los mb usados por mes\n",
    "mb_per_user_month = internet.groupby(['user_id','month']).agg(number_of_mb = ('mb_used', 'sum')).reset_index()\n",
    "\n",
    "mb_per_user_month\n"
   ]
  },
  {
   "cell_type": "markdown",
   "metadata": {
    "id": "VDfYXnj80q1H"
   },
   "source": [
    "[Junta los datos agregados en un DataFrame para que haya un registro que represente lo que consumió un usuario único en un mes determinado.]"
   ]
  },
  {
   "cell_type": "code",
   "execution_count": 23,
   "metadata": {
    "id": "FW99ykyf0q1H"
   },
   "outputs": [
    {
     "data": {
      "text/html": [
       "<div>\n",
       "<style scoped>\n",
       "    .dataframe tbody tr th:only-of-type {\n",
       "        vertical-align: middle;\n",
       "    }\n",
       "\n",
       "    .dataframe tbody tr th {\n",
       "        vertical-align: top;\n",
       "    }\n",
       "\n",
       "    .dataframe thead th {\n",
       "        text-align: right;\n",
       "    }\n",
       "</style>\n",
       "<table border=\"1\" class=\"dataframe\">\n",
       "  <thead>\n",
       "    <tr style=\"text-align: right;\">\n",
       "      <th></th>\n",
       "      <th>user_id</th>\n",
       "      <th>month</th>\n",
       "      <th>number_of_calls</th>\n",
       "      <th>number_of_minuts</th>\n",
       "      <th>number_of_msg</th>\n",
       "      <th>number_of_mb</th>\n",
       "    </tr>\n",
       "  </thead>\n",
       "  <tbody>\n",
       "    <tr>\n",
       "      <th>0</th>\n",
       "      <td>1000</td>\n",
       "      <td>12</td>\n",
       "      <td>16.0</td>\n",
       "      <td>116.83</td>\n",
       "      <td>11.0</td>\n",
       "      <td>1901.47</td>\n",
       "    </tr>\n",
       "    <tr>\n",
       "      <th>1</th>\n",
       "      <td>1001</td>\n",
       "      <td>8</td>\n",
       "      <td>27.0</td>\n",
       "      <td>171.14</td>\n",
       "      <td>30.0</td>\n",
       "      <td>6919.15</td>\n",
       "    </tr>\n",
       "    <tr>\n",
       "      <th>2</th>\n",
       "      <td>1001</td>\n",
       "      <td>9</td>\n",
       "      <td>49.0</td>\n",
       "      <td>297.69</td>\n",
       "      <td>44.0</td>\n",
       "      <td>13314.82</td>\n",
       "    </tr>\n",
       "    <tr>\n",
       "      <th>3</th>\n",
       "      <td>1001</td>\n",
       "      <td>10</td>\n",
       "      <td>65.0</td>\n",
       "      <td>374.11</td>\n",
       "      <td>53.0</td>\n",
       "      <td>22330.49</td>\n",
       "    </tr>\n",
       "    <tr>\n",
       "      <th>4</th>\n",
       "      <td>1001</td>\n",
       "      <td>11</td>\n",
       "      <td>64.0</td>\n",
       "      <td>404.59</td>\n",
       "      <td>36.0</td>\n",
       "      <td>18504.30</td>\n",
       "    </tr>\n",
       "    <tr>\n",
       "      <th>...</th>\n",
       "      <td>...</td>\n",
       "      <td>...</td>\n",
       "      <td>...</td>\n",
       "      <td>...</td>\n",
       "      <td>...</td>\n",
       "      <td>...</td>\n",
       "    </tr>\n",
       "    <tr>\n",
       "      <th>2288</th>\n",
       "      <td>1349</td>\n",
       "      <td>12</td>\n",
       "      <td>0.0</td>\n",
       "      <td>0.00</td>\n",
       "      <td>61.0</td>\n",
       "      <td>13039.91</td>\n",
       "    </tr>\n",
       "    <tr>\n",
       "      <th>2289</th>\n",
       "      <td>1361</td>\n",
       "      <td>5</td>\n",
       "      <td>0.0</td>\n",
       "      <td>0.00</td>\n",
       "      <td>2.0</td>\n",
       "      <td>1519.69</td>\n",
       "    </tr>\n",
       "    <tr>\n",
       "      <th>2290</th>\n",
       "      <td>1482</td>\n",
       "      <td>10</td>\n",
       "      <td>0.0</td>\n",
       "      <td>0.00</td>\n",
       "      <td>2.0</td>\n",
       "      <td>0.00</td>\n",
       "    </tr>\n",
       "    <tr>\n",
       "      <th>2291</th>\n",
       "      <td>1108</td>\n",
       "      <td>12</td>\n",
       "      <td>0.0</td>\n",
       "      <td>0.00</td>\n",
       "      <td>0.0</td>\n",
       "      <td>233.17</td>\n",
       "    </tr>\n",
       "    <tr>\n",
       "      <th>2292</th>\n",
       "      <td>1311</td>\n",
       "      <td>6</td>\n",
       "      <td>0.0</td>\n",
       "      <td>0.00</td>\n",
       "      <td>0.0</td>\n",
       "      <td>1498.83</td>\n",
       "    </tr>\n",
       "  </tbody>\n",
       "</table>\n",
       "<p>2293 rows × 6 columns</p>\n",
       "</div>"
      ],
      "text/plain": [
       "     user_id  month  number_of_calls  number_of_minuts  number_of_msg  \\\n",
       "0       1000     12             16.0            116.83           11.0   \n",
       "1       1001      8             27.0            171.14           30.0   \n",
       "2       1001      9             49.0            297.69           44.0   \n",
       "3       1001     10             65.0            374.11           53.0   \n",
       "4       1001     11             64.0            404.59           36.0   \n",
       "...      ...    ...              ...               ...            ...   \n",
       "2288    1349     12              0.0              0.00           61.0   \n",
       "2289    1361      5              0.0              0.00            2.0   \n",
       "2290    1482     10              0.0              0.00            2.0   \n",
       "2291    1108     12              0.0              0.00            0.0   \n",
       "2292    1311      6              0.0              0.00            0.0   \n",
       "\n",
       "      number_of_mb  \n",
       "0          1901.47  \n",
       "1          6919.15  \n",
       "2         13314.82  \n",
       "3         22330.49  \n",
       "4         18504.30  \n",
       "...            ...  \n",
       "2288      13039.91  \n",
       "2289       1519.69  \n",
       "2290          0.00  \n",
       "2291        233.17  \n",
       "2292       1498.83  \n",
       "\n",
       "[2293 rows x 6 columns]"
      ]
     },
     "execution_count": 23,
     "metadata": {},
     "output_type": "execute_result"
    }
   ],
   "source": [
    "# La unión de las tablas la haremos en tres partes\n",
    "#Primero uniremos llamadas con minutos\n",
    "call_min = pd.merge(calls_per_user_month, minuts_per_user_month, on= ('user_id', 'month'), how= 'outer')\n",
    "#Ahora uniremos la tabla call_min con mensajes\n",
    "call_min_msg = pd.merge(call_min, msg_per_user_month, on= ('user_id', 'month'), how= 'outer')\n",
    "#Por último uniremos las tablas call_min_msg con internet para tener toda la información completa\n",
    "monthly_purchases = pd.merge(call_min_msg, mb_per_user_month, on= ('user_id', 'month'), how = 'outer')\n",
    "#Adicional llenaremos todos los datos nulos que puedan existir con fillna(0)\n",
    "\n",
    "monthly_purchases = monthly_purchases.fillna(0)\n",
    "\n",
    "monthly_purchases\n"
   ]
  },
  {
   "cell_type": "code",
   "execution_count": 24,
   "metadata": {
    "id": "0dNOXHag0q1H"
   },
   "outputs": [
    {
     "data": {
      "text/html": [
       "<div>\n",
       "<style scoped>\n",
       "    .dataframe tbody tr th:only-of-type {\n",
       "        vertical-align: middle;\n",
       "    }\n",
       "\n",
       "    .dataframe tbody tr th {\n",
       "        vertical-align: top;\n",
       "    }\n",
       "\n",
       "    .dataframe thead th {\n",
       "        text-align: right;\n",
       "    }\n",
       "</style>\n",
       "<table border=\"1\" class=\"dataframe\">\n",
       "  <thead>\n",
       "    <tr style=\"text-align: right;\">\n",
       "      <th></th>\n",
       "      <th>user_id</th>\n",
       "      <th>month</th>\n",
       "      <th>number_of_calls</th>\n",
       "      <th>number_of_minuts</th>\n",
       "      <th>number_of_msg</th>\n",
       "      <th>number_of_mb</th>\n",
       "      <th>plan</th>\n",
       "      <th>messages_included</th>\n",
       "      <th>mb_per_month_included</th>\n",
       "      <th>minutes_included</th>\n",
       "      <th>usd_monthly_pay</th>\n",
       "      <th>usd_per_gb</th>\n",
       "      <th>usd_per_message</th>\n",
       "      <th>usd_per_minute</th>\n",
       "    </tr>\n",
       "  </thead>\n",
       "  <tbody>\n",
       "    <tr>\n",
       "      <th>0</th>\n",
       "      <td>1000</td>\n",
       "      <td>12.0</td>\n",
       "      <td>16.0</td>\n",
       "      <td>116.83</td>\n",
       "      <td>11.0</td>\n",
       "      <td>1901.47</td>\n",
       "      <td>ultimate</td>\n",
       "      <td>1000</td>\n",
       "      <td>30720</td>\n",
       "      <td>3000</td>\n",
       "      <td>70</td>\n",
       "      <td>7</td>\n",
       "      <td>0.01</td>\n",
       "      <td>0.01</td>\n",
       "    </tr>\n",
       "    <tr>\n",
       "      <th>1</th>\n",
       "      <td>1001</td>\n",
       "      <td>8.0</td>\n",
       "      <td>27.0</td>\n",
       "      <td>171.14</td>\n",
       "      <td>30.0</td>\n",
       "      <td>6919.15</td>\n",
       "      <td>surf</td>\n",
       "      <td>50</td>\n",
       "      <td>15360</td>\n",
       "      <td>500</td>\n",
       "      <td>20</td>\n",
       "      <td>10</td>\n",
       "      <td>0.03</td>\n",
       "      <td>0.03</td>\n",
       "    </tr>\n",
       "    <tr>\n",
       "      <th>2</th>\n",
       "      <td>1001</td>\n",
       "      <td>9.0</td>\n",
       "      <td>49.0</td>\n",
       "      <td>297.69</td>\n",
       "      <td>44.0</td>\n",
       "      <td>13314.82</td>\n",
       "      <td>surf</td>\n",
       "      <td>50</td>\n",
       "      <td>15360</td>\n",
       "      <td>500</td>\n",
       "      <td>20</td>\n",
       "      <td>10</td>\n",
       "      <td>0.03</td>\n",
       "      <td>0.03</td>\n",
       "    </tr>\n",
       "    <tr>\n",
       "      <th>3</th>\n",
       "      <td>1001</td>\n",
       "      <td>10.0</td>\n",
       "      <td>65.0</td>\n",
       "      <td>374.11</td>\n",
       "      <td>53.0</td>\n",
       "      <td>22330.49</td>\n",
       "      <td>surf</td>\n",
       "      <td>50</td>\n",
       "      <td>15360</td>\n",
       "      <td>500</td>\n",
       "      <td>20</td>\n",
       "      <td>10</td>\n",
       "      <td>0.03</td>\n",
       "      <td>0.03</td>\n",
       "    </tr>\n",
       "    <tr>\n",
       "      <th>4</th>\n",
       "      <td>1001</td>\n",
       "      <td>11.0</td>\n",
       "      <td>64.0</td>\n",
       "      <td>404.59</td>\n",
       "      <td>36.0</td>\n",
       "      <td>18504.30</td>\n",
       "      <td>surf</td>\n",
       "      <td>50</td>\n",
       "      <td>15360</td>\n",
       "      <td>500</td>\n",
       "      <td>20</td>\n",
       "      <td>10</td>\n",
       "      <td>0.03</td>\n",
       "      <td>0.03</td>\n",
       "    </tr>\n",
       "    <tr>\n",
       "      <th>...</th>\n",
       "      <td>...</td>\n",
       "      <td>...</td>\n",
       "      <td>...</td>\n",
       "      <td>...</td>\n",
       "      <td>...</td>\n",
       "      <td>...</td>\n",
       "      <td>...</td>\n",
       "      <td>...</td>\n",
       "      <td>...</td>\n",
       "      <td>...</td>\n",
       "      <td>...</td>\n",
       "      <td>...</td>\n",
       "      <td>...</td>\n",
       "      <td>...</td>\n",
       "    </tr>\n",
       "    <tr>\n",
       "      <th>2298</th>\n",
       "      <td>1307</td>\n",
       "      <td>NaN</td>\n",
       "      <td>NaN</td>\n",
       "      <td>NaN</td>\n",
       "      <td>NaN</td>\n",
       "      <td>NaN</td>\n",
       "      <td>surf</td>\n",
       "      <td>50</td>\n",
       "      <td>15360</td>\n",
       "      <td>500</td>\n",
       "      <td>20</td>\n",
       "      <td>10</td>\n",
       "      <td>0.03</td>\n",
       "      <td>0.03</td>\n",
       "    </tr>\n",
       "    <tr>\n",
       "      <th>2299</th>\n",
       "      <td>1319</td>\n",
       "      <td>NaN</td>\n",
       "      <td>NaN</td>\n",
       "      <td>NaN</td>\n",
       "      <td>NaN</td>\n",
       "      <td>NaN</td>\n",
       "      <td>surf</td>\n",
       "      <td>50</td>\n",
       "      <td>15360</td>\n",
       "      <td>500</td>\n",
       "      <td>20</td>\n",
       "      <td>10</td>\n",
       "      <td>0.03</td>\n",
       "      <td>0.03</td>\n",
       "    </tr>\n",
       "    <tr>\n",
       "      <th>2300</th>\n",
       "      <td>1378</td>\n",
       "      <td>NaN</td>\n",
       "      <td>NaN</td>\n",
       "      <td>NaN</td>\n",
       "      <td>NaN</td>\n",
       "      <td>NaN</td>\n",
       "      <td>surf</td>\n",
       "      <td>50</td>\n",
       "      <td>15360</td>\n",
       "      <td>500</td>\n",
       "      <td>20</td>\n",
       "      <td>10</td>\n",
       "      <td>0.03</td>\n",
       "      <td>0.03</td>\n",
       "    </tr>\n",
       "    <tr>\n",
       "      <th>2301</th>\n",
       "      <td>1463</td>\n",
       "      <td>NaN</td>\n",
       "      <td>NaN</td>\n",
       "      <td>NaN</td>\n",
       "      <td>NaN</td>\n",
       "      <td>NaN</td>\n",
       "      <td>ultimate</td>\n",
       "      <td>1000</td>\n",
       "      <td>30720</td>\n",
       "      <td>3000</td>\n",
       "      <td>70</td>\n",
       "      <td>7</td>\n",
       "      <td>0.01</td>\n",
       "      <td>0.01</td>\n",
       "    </tr>\n",
       "    <tr>\n",
       "      <th>2302</th>\n",
       "      <td>1473</td>\n",
       "      <td>NaN</td>\n",
       "      <td>NaN</td>\n",
       "      <td>NaN</td>\n",
       "      <td>NaN</td>\n",
       "      <td>NaN</td>\n",
       "      <td>surf</td>\n",
       "      <td>50</td>\n",
       "      <td>15360</td>\n",
       "      <td>500</td>\n",
       "      <td>20</td>\n",
       "      <td>10</td>\n",
       "      <td>0.03</td>\n",
       "      <td>0.03</td>\n",
       "    </tr>\n",
       "  </tbody>\n",
       "</table>\n",
       "<p>2303 rows × 14 columns</p>\n",
       "</div>"
      ],
      "text/plain": [
       "     user_id  month  number_of_calls  number_of_minuts  number_of_msg  \\\n",
       "0       1000   12.0             16.0            116.83           11.0   \n",
       "1       1001    8.0             27.0            171.14           30.0   \n",
       "2       1001    9.0             49.0            297.69           44.0   \n",
       "3       1001   10.0             65.0            374.11           53.0   \n",
       "4       1001   11.0             64.0            404.59           36.0   \n",
       "...      ...    ...              ...               ...            ...   \n",
       "2298    1307    NaN              NaN               NaN            NaN   \n",
       "2299    1319    NaN              NaN               NaN            NaN   \n",
       "2300    1378    NaN              NaN               NaN            NaN   \n",
       "2301    1463    NaN              NaN               NaN            NaN   \n",
       "2302    1473    NaN              NaN               NaN            NaN   \n",
       "\n",
       "      number_of_mb      plan  messages_included  mb_per_month_included  \\\n",
       "0          1901.47  ultimate               1000                  30720   \n",
       "1          6919.15      surf                 50                  15360   \n",
       "2         13314.82      surf                 50                  15360   \n",
       "3         22330.49      surf                 50                  15360   \n",
       "4         18504.30      surf                 50                  15360   \n",
       "...            ...       ...                ...                    ...   \n",
       "2298           NaN      surf                 50                  15360   \n",
       "2299           NaN      surf                 50                  15360   \n",
       "2300           NaN      surf                 50                  15360   \n",
       "2301           NaN  ultimate               1000                  30720   \n",
       "2302           NaN      surf                 50                  15360   \n",
       "\n",
       "      minutes_included  usd_monthly_pay  usd_per_gb  usd_per_message  \\\n",
       "0                 3000               70           7             0.01   \n",
       "1                  500               20          10             0.03   \n",
       "2                  500               20          10             0.03   \n",
       "3                  500               20          10             0.03   \n",
       "4                  500               20          10             0.03   \n",
       "...                ...              ...         ...              ...   \n",
       "2298               500               20          10             0.03   \n",
       "2299               500               20          10             0.03   \n",
       "2300               500               20          10             0.03   \n",
       "2301              3000               70           7             0.01   \n",
       "2302               500               20          10             0.03   \n",
       "\n",
       "      usd_per_minute  \n",
       "0               0.01  \n",
       "1               0.03  \n",
       "2               0.03  \n",
       "3               0.03  \n",
       "4               0.03  \n",
       "...              ...  \n",
       "2298            0.03  \n",
       "2299            0.03  \n",
       "2300            0.03  \n",
       "2301            0.01  \n",
       "2302            0.03  \n",
       "\n",
       "[2303 rows x 14 columns]"
      ]
     },
     "execution_count": 24,
     "metadata": {},
     "output_type": "execute_result"
    }
   ],
   "source": [
    "#Unimos la tabla monthly_purchases con usuarios para identificar el plan de cada usuario\n",
    "service_rates= pd.merge(monthly_purchases, users, on= ['user_id'], how= 'outer')\n",
    "#Eliminamos columnas no necesarias\n",
    "col_drop = ['first_name', 'last_name', 'age', 'city', 'reg_date', 'churn_date']\n",
    "service_rates = service_rates.drop(labels= col_drop, axis='columns')\n",
    "#agregamos los datos del plan \n",
    "service_rates = pd.merge(service_rates, plans, left_on='plan', right_on='plan_name', how='left')\n",
    "#eliminamos columnas\n",
    "service_rates = service_rates.drop('plan_name', axis='columns')\n",
    "\n",
    "service_rates\n",
    "\n",
    "\n"
   ]
  },
  {
   "cell_type": "code",
   "execution_count": 25,
   "metadata": {},
   "outputs": [
    {
     "name": "stdout",
     "output_type": "stream",
     "text": [
      "user_id                   0\n",
      "month                    10\n",
      "number_of_calls          10\n",
      "number_of_minuts         10\n",
      "number_of_msg            10\n",
      "number_of_mb             10\n",
      "plan                      0\n",
      "messages_included         0\n",
      "mb_per_month_included     0\n",
      "minutes_included          0\n",
      "usd_monthly_pay           0\n",
      "usd_per_gb                0\n",
      "usd_per_message           0\n",
      "usd_per_minute            0\n",
      "dtype: int64\n"
     ]
    }
   ],
   "source": [
    "# Validamos la cantidad de datos nulos que nos aparecen \n",
    "print(service_rates.isna().sum())"
   ]
  },
  {
   "cell_type": "code",
   "execution_count": 26,
   "metadata": {},
   "outputs": [
    {
     "name": "stdout",
     "output_type": "stream",
     "text": [
      "user_id                  0\n",
      "month                    0\n",
      "number_of_calls          0\n",
      "number_of_minuts         0\n",
      "number_of_msg            0\n",
      "number_of_mb             0\n",
      "plan                     0\n",
      "messages_included        0\n",
      "mb_per_month_included    0\n",
      "minutes_included         0\n",
      "usd_monthly_pay          0\n",
      "usd_per_gb               0\n",
      "usd_per_message          0\n",
      "usd_per_minute           0\n",
      "dtype: int64\n"
     ]
    },
    {
     "data": {
      "text/html": [
       "<div>\n",
       "<style scoped>\n",
       "    .dataframe tbody tr th:only-of-type {\n",
       "        vertical-align: middle;\n",
       "    }\n",
       "\n",
       "    .dataframe tbody tr th {\n",
       "        vertical-align: top;\n",
       "    }\n",
       "\n",
       "    .dataframe thead th {\n",
       "        text-align: right;\n",
       "    }\n",
       "</style>\n",
       "<table border=\"1\" class=\"dataframe\">\n",
       "  <thead>\n",
       "    <tr style=\"text-align: right;\">\n",
       "      <th></th>\n",
       "      <th>user_id</th>\n",
       "      <th>month</th>\n",
       "      <th>number_of_calls</th>\n",
       "      <th>number_of_minuts</th>\n",
       "      <th>number_of_msg</th>\n",
       "      <th>number_of_mb</th>\n",
       "      <th>plan</th>\n",
       "      <th>messages_included</th>\n",
       "      <th>mb_per_month_included</th>\n",
       "      <th>minutes_included</th>\n",
       "      <th>usd_monthly_pay</th>\n",
       "      <th>usd_per_gb</th>\n",
       "      <th>usd_per_message</th>\n",
       "      <th>usd_per_minute</th>\n",
       "    </tr>\n",
       "  </thead>\n",
       "  <tbody>\n",
       "    <tr>\n",
       "      <th>0</th>\n",
       "      <td>1000</td>\n",
       "      <td>12.0</td>\n",
       "      <td>16.0</td>\n",
       "      <td>116.83</td>\n",
       "      <td>11.0</td>\n",
       "      <td>1901.47</td>\n",
       "      <td>ultimate</td>\n",
       "      <td>1000</td>\n",
       "      <td>30720</td>\n",
       "      <td>3000</td>\n",
       "      <td>70</td>\n",
       "      <td>7</td>\n",
       "      <td>0.01</td>\n",
       "      <td>0.01</td>\n",
       "    </tr>\n",
       "    <tr>\n",
       "      <th>1</th>\n",
       "      <td>1001</td>\n",
       "      <td>8.0</td>\n",
       "      <td>27.0</td>\n",
       "      <td>171.14</td>\n",
       "      <td>30.0</td>\n",
       "      <td>6919.15</td>\n",
       "      <td>surf</td>\n",
       "      <td>50</td>\n",
       "      <td>15360</td>\n",
       "      <td>500</td>\n",
       "      <td>20</td>\n",
       "      <td>10</td>\n",
       "      <td>0.03</td>\n",
       "      <td>0.03</td>\n",
       "    </tr>\n",
       "    <tr>\n",
       "      <th>2</th>\n",
       "      <td>1001</td>\n",
       "      <td>9.0</td>\n",
       "      <td>49.0</td>\n",
       "      <td>297.69</td>\n",
       "      <td>44.0</td>\n",
       "      <td>13314.82</td>\n",
       "      <td>surf</td>\n",
       "      <td>50</td>\n",
       "      <td>15360</td>\n",
       "      <td>500</td>\n",
       "      <td>20</td>\n",
       "      <td>10</td>\n",
       "      <td>0.03</td>\n",
       "      <td>0.03</td>\n",
       "    </tr>\n",
       "    <tr>\n",
       "      <th>3</th>\n",
       "      <td>1001</td>\n",
       "      <td>10.0</td>\n",
       "      <td>65.0</td>\n",
       "      <td>374.11</td>\n",
       "      <td>53.0</td>\n",
       "      <td>22330.49</td>\n",
       "      <td>surf</td>\n",
       "      <td>50</td>\n",
       "      <td>15360</td>\n",
       "      <td>500</td>\n",
       "      <td>20</td>\n",
       "      <td>10</td>\n",
       "      <td>0.03</td>\n",
       "      <td>0.03</td>\n",
       "    </tr>\n",
       "    <tr>\n",
       "      <th>4</th>\n",
       "      <td>1001</td>\n",
       "      <td>11.0</td>\n",
       "      <td>64.0</td>\n",
       "      <td>404.59</td>\n",
       "      <td>36.0</td>\n",
       "      <td>18504.30</td>\n",
       "      <td>surf</td>\n",
       "      <td>50</td>\n",
       "      <td>15360</td>\n",
       "      <td>500</td>\n",
       "      <td>20</td>\n",
       "      <td>10</td>\n",
       "      <td>0.03</td>\n",
       "      <td>0.03</td>\n",
       "    </tr>\n",
       "    <tr>\n",
       "      <th>...</th>\n",
       "      <td>...</td>\n",
       "      <td>...</td>\n",
       "      <td>...</td>\n",
       "      <td>...</td>\n",
       "      <td>...</td>\n",
       "      <td>...</td>\n",
       "      <td>...</td>\n",
       "      <td>...</td>\n",
       "      <td>...</td>\n",
       "      <td>...</td>\n",
       "      <td>...</td>\n",
       "      <td>...</td>\n",
       "      <td>...</td>\n",
       "      <td>...</td>\n",
       "    </tr>\n",
       "    <tr>\n",
       "      <th>2288</th>\n",
       "      <td>1204</td>\n",
       "      <td>12.0</td>\n",
       "      <td>0.0</td>\n",
       "      <td>0.00</td>\n",
       "      <td>78.0</td>\n",
       "      <td>36730.05</td>\n",
       "      <td>ultimate</td>\n",
       "      <td>1000</td>\n",
       "      <td>30720</td>\n",
       "      <td>3000</td>\n",
       "      <td>70</td>\n",
       "      <td>7</td>\n",
       "      <td>0.01</td>\n",
       "      <td>0.01</td>\n",
       "    </tr>\n",
       "    <tr>\n",
       "      <th>2289</th>\n",
       "      <td>1349</td>\n",
       "      <td>10.0</td>\n",
       "      <td>0.0</td>\n",
       "      <td>0.00</td>\n",
       "      <td>76.0</td>\n",
       "      <td>13093.55</td>\n",
       "      <td>surf</td>\n",
       "      <td>50</td>\n",
       "      <td>15360</td>\n",
       "      <td>500</td>\n",
       "      <td>20</td>\n",
       "      <td>10</td>\n",
       "      <td>0.03</td>\n",
       "      <td>0.03</td>\n",
       "    </tr>\n",
       "    <tr>\n",
       "      <th>2290</th>\n",
       "      <td>1349</td>\n",
       "      <td>11.0</td>\n",
       "      <td>0.0</td>\n",
       "      <td>0.00</td>\n",
       "      <td>72.0</td>\n",
       "      <td>17128.26</td>\n",
       "      <td>surf</td>\n",
       "      <td>50</td>\n",
       "      <td>15360</td>\n",
       "      <td>500</td>\n",
       "      <td>20</td>\n",
       "      <td>10</td>\n",
       "      <td>0.03</td>\n",
       "      <td>0.03</td>\n",
       "    </tr>\n",
       "    <tr>\n",
       "      <th>2291</th>\n",
       "      <td>1349</td>\n",
       "      <td>12.0</td>\n",
       "      <td>0.0</td>\n",
       "      <td>0.00</td>\n",
       "      <td>61.0</td>\n",
       "      <td>13039.91</td>\n",
       "      <td>surf</td>\n",
       "      <td>50</td>\n",
       "      <td>15360</td>\n",
       "      <td>500</td>\n",
       "      <td>20</td>\n",
       "      <td>10</td>\n",
       "      <td>0.03</td>\n",
       "      <td>0.03</td>\n",
       "    </tr>\n",
       "    <tr>\n",
       "      <th>2292</th>\n",
       "      <td>1108</td>\n",
       "      <td>12.0</td>\n",
       "      <td>0.0</td>\n",
       "      <td>0.00</td>\n",
       "      <td>0.0</td>\n",
       "      <td>233.17</td>\n",
       "      <td>ultimate</td>\n",
       "      <td>1000</td>\n",
       "      <td>30720</td>\n",
       "      <td>3000</td>\n",
       "      <td>70</td>\n",
       "      <td>7</td>\n",
       "      <td>0.01</td>\n",
       "      <td>0.01</td>\n",
       "    </tr>\n",
       "  </tbody>\n",
       "</table>\n",
       "<p>2293 rows × 14 columns</p>\n",
       "</div>"
      ],
      "text/plain": [
       "     user_id  month  number_of_calls  number_of_minuts  number_of_msg  \\\n",
       "0       1000   12.0             16.0            116.83           11.0   \n",
       "1       1001    8.0             27.0            171.14           30.0   \n",
       "2       1001    9.0             49.0            297.69           44.0   \n",
       "3       1001   10.0             65.0            374.11           53.0   \n",
       "4       1001   11.0             64.0            404.59           36.0   \n",
       "...      ...    ...              ...               ...            ...   \n",
       "2288    1204   12.0              0.0              0.00           78.0   \n",
       "2289    1349   10.0              0.0              0.00           76.0   \n",
       "2290    1349   11.0              0.0              0.00           72.0   \n",
       "2291    1349   12.0              0.0              0.00           61.0   \n",
       "2292    1108   12.0              0.0              0.00            0.0   \n",
       "\n",
       "      number_of_mb      plan  messages_included  mb_per_month_included  \\\n",
       "0          1901.47  ultimate               1000                  30720   \n",
       "1          6919.15      surf                 50                  15360   \n",
       "2         13314.82      surf                 50                  15360   \n",
       "3         22330.49      surf                 50                  15360   \n",
       "4         18504.30      surf                 50                  15360   \n",
       "...            ...       ...                ...                    ...   \n",
       "2288      36730.05  ultimate               1000                  30720   \n",
       "2289      13093.55      surf                 50                  15360   \n",
       "2290      17128.26      surf                 50                  15360   \n",
       "2291      13039.91      surf                 50                  15360   \n",
       "2292        233.17  ultimate               1000                  30720   \n",
       "\n",
       "      minutes_included  usd_monthly_pay  usd_per_gb  usd_per_message  \\\n",
       "0                 3000               70           7             0.01   \n",
       "1                  500               20          10             0.03   \n",
       "2                  500               20          10             0.03   \n",
       "3                  500               20          10             0.03   \n",
       "4                  500               20          10             0.03   \n",
       "...                ...              ...         ...              ...   \n",
       "2288              3000               70           7             0.01   \n",
       "2289               500               20          10             0.03   \n",
       "2290               500               20          10             0.03   \n",
       "2291               500               20          10             0.03   \n",
       "2292              3000               70           7             0.01   \n",
       "\n",
       "      usd_per_minute  \n",
       "0               0.01  \n",
       "1               0.03  \n",
       "2               0.03  \n",
       "3               0.03  \n",
       "4               0.03  \n",
       "...              ...  \n",
       "2288            0.01  \n",
       "2289            0.03  \n",
       "2290            0.03  \n",
       "2291            0.03  \n",
       "2292            0.01  \n",
       "\n",
       "[2293 rows x 14 columns]"
      ]
     },
     "execution_count": 26,
     "metadata": {},
     "output_type": "execute_result"
    }
   ],
   "source": [
    "#Al validar que son muy pocos los datos nulos y que son usuarios que no registraron ningún consumo, los eliminaremos lo cual no perjuducará el análisis\n",
    "service_rates.dropna(inplace= True)\n",
    "print(service_rates.isna().sum())\n",
    "service_rates"
   ]
  },
  {
   "cell_type": "markdown",
   "metadata": {
    "id": "1IwGo4wg0q1I"
   },
   "source": [
    "[Calcula los ingresos mensuales por usuario (resta el límite del paquete gratuito del número total de llamadas, mensajes de texto y datos; multiplica el resultado por el valor del plan de llamadas; añade la tarifa mensual en función del plan de llamadas). Nota: Dadas las condiciones del plan, ¡esto podría no ser tan trivial como un par de líneas! Así que no pasa nada si dedicas algo de tiempo a ello.]"
   ]
  },
  {
   "cell_type": "code",
   "execution_count": 27,
   "metadata": {
    "id": "5FGCf_c60q1I"
   },
   "outputs": [
    {
     "data": {
      "text/html": [
       "<div>\n",
       "<style scoped>\n",
       "    .dataframe tbody tr th:only-of-type {\n",
       "        vertical-align: middle;\n",
       "    }\n",
       "\n",
       "    .dataframe tbody tr th {\n",
       "        vertical-align: top;\n",
       "    }\n",
       "\n",
       "    .dataframe thead th {\n",
       "        text-align: right;\n",
       "    }\n",
       "</style>\n",
       "<table border=\"1\" class=\"dataframe\">\n",
       "  <thead>\n",
       "    <tr style=\"text-align: right;\">\n",
       "      <th></th>\n",
       "      <th>user_id</th>\n",
       "      <th>plan</th>\n",
       "      <th>usd_monthly_pay</th>\n",
       "      <th>month</th>\n",
       "      <th>number_of_calls</th>\n",
       "      <th>minutes_included</th>\n",
       "      <th>number_of_minuts</th>\n",
       "      <th>minutes_exceeded</th>\n",
       "      <th>usd_per_minute</th>\n",
       "      <th>add_cost_min</th>\n",
       "      <th>...</th>\n",
       "      <th>messages_exceeded</th>\n",
       "      <th>usd_per_message</th>\n",
       "      <th>add_cost_msg</th>\n",
       "      <th>mb_per_month_included</th>\n",
       "      <th>number_of_mb</th>\n",
       "      <th>mb_exceeded</th>\n",
       "      <th>usd_per_gb</th>\n",
       "      <th>add_cost_mb</th>\n",
       "      <th>add_cost_gb</th>\n",
       "      <th>add_cost_total</th>\n",
       "    </tr>\n",
       "  </thead>\n",
       "  <tbody>\n",
       "    <tr>\n",
       "      <th>256</th>\n",
       "      <td>1059</td>\n",
       "      <td>ultimate</td>\n",
       "      <td>70</td>\n",
       "      <td>7</td>\n",
       "      <td>100</td>\n",
       "      <td>3000</td>\n",
       "      <td>672.10</td>\n",
       "      <td>0.00</td>\n",
       "      <td>0.01</td>\n",
       "      <td>0.0000</td>\n",
       "      <td>...</td>\n",
       "      <td>0</td>\n",
       "      <td>0.01</td>\n",
       "      <td>0.00</td>\n",
       "      <td>30720</td>\n",
       "      <td>13367.17</td>\n",
       "      <td>0.0</td>\n",
       "      <td>7</td>\n",
       "      <td>0.00</td>\n",
       "      <td>0.0</td>\n",
       "      <td>0.00</td>\n",
       "    </tr>\n",
       "    <tr>\n",
       "      <th>101</th>\n",
       "      <td>1028</td>\n",
       "      <td>ultimate</td>\n",
       "      <td>70</td>\n",
       "      <td>10</td>\n",
       "      <td>6</td>\n",
       "      <td>3000</td>\n",
       "      <td>34.02</td>\n",
       "      <td>0.00</td>\n",
       "      <td>0.01</td>\n",
       "      <td>0.0000</td>\n",
       "      <td>...</td>\n",
       "      <td>0</td>\n",
       "      <td>0.01</td>\n",
       "      <td>0.00</td>\n",
       "      <td>30720</td>\n",
       "      <td>46595.33</td>\n",
       "      <td>16.0</td>\n",
       "      <td>7</td>\n",
       "      <td>111127.31</td>\n",
       "      <td>112.0</td>\n",
       "      <td>112.00</td>\n",
       "    </tr>\n",
       "    <tr>\n",
       "      <th>1216</th>\n",
       "      <td>1261</td>\n",
       "      <td>surf</td>\n",
       "      <td>20</td>\n",
       "      <td>8</td>\n",
       "      <td>67</td>\n",
       "      <td>500</td>\n",
       "      <td>454.75</td>\n",
       "      <td>0.00</td>\n",
       "      <td>0.03</td>\n",
       "      <td>0.0000</td>\n",
       "      <td>...</td>\n",
       "      <td>0</td>\n",
       "      <td>0.03</td>\n",
       "      <td>0.00</td>\n",
       "      <td>15360</td>\n",
       "      <td>17556.64</td>\n",
       "      <td>3.0</td>\n",
       "      <td>10</td>\n",
       "      <td>21966.40</td>\n",
       "      <td>30.0</td>\n",
       "      <td>30.00</td>\n",
       "    </tr>\n",
       "    <tr>\n",
       "      <th>2078</th>\n",
       "      <td>1458</td>\n",
       "      <td>ultimate</td>\n",
       "      <td>70</td>\n",
       "      <td>7</td>\n",
       "      <td>5</td>\n",
       "      <td>3000</td>\n",
       "      <td>13.95</td>\n",
       "      <td>0.00</td>\n",
       "      <td>0.01</td>\n",
       "      <td>0.0000</td>\n",
       "      <td>...</td>\n",
       "      <td>0</td>\n",
       "      <td>0.01</td>\n",
       "      <td>0.00</td>\n",
       "      <td>30720</td>\n",
       "      <td>4700.98</td>\n",
       "      <td>0.0</td>\n",
       "      <td>7</td>\n",
       "      <td>0.00</td>\n",
       "      <td>0.0</td>\n",
       "      <td>0.00</td>\n",
       "    </tr>\n",
       "    <tr>\n",
       "      <th>1391</th>\n",
       "      <td>1310</td>\n",
       "      <td>surf</td>\n",
       "      <td>20</td>\n",
       "      <td>12</td>\n",
       "      <td>18</td>\n",
       "      <td>500</td>\n",
       "      <td>117.35</td>\n",
       "      <td>0.00</td>\n",
       "      <td>0.03</td>\n",
       "      <td>0.0000</td>\n",
       "      <td>...</td>\n",
       "      <td>0</td>\n",
       "      <td>0.03</td>\n",
       "      <td>0.00</td>\n",
       "      <td>15360</td>\n",
       "      <td>20970.26</td>\n",
       "      <td>6.0</td>\n",
       "      <td>10</td>\n",
       "      <td>56102.60</td>\n",
       "      <td>60.0</td>\n",
       "      <td>60.00</td>\n",
       "    </tr>\n",
       "    <tr>\n",
       "      <th>1704</th>\n",
       "      <td>1373</td>\n",
       "      <td>ultimate</td>\n",
       "      <td>70</td>\n",
       "      <td>10</td>\n",
       "      <td>107</td>\n",
       "      <td>3000</td>\n",
       "      <td>738.13</td>\n",
       "      <td>0.00</td>\n",
       "      <td>0.01</td>\n",
       "      <td>0.0000</td>\n",
       "      <td>...</td>\n",
       "      <td>0</td>\n",
       "      <td>0.01</td>\n",
       "      <td>0.00</td>\n",
       "      <td>30720</td>\n",
       "      <td>32574.06</td>\n",
       "      <td>2.0</td>\n",
       "      <td>7</td>\n",
       "      <td>12978.42</td>\n",
       "      <td>14.0</td>\n",
       "      <td>14.00</td>\n",
       "    </tr>\n",
       "    <tr>\n",
       "      <th>1143</th>\n",
       "      <td>1249</td>\n",
       "      <td>ultimate</td>\n",
       "      <td>70</td>\n",
       "      <td>8</td>\n",
       "      <td>96</td>\n",
       "      <td>3000</td>\n",
       "      <td>518.52</td>\n",
       "      <td>0.00</td>\n",
       "      <td>0.01</td>\n",
       "      <td>0.0000</td>\n",
       "      <td>...</td>\n",
       "      <td>0</td>\n",
       "      <td>0.01</td>\n",
       "      <td>0.00</td>\n",
       "      <td>30720</td>\n",
       "      <td>18809.16</td>\n",
       "      <td>0.0</td>\n",
       "      <td>7</td>\n",
       "      <td>0.00</td>\n",
       "      <td>0.0</td>\n",
       "      <td>0.00</td>\n",
       "    </tr>\n",
       "    <tr>\n",
       "      <th>823</th>\n",
       "      <td>1175</td>\n",
       "      <td>surf</td>\n",
       "      <td>20</td>\n",
       "      <td>10</td>\n",
       "      <td>101</td>\n",
       "      <td>500</td>\n",
       "      <td>663.84</td>\n",
       "      <td>163.84</td>\n",
       "      <td>0.03</td>\n",
       "      <td>4.9152</td>\n",
       "      <td>...</td>\n",
       "      <td>0</td>\n",
       "      <td>0.03</td>\n",
       "      <td>0.00</td>\n",
       "      <td>15360</td>\n",
       "      <td>22562.08</td>\n",
       "      <td>8.0</td>\n",
       "      <td>10</td>\n",
       "      <td>72020.80</td>\n",
       "      <td>80.0</td>\n",
       "      <td>84.92</td>\n",
       "    </tr>\n",
       "    <tr>\n",
       "      <th>1646</th>\n",
       "      <td>1362</td>\n",
       "      <td>surf</td>\n",
       "      <td>20</td>\n",
       "      <td>1</td>\n",
       "      <td>42</td>\n",
       "      <td>500</td>\n",
       "      <td>278.85</td>\n",
       "      <td>0.00</td>\n",
       "      <td>0.03</td>\n",
       "      <td>0.0000</td>\n",
       "      <td>...</td>\n",
       "      <td>0</td>\n",
       "      <td>0.03</td>\n",
       "      <td>0.00</td>\n",
       "      <td>15360</td>\n",
       "      <td>7894.79</td>\n",
       "      <td>0.0</td>\n",
       "      <td>10</td>\n",
       "      <td>0.00</td>\n",
       "      <td>0.0</td>\n",
       "      <td>0.00</td>\n",
       "    </tr>\n",
       "    <tr>\n",
       "      <th>13</th>\n",
       "      <td>1004</td>\n",
       "      <td>surf</td>\n",
       "      <td>20</td>\n",
       "      <td>8</td>\n",
       "      <td>49</td>\n",
       "      <td>500</td>\n",
       "      <td>334.86</td>\n",
       "      <td>0.00</td>\n",
       "      <td>0.03</td>\n",
       "      <td>0.0000</td>\n",
       "      <td>...</td>\n",
       "      <td>0</td>\n",
       "      <td>0.03</td>\n",
       "      <td>0.00</td>\n",
       "      <td>15360</td>\n",
       "      <td>27981.74</td>\n",
       "      <td>13.0</td>\n",
       "      <td>10</td>\n",
       "      <td>126217.40</td>\n",
       "      <td>130.0</td>\n",
       "      <td>130.00</td>\n",
       "    </tr>\n",
       "    <tr>\n",
       "      <th>117</th>\n",
       "      <td>1031</td>\n",
       "      <td>ultimate</td>\n",
       "      <td>70</td>\n",
       "      <td>11</td>\n",
       "      <td>85</td>\n",
       "      <td>3000</td>\n",
       "      <td>575.18</td>\n",
       "      <td>0.00</td>\n",
       "      <td>0.01</td>\n",
       "      <td>0.0000</td>\n",
       "      <td>...</td>\n",
       "      <td>0</td>\n",
       "      <td>0.01</td>\n",
       "      <td>0.00</td>\n",
       "      <td>30720</td>\n",
       "      <td>16198.94</td>\n",
       "      <td>0.0</td>\n",
       "      <td>7</td>\n",
       "      <td>0.00</td>\n",
       "      <td>0.0</td>\n",
       "      <td>0.00</td>\n",
       "    </tr>\n",
       "    <tr>\n",
       "      <th>1355</th>\n",
       "      <td>1299</td>\n",
       "      <td>surf</td>\n",
       "      <td>20</td>\n",
       "      <td>4</td>\n",
       "      <td>67</td>\n",
       "      <td>500</td>\n",
       "      <td>512.09</td>\n",
       "      <td>12.09</td>\n",
       "      <td>0.03</td>\n",
       "      <td>0.3627</td>\n",
       "      <td>...</td>\n",
       "      <td>0</td>\n",
       "      <td>0.03</td>\n",
       "      <td>0.00</td>\n",
       "      <td>15360</td>\n",
       "      <td>16718.19</td>\n",
       "      <td>2.0</td>\n",
       "      <td>10</td>\n",
       "      <td>13581.90</td>\n",
       "      <td>20.0</td>\n",
       "      <td>20.36</td>\n",
       "    </tr>\n",
       "    <tr>\n",
       "      <th>271</th>\n",
       "      <td>1061</td>\n",
       "      <td>ultimate</td>\n",
       "      <td>70</td>\n",
       "      <td>8</td>\n",
       "      <td>87</td>\n",
       "      <td>3000</td>\n",
       "      <td>565.25</td>\n",
       "      <td>0.00</td>\n",
       "      <td>0.01</td>\n",
       "      <td>0.0000</td>\n",
       "      <td>...</td>\n",
       "      <td>0</td>\n",
       "      <td>0.01</td>\n",
       "      <td>0.00</td>\n",
       "      <td>30720</td>\n",
       "      <td>18424.54</td>\n",
       "      <td>0.0</td>\n",
       "      <td>7</td>\n",
       "      <td>0.00</td>\n",
       "      <td>0.0</td>\n",
       "      <td>0.00</td>\n",
       "    </tr>\n",
       "    <tr>\n",
       "      <th>1012</th>\n",
       "      <td>1217</td>\n",
       "      <td>surf</td>\n",
       "      <td>20</td>\n",
       "      <td>10</td>\n",
       "      <td>75</td>\n",
       "      <td>500</td>\n",
       "      <td>494.12</td>\n",
       "      <td>0.00</td>\n",
       "      <td>0.03</td>\n",
       "      <td>0.0000</td>\n",
       "      <td>...</td>\n",
       "      <td>0</td>\n",
       "      <td>0.03</td>\n",
       "      <td>0.00</td>\n",
       "      <td>15360</td>\n",
       "      <td>21224.93</td>\n",
       "      <td>6.0</td>\n",
       "      <td>10</td>\n",
       "      <td>58649.30</td>\n",
       "      <td>60.0</td>\n",
       "      <td>60.00</td>\n",
       "    </tr>\n",
       "    <tr>\n",
       "      <th>350</th>\n",
       "      <td>1074</td>\n",
       "      <td>ultimate</td>\n",
       "      <td>70</td>\n",
       "      <td>12</td>\n",
       "      <td>90</td>\n",
       "      <td>3000</td>\n",
       "      <td>585.21</td>\n",
       "      <td>0.00</td>\n",
       "      <td>0.01</td>\n",
       "      <td>0.0000</td>\n",
       "      <td>...</td>\n",
       "      <td>0</td>\n",
       "      <td>0.01</td>\n",
       "      <td>0.00</td>\n",
       "      <td>30720</td>\n",
       "      <td>10802.82</td>\n",
       "      <td>0.0</td>\n",
       "      <td>7</td>\n",
       "      <td>0.00</td>\n",
       "      <td>0.0</td>\n",
       "      <td>0.00</td>\n",
       "    </tr>\n",
       "    <tr>\n",
       "      <th>142</th>\n",
       "      <td>1039</td>\n",
       "      <td>ultimate</td>\n",
       "      <td>70</td>\n",
       "      <td>10</td>\n",
       "      <td>59</td>\n",
       "      <td>3000</td>\n",
       "      <td>431.84</td>\n",
       "      <td>0.00</td>\n",
       "      <td>0.01</td>\n",
       "      <td>0.0000</td>\n",
       "      <td>...</td>\n",
       "      <td>0</td>\n",
       "      <td>0.01</td>\n",
       "      <td>0.00</td>\n",
       "      <td>30720</td>\n",
       "      <td>13511.26</td>\n",
       "      <td>0.0</td>\n",
       "      <td>7</td>\n",
       "      <td>0.00</td>\n",
       "      <td>0.0</td>\n",
       "      <td>0.00</td>\n",
       "    </tr>\n",
       "    <tr>\n",
       "      <th>98</th>\n",
       "      <td>1028</td>\n",
       "      <td>ultimate</td>\n",
       "      <td>70</td>\n",
       "      <td>7</td>\n",
       "      <td>6</td>\n",
       "      <td>3000</td>\n",
       "      <td>50.19</td>\n",
       "      <td>0.00</td>\n",
       "      <td>0.01</td>\n",
       "      <td>0.0000</td>\n",
       "      <td>...</td>\n",
       "      <td>0</td>\n",
       "      <td>0.01</td>\n",
       "      <td>0.00</td>\n",
       "      <td>30720</td>\n",
       "      <td>38826.70</td>\n",
       "      <td>8.0</td>\n",
       "      <td>7</td>\n",
       "      <td>56746.90</td>\n",
       "      <td>56.0</td>\n",
       "      <td>56.00</td>\n",
       "    </tr>\n",
       "    <tr>\n",
       "      <th>1978</th>\n",
       "      <td>1433</td>\n",
       "      <td>ultimate</td>\n",
       "      <td>70</td>\n",
       "      <td>9</td>\n",
       "      <td>28</td>\n",
       "      <td>3000</td>\n",
       "      <td>173.29</td>\n",
       "      <td>0.00</td>\n",
       "      <td>0.01</td>\n",
       "      <td>0.0000</td>\n",
       "      <td>...</td>\n",
       "      <td>0</td>\n",
       "      <td>0.01</td>\n",
       "      <td>0.00</td>\n",
       "      <td>30720</td>\n",
       "      <td>8261.57</td>\n",
       "      <td>0.0</td>\n",
       "      <td>7</td>\n",
       "      <td>0.00</td>\n",
       "      <td>0.0</td>\n",
       "      <td>0.00</td>\n",
       "    </tr>\n",
       "    <tr>\n",
       "      <th>1694</th>\n",
       "      <td>1369</td>\n",
       "      <td>surf</td>\n",
       "      <td>20</td>\n",
       "      <td>12</td>\n",
       "      <td>58</td>\n",
       "      <td>500</td>\n",
       "      <td>366.02</td>\n",
       "      <td>0.00</td>\n",
       "      <td>0.03</td>\n",
       "      <td>0.0000</td>\n",
       "      <td>...</td>\n",
       "      <td>62</td>\n",
       "      <td>0.03</td>\n",
       "      <td>1.86</td>\n",
       "      <td>15360</td>\n",
       "      <td>36721.64</td>\n",
       "      <td>21.0</td>\n",
       "      <td>10</td>\n",
       "      <td>213616.40</td>\n",
       "      <td>210.0</td>\n",
       "      <td>211.86</td>\n",
       "    </tr>\n",
       "    <tr>\n",
       "      <th>453</th>\n",
       "      <td>1098</td>\n",
       "      <td>surf</td>\n",
       "      <td>20</td>\n",
       "      <td>10</td>\n",
       "      <td>95</td>\n",
       "      <td>500</td>\n",
       "      <td>606.17</td>\n",
       "      <td>106.17</td>\n",
       "      <td>0.03</td>\n",
       "      <td>3.1851</td>\n",
       "      <td>...</td>\n",
       "      <td>39</td>\n",
       "      <td>0.03</td>\n",
       "      <td>1.17</td>\n",
       "      <td>15360</td>\n",
       "      <td>30885.97</td>\n",
       "      <td>16.0</td>\n",
       "      <td>10</td>\n",
       "      <td>155259.70</td>\n",
       "      <td>160.0</td>\n",
       "      <td>164.36</td>\n",
       "    </tr>\n",
       "  </tbody>\n",
       "</table>\n",
       "<p>20 rows × 22 columns</p>\n",
       "</div>"
      ],
      "text/plain": [
       "     user_id      plan  usd_monthly_pay  month  number_of_calls  \\\n",
       "256     1059  ultimate               70      7              100   \n",
       "101     1028  ultimate               70     10                6   \n",
       "1216    1261      surf               20      8               67   \n",
       "2078    1458  ultimate               70      7                5   \n",
       "1391    1310      surf               20     12               18   \n",
       "1704    1373  ultimate               70     10              107   \n",
       "1143    1249  ultimate               70      8               96   \n",
       "823     1175      surf               20     10              101   \n",
       "1646    1362      surf               20      1               42   \n",
       "13      1004      surf               20      8               49   \n",
       "117     1031  ultimate               70     11               85   \n",
       "1355    1299      surf               20      4               67   \n",
       "271     1061  ultimate               70      8               87   \n",
       "1012    1217      surf               20     10               75   \n",
       "350     1074  ultimate               70     12               90   \n",
       "142     1039  ultimate               70     10               59   \n",
       "98      1028  ultimate               70      7                6   \n",
       "1978    1433  ultimate               70      9               28   \n",
       "1694    1369      surf               20     12               58   \n",
       "453     1098      surf               20     10               95   \n",
       "\n",
       "      minutes_included  number_of_minuts  minutes_exceeded  usd_per_minute  \\\n",
       "256               3000            672.10              0.00            0.01   \n",
       "101               3000             34.02              0.00            0.01   \n",
       "1216               500            454.75              0.00            0.03   \n",
       "2078              3000             13.95              0.00            0.01   \n",
       "1391               500            117.35              0.00            0.03   \n",
       "1704              3000            738.13              0.00            0.01   \n",
       "1143              3000            518.52              0.00            0.01   \n",
       "823                500            663.84            163.84            0.03   \n",
       "1646               500            278.85              0.00            0.03   \n",
       "13                 500            334.86              0.00            0.03   \n",
       "117               3000            575.18              0.00            0.01   \n",
       "1355               500            512.09             12.09            0.03   \n",
       "271               3000            565.25              0.00            0.01   \n",
       "1012               500            494.12              0.00            0.03   \n",
       "350               3000            585.21              0.00            0.01   \n",
       "142               3000            431.84              0.00            0.01   \n",
       "98                3000             50.19              0.00            0.01   \n",
       "1978              3000            173.29              0.00            0.01   \n",
       "1694               500            366.02              0.00            0.03   \n",
       "453                500            606.17            106.17            0.03   \n",
       "\n",
       "      add_cost_min  ...  messages_exceeded  usd_per_message  add_cost_msg  \\\n",
       "256         0.0000  ...                  0             0.01          0.00   \n",
       "101         0.0000  ...                  0             0.01          0.00   \n",
       "1216        0.0000  ...                  0             0.03          0.00   \n",
       "2078        0.0000  ...                  0             0.01          0.00   \n",
       "1391        0.0000  ...                  0             0.03          0.00   \n",
       "1704        0.0000  ...                  0             0.01          0.00   \n",
       "1143        0.0000  ...                  0             0.01          0.00   \n",
       "823         4.9152  ...                  0             0.03          0.00   \n",
       "1646        0.0000  ...                  0             0.03          0.00   \n",
       "13          0.0000  ...                  0             0.03          0.00   \n",
       "117         0.0000  ...                  0             0.01          0.00   \n",
       "1355        0.3627  ...                  0             0.03          0.00   \n",
       "271         0.0000  ...                  0             0.01          0.00   \n",
       "1012        0.0000  ...                  0             0.03          0.00   \n",
       "350         0.0000  ...                  0             0.01          0.00   \n",
       "142         0.0000  ...                  0             0.01          0.00   \n",
       "98          0.0000  ...                  0             0.01          0.00   \n",
       "1978        0.0000  ...                  0             0.01          0.00   \n",
       "1694        0.0000  ...                 62             0.03          1.86   \n",
       "453         3.1851  ...                 39             0.03          1.17   \n",
       "\n",
       "      mb_per_month_included  number_of_mb  mb_exceeded  usd_per_gb  \\\n",
       "256                   30720      13367.17          0.0           7   \n",
       "101                   30720      46595.33         16.0           7   \n",
       "1216                  15360      17556.64          3.0          10   \n",
       "2078                  30720       4700.98          0.0           7   \n",
       "1391                  15360      20970.26          6.0          10   \n",
       "1704                  30720      32574.06          2.0           7   \n",
       "1143                  30720      18809.16          0.0           7   \n",
       "823                   15360      22562.08          8.0          10   \n",
       "1646                  15360       7894.79          0.0          10   \n",
       "13                    15360      27981.74         13.0          10   \n",
       "117                   30720      16198.94          0.0           7   \n",
       "1355                  15360      16718.19          2.0          10   \n",
       "271                   30720      18424.54          0.0           7   \n",
       "1012                  15360      21224.93          6.0          10   \n",
       "350                   30720      10802.82          0.0           7   \n",
       "142                   30720      13511.26          0.0           7   \n",
       "98                    30720      38826.70          8.0           7   \n",
       "1978                  30720       8261.57          0.0           7   \n",
       "1694                  15360      36721.64         21.0          10   \n",
       "453                   15360      30885.97         16.0          10   \n",
       "\n",
       "      add_cost_mb  add_cost_gb  add_cost_total  \n",
       "256          0.00          0.0            0.00  \n",
       "101     111127.31        112.0          112.00  \n",
       "1216     21966.40         30.0           30.00  \n",
       "2078         0.00          0.0            0.00  \n",
       "1391     56102.60         60.0           60.00  \n",
       "1704     12978.42         14.0           14.00  \n",
       "1143         0.00          0.0            0.00  \n",
       "823      72020.80         80.0           84.92  \n",
       "1646         0.00          0.0            0.00  \n",
       "13      126217.40        130.0          130.00  \n",
       "117          0.00          0.0            0.00  \n",
       "1355     13581.90         20.0           20.36  \n",
       "271          0.00          0.0            0.00  \n",
       "1012     58649.30         60.0           60.00  \n",
       "350          0.00          0.0            0.00  \n",
       "142          0.00          0.0            0.00  \n",
       "98       56746.90         56.0           56.00  \n",
       "1978         0.00          0.0            0.00  \n",
       "1694    213616.40        210.0          211.86  \n",
       "453     155259.70        160.0          164.36  \n",
       "\n",
       "[20 rows x 22 columns]"
      ]
     },
     "execution_count": 27,
     "metadata": {},
     "output_type": "execute_result"
    }
   ],
   "source": [
    "# Calculamos los servicios excedidos por usuario \n",
    "service_rates['messages_exceeded'] = (service_rates['number_of_msg'] - service_rates['messages_included']).clip(lower=0)\n",
    "service_rates['minutes_exceeded'] = (service_rates['number_of_minuts']- service_rates['minutes_included']).clip(lower=0)\n",
    "service_rates['mb_exceeded'] = (service_rates['number_of_mb']- service_rates['mb_per_month_included']).clip(lower=0)\n",
    "\n",
    "# Calculamos el monto extra que debe cubrir el usuario \n",
    "\n",
    "service_rates['add_cost_msg'] = (service_rates['messages_exceeded'] * service_rates['usd_per_message'])\n",
    "service_rates['add_cost_min'] = (service_rates['minutes_exceeded'] * service_rates['usd_per_minute'])\n",
    "service_rates['add_cost_mb'] = (service_rates['mb_exceeded'] * service_rates['usd_per_gb'])\n",
    "#Convertimos los mb en gb\n",
    "service_rates['mb_exceeded'] = np.ceil(service_rates['mb_exceeded'] / 1024)\n",
    "service_rates['add_cost_gb'] = (service_rates['mb_exceeded']* service_rates['usd_per_gb'])\n",
    "\n",
    "#Calculamos los costos totales adicionales por usuario\n",
    "\n",
    "service_rates['add_cost_total'] = (service_rates['add_cost_min'] + service_rates['add_cost_msg'] + \n",
    "                                   service_rates['add_cost_gb'])\n",
    "service_rates['add_cost_total'] = service_rates['add_cost_total'].round(2)\n",
    "\n",
    "#Convertimos algunas columnas en (int) para un mejor entendimiento de sus datos\n",
    "service_rates['month'] = service_rates['month'].astype(int)\n",
    "service_rates['number_of_calls'] = service_rates['number_of_calls'].astype(int)\n",
    "service_rates['number_of_msg'] = service_rates['number_of_msg'].astype(int)\n",
    "service_rates['messages_exceeded'] = service_rates['messages_exceeded'].astype(int)\n",
    "\n",
    "#Reordenaremos las columnas para tener un mejor entendimiento de los datos\n",
    "\n",
    "service_rates_organized = [\n",
    "    'user_id',\n",
    "    'plan',\n",
    "    'usd_monthly_pay',\n",
    "    'month',\n",
    "    'number_of_calls',\n",
    "    'minutes_included', \n",
    "    'number_of_minuts',\n",
    "    'minutes_exceeded',\n",
    "    'usd_per_minute',\n",
    "    'add_cost_min',     \n",
    "    'messages_included',\n",
    "    'number_of_msg', \n",
    "    'messages_exceeded',\n",
    "    'usd_per_message',\n",
    "    'add_cost_msg',\n",
    "    'mb_per_month_included',      \n",
    "    'number_of_mb',\n",
    "    'mb_exceeded',  \n",
    "    'usd_per_gb',\n",
    "    'add_cost_mb',\n",
    "    'add_cost_gb',\n",
    "    'add_cost_total'\n",
    "]\n",
    "\n",
    "service_rates = service_rates[service_rates_organized] \n",
    "\n",
    "service_rates.sample(20)\n",
    "\n",
    "\n"
   ]
  },
  {
   "cell_type": "code",
   "execution_count": 28,
   "metadata": {},
   "outputs": [
    {
     "data": {
      "text/html": [
       "<div>\n",
       "<style scoped>\n",
       "    .dataframe tbody tr th:only-of-type {\n",
       "        vertical-align: middle;\n",
       "    }\n",
       "\n",
       "    .dataframe tbody tr th {\n",
       "        vertical-align: top;\n",
       "    }\n",
       "\n",
       "    .dataframe thead th {\n",
       "        text-align: right;\n",
       "    }\n",
       "</style>\n",
       "<table border=\"1\" class=\"dataframe\">\n",
       "  <thead>\n",
       "    <tr style=\"text-align: right;\">\n",
       "      <th></th>\n",
       "      <th>user_id</th>\n",
       "      <th>month</th>\n",
       "      <th>total_cost_per_user</th>\n",
       "    </tr>\n",
       "  </thead>\n",
       "  <tbody>\n",
       "    <tr>\n",
       "      <th>0</th>\n",
       "      <td>1000</td>\n",
       "      <td>12</td>\n",
       "      <td>0.00</td>\n",
       "    </tr>\n",
       "    <tr>\n",
       "      <th>1</th>\n",
       "      <td>1001</td>\n",
       "      <td>8</td>\n",
       "      <td>0.00</td>\n",
       "    </tr>\n",
       "    <tr>\n",
       "      <th>2</th>\n",
       "      <td>1001</td>\n",
       "      <td>9</td>\n",
       "      <td>0.00</td>\n",
       "    </tr>\n",
       "    <tr>\n",
       "      <th>3</th>\n",
       "      <td>1001</td>\n",
       "      <td>10</td>\n",
       "      <td>70.09</td>\n",
       "    </tr>\n",
       "    <tr>\n",
       "      <th>4</th>\n",
       "      <td>1001</td>\n",
       "      <td>11</td>\n",
       "      <td>40.00</td>\n",
       "    </tr>\n",
       "    <tr>\n",
       "      <th>5</th>\n",
       "      <td>1001</td>\n",
       "      <td>12</td>\n",
       "      <td>40.00</td>\n",
       "    </tr>\n",
       "    <tr>\n",
       "      <th>6</th>\n",
       "      <td>1002</td>\n",
       "      <td>10</td>\n",
       "      <td>0.00</td>\n",
       "    </tr>\n",
       "    <tr>\n",
       "      <th>7</th>\n",
       "      <td>1002</td>\n",
       "      <td>11</td>\n",
       "      <td>40.00</td>\n",
       "    </tr>\n",
       "    <tr>\n",
       "      <th>8</th>\n",
       "      <td>1002</td>\n",
       "      <td>12</td>\n",
       "      <td>0.00</td>\n",
       "    </tr>\n",
       "    <tr>\n",
       "      <th>9</th>\n",
       "      <td>1003</td>\n",
       "      <td>12</td>\n",
       "      <td>136.23</td>\n",
       "    </tr>\n",
       "    <tr>\n",
       "      <th>10</th>\n",
       "      <td>1004</td>\n",
       "      <td>5</td>\n",
       "      <td>0.00</td>\n",
       "    </tr>\n",
       "    <tr>\n",
       "      <th>11</th>\n",
       "      <td>1004</td>\n",
       "      <td>6</td>\n",
       "      <td>60.00</td>\n",
       "    </tr>\n",
       "    <tr>\n",
       "      <th>12</th>\n",
       "      <td>1004</td>\n",
       "      <td>7</td>\n",
       "      <td>90.00</td>\n",
       "    </tr>\n",
       "    <tr>\n",
       "      <th>13</th>\n",
       "      <td>1004</td>\n",
       "      <td>8</td>\n",
       "      <td>130.00</td>\n",
       "    </tr>\n",
       "    <tr>\n",
       "      <th>14</th>\n",
       "      <td>1004</td>\n",
       "      <td>9</td>\n",
       "      <td>40.00</td>\n",
       "    </tr>\n",
       "    <tr>\n",
       "      <th>15</th>\n",
       "      <td>1004</td>\n",
       "      <td>10</td>\n",
       "      <td>0.00</td>\n",
       "    </tr>\n",
       "    <tr>\n",
       "      <th>16</th>\n",
       "      <td>1004</td>\n",
       "      <td>11</td>\n",
       "      <td>70.00</td>\n",
       "    </tr>\n",
       "    <tr>\n",
       "      <th>17</th>\n",
       "      <td>1004</td>\n",
       "      <td>12</td>\n",
       "      <td>60.00</td>\n",
       "    </tr>\n",
       "    <tr>\n",
       "      <th>18</th>\n",
       "      <td>1005</td>\n",
       "      <td>12</td>\n",
       "      <td>20.00</td>\n",
       "    </tr>\n",
       "    <tr>\n",
       "      <th>19</th>\n",
       "      <td>1006</td>\n",
       "      <td>11</td>\n",
       "      <td>0.00</td>\n",
       "    </tr>\n",
       "  </tbody>\n",
       "</table>\n",
       "</div>"
      ],
      "text/plain": [
       "   user_id  month  total_cost_per_user\n",
       "0     1000     12                 0.00\n",
       "1     1001      8                 0.00\n",
       "2     1001      9                 0.00\n",
       "3     1001     10                70.09\n",
       "4     1001     11                40.00\n",
       "5     1001     12                40.00\n",
       "6     1002     10                 0.00\n",
       "7     1002     11                40.00\n",
       "8     1002     12                 0.00\n",
       "9     1003     12               136.23\n",
       "10    1004      5                 0.00\n",
       "11    1004      6                60.00\n",
       "12    1004      7                90.00\n",
       "13    1004      8               130.00\n",
       "14    1004      9                40.00\n",
       "15    1004     10                 0.00\n",
       "16    1004     11                70.00\n",
       "17    1004     12                60.00\n",
       "18    1005     12                20.00\n",
       "19    1006     11                 0.00"
      ]
     },
     "execution_count": 28,
     "metadata": {},
     "output_type": "execute_result"
    }
   ],
   "source": [
    "# Mostramos la cantidad total adicional que se le cobrará al usuario por los servicios excedidos en su plan\n",
    "total_cost = service_rates.groupby(['user_id', 'month']).agg(total_cost_per_user = ('add_cost_total','sum')).reset_index()\n",
    "\n",
    "total_cost.head(20)"
   ]
  },
  {
   "cell_type": "markdown",
   "metadata": {
    "id": "-jtyHzJb0q1I"
   },
   "source": [
    "## Estudia el comportamiento de usuario"
   ]
  },
  {
   "cell_type": "markdown",
   "metadata": {
    "id": "AxU3Y0N70q1J"
   },
   "source": [
    "[Calcula algunas estadísticas descriptivas para los datos agregados y fusionados que nos sean útiles y que muestren un panorama general captado por los datos. Dibuja gráficos útiles para facilitar la comprensión. Dado que la tarea principal es comparar las tarifas y decidir cuál es más rentable, las estadísticas y gráficas deben calcularse por tarifa.]\n",
    "\n",
    "[En los comentarios hallarás pistas relevantes para las llamadas, pero no las hay para los mensajes e Internet. Sin embargo, el principio del estudio estadístico que se aplica para ellos es el mismo que para las llamadas.]"
   ]
  },
  {
   "cell_type": "markdown",
   "metadata": {
    "id": "vtW4CJEe0q1J"
   },
   "source": [
    "### Llamadas"
   ]
  },
  {
   "cell_type": "code",
   "execution_count": 29,
   "metadata": {
    "id": "Jf5v5--k0q1J"
   },
   "outputs": [
    {
     "data": {
      "text/html": [
       "<div>\n",
       "<style scoped>\n",
       "    .dataframe tbody tr th:only-of-type {\n",
       "        vertical-align: middle;\n",
       "    }\n",
       "\n",
       "    .dataframe tbody tr th {\n",
       "        vertical-align: top;\n",
       "    }\n",
       "\n",
       "    .dataframe thead th {\n",
       "        text-align: right;\n",
       "    }\n",
       "</style>\n",
       "<table border=\"1\" class=\"dataframe\">\n",
       "  <thead>\n",
       "    <tr style=\"text-align: right;\">\n",
       "      <th></th>\n",
       "      <th>id</th>\n",
       "      <th>user_id</th>\n",
       "      <th>call_date</th>\n",
       "      <th>duration</th>\n",
       "      <th>month</th>\n",
       "      <th>plan</th>\n",
       "    </tr>\n",
       "  </thead>\n",
       "  <tbody>\n",
       "    <tr>\n",
       "      <th>0</th>\n",
       "      <td>1000_93</td>\n",
       "      <td>1000</td>\n",
       "      <td>2018-12-27</td>\n",
       "      <td>8.52</td>\n",
       "      <td>12</td>\n",
       "      <td>ultimate</td>\n",
       "    </tr>\n",
       "    <tr>\n",
       "      <th>1</th>\n",
       "      <td>1000_145</td>\n",
       "      <td>1000</td>\n",
       "      <td>2018-12-27</td>\n",
       "      <td>13.66</td>\n",
       "      <td>12</td>\n",
       "      <td>ultimate</td>\n",
       "    </tr>\n",
       "    <tr>\n",
       "      <th>2</th>\n",
       "      <td>1000_247</td>\n",
       "      <td>1000</td>\n",
       "      <td>2018-12-27</td>\n",
       "      <td>14.48</td>\n",
       "      <td>12</td>\n",
       "      <td>ultimate</td>\n",
       "    </tr>\n",
       "    <tr>\n",
       "      <th>3</th>\n",
       "      <td>1000_309</td>\n",
       "      <td>1000</td>\n",
       "      <td>2018-12-28</td>\n",
       "      <td>5.76</td>\n",
       "      <td>12</td>\n",
       "      <td>ultimate</td>\n",
       "    </tr>\n",
       "    <tr>\n",
       "      <th>4</th>\n",
       "      <td>1000_380</td>\n",
       "      <td>1000</td>\n",
       "      <td>2018-12-30</td>\n",
       "      <td>4.22</td>\n",
       "      <td>12</td>\n",
       "      <td>ultimate</td>\n",
       "    </tr>\n",
       "    <tr>\n",
       "      <th>...</th>\n",
       "      <td>...</td>\n",
       "      <td>...</td>\n",
       "      <td>...</td>\n",
       "      <td>...</td>\n",
       "      <td>...</td>\n",
       "      <td>...</td>\n",
       "    </tr>\n",
       "    <tr>\n",
       "      <th>137730</th>\n",
       "      <td>1499_199</td>\n",
       "      <td>1499</td>\n",
       "      <td>2018-11-21</td>\n",
       "      <td>8.72</td>\n",
       "      <td>11</td>\n",
       "      <td>surf</td>\n",
       "    </tr>\n",
       "    <tr>\n",
       "      <th>137731</th>\n",
       "      <td>1499_200</td>\n",
       "      <td>1499</td>\n",
       "      <td>2018-10-20</td>\n",
       "      <td>10.89</td>\n",
       "      <td>10</td>\n",
       "      <td>surf</td>\n",
       "    </tr>\n",
       "    <tr>\n",
       "      <th>137732</th>\n",
       "      <td>1499_201</td>\n",
       "      <td>1499</td>\n",
       "      <td>2018-09-21</td>\n",
       "      <td>8.12</td>\n",
       "      <td>9</td>\n",
       "      <td>surf</td>\n",
       "    </tr>\n",
       "    <tr>\n",
       "      <th>137733</th>\n",
       "      <td>1499_202</td>\n",
       "      <td>1499</td>\n",
       "      <td>2018-10-10</td>\n",
       "      <td>0.37</td>\n",
       "      <td>10</td>\n",
       "      <td>surf</td>\n",
       "    </tr>\n",
       "    <tr>\n",
       "      <th>137734</th>\n",
       "      <td>1499_203</td>\n",
       "      <td>1499</td>\n",
       "      <td>2018-12-29</td>\n",
       "      <td>13.86</td>\n",
       "      <td>12</td>\n",
       "      <td>surf</td>\n",
       "    </tr>\n",
       "  </tbody>\n",
       "</table>\n",
       "<p>137735 rows × 6 columns</p>\n",
       "</div>"
      ],
      "text/plain": [
       "              id user_id  call_date  duration  month      plan\n",
       "0        1000_93    1000 2018-12-27      8.52     12  ultimate\n",
       "1       1000_145    1000 2018-12-27     13.66     12  ultimate\n",
       "2       1000_247    1000 2018-12-27     14.48     12  ultimate\n",
       "3       1000_309    1000 2018-12-28      5.76     12  ultimate\n",
       "4       1000_380    1000 2018-12-30      4.22     12  ultimate\n",
       "...          ...     ...        ...       ...    ...       ...\n",
       "137730  1499_199    1499 2018-11-21      8.72     11      surf\n",
       "137731  1499_200    1499 2018-10-20     10.89     10      surf\n",
       "137732  1499_201    1499 2018-09-21      8.12      9      surf\n",
       "137733  1499_202    1499 2018-10-10      0.37     10      surf\n",
       "137734  1499_203    1499 2018-12-29     13.86     12      surf\n",
       "\n",
       "[137735 rows x 6 columns]"
      ]
     },
     "execution_count": 29,
     "metadata": {},
     "output_type": "execute_result"
    }
   ],
   "source": [
    "# Uniremos las tablas calls y planes para sacar el promedio mensual de duración de llamadas para cada plan\n",
    "duration_calls_per_plan = pd.merge(calls, users, on= 'user_id', how= 'left')\n",
    "drop_col = ['first_name', 'last_name', 'age', 'city', 'reg_date', 'churn_date']\n",
    "#Eliminamos columnas no necesarias\n",
    "duration_calls_per_plan = duration_calls_per_plan.drop(labels= drop_col, axis= 'columns')\n",
    "\n",
    "duration_calls_per_plan\n",
    "\n"
   ]
  },
  {
   "cell_type": "code",
   "execution_count": 30,
   "metadata": {},
   "outputs": [
    {
     "data": {
      "text/html": [
       "<div>\n",
       "<style scoped>\n",
       "    .dataframe tbody tr th:only-of-type {\n",
       "        vertical-align: middle;\n",
       "    }\n",
       "\n",
       "    .dataframe tbody tr th {\n",
       "        vertical-align: top;\n",
       "    }\n",
       "\n",
       "    .dataframe thead th {\n",
       "        text-align: right;\n",
       "    }\n",
       "</style>\n",
       "<table border=\"1\" class=\"dataframe\">\n",
       "  <thead>\n",
       "    <tr style=\"text-align: right;\">\n",
       "      <th></th>\n",
       "      <th>month</th>\n",
       "      <th>plan</th>\n",
       "      <th>mean_per_call</th>\n",
       "    </tr>\n",
       "  </thead>\n",
       "  <tbody>\n",
       "    <tr>\n",
       "      <th>0</th>\n",
       "      <td>1</td>\n",
       "      <td>surf</td>\n",
       "      <td>6.43</td>\n",
       "    </tr>\n",
       "    <tr>\n",
       "      <th>1</th>\n",
       "      <td>1</td>\n",
       "      <td>ultimate</td>\n",
       "      <td>6.54</td>\n",
       "    </tr>\n",
       "    <tr>\n",
       "      <th>2</th>\n",
       "      <td>2</td>\n",
       "      <td>surf</td>\n",
       "      <td>6.91</td>\n",
       "    </tr>\n",
       "    <tr>\n",
       "      <th>3</th>\n",
       "      <td>2</td>\n",
       "      <td>ultimate</td>\n",
       "      <td>6.52</td>\n",
       "    </tr>\n",
       "    <tr>\n",
       "      <th>4</th>\n",
       "      <td>3</td>\n",
       "      <td>surf</td>\n",
       "      <td>6.70</td>\n",
       "    </tr>\n",
       "    <tr>\n",
       "      <th>5</th>\n",
       "      <td>3</td>\n",
       "      <td>ultimate</td>\n",
       "      <td>6.21</td>\n",
       "    </tr>\n",
       "    <tr>\n",
       "      <th>6</th>\n",
       "      <td>4</td>\n",
       "      <td>surf</td>\n",
       "      <td>6.80</td>\n",
       "    </tr>\n",
       "    <tr>\n",
       "      <th>7</th>\n",
       "      <td>4</td>\n",
       "      <td>ultimate</td>\n",
       "      <td>6.66</td>\n",
       "    </tr>\n",
       "    <tr>\n",
       "      <th>8</th>\n",
       "      <td>5</td>\n",
       "      <td>surf</td>\n",
       "      <td>6.77</td>\n",
       "    </tr>\n",
       "    <tr>\n",
       "      <th>9</th>\n",
       "      <td>5</td>\n",
       "      <td>ultimate</td>\n",
       "      <td>6.66</td>\n",
       "    </tr>\n",
       "    <tr>\n",
       "      <th>10</th>\n",
       "      <td>6</td>\n",
       "      <td>surf</td>\n",
       "      <td>6.85</td>\n",
       "    </tr>\n",
       "    <tr>\n",
       "      <th>11</th>\n",
       "      <td>6</td>\n",
       "      <td>ultimate</td>\n",
       "      <td>6.71</td>\n",
       "    </tr>\n",
       "    <tr>\n",
       "      <th>12</th>\n",
       "      <td>7</td>\n",
       "      <td>surf</td>\n",
       "      <td>6.72</td>\n",
       "    </tr>\n",
       "    <tr>\n",
       "      <th>13</th>\n",
       "      <td>7</td>\n",
       "      <td>ultimate</td>\n",
       "      <td>6.88</td>\n",
       "    </tr>\n",
       "    <tr>\n",
       "      <th>14</th>\n",
       "      <td>8</td>\n",
       "      <td>surf</td>\n",
       "      <td>6.73</td>\n",
       "    </tr>\n",
       "    <tr>\n",
       "      <th>15</th>\n",
       "      <td>8</td>\n",
       "      <td>ultimate</td>\n",
       "      <td>6.61</td>\n",
       "    </tr>\n",
       "    <tr>\n",
       "      <th>16</th>\n",
       "      <td>9</td>\n",
       "      <td>surf</td>\n",
       "      <td>6.73</td>\n",
       "    </tr>\n",
       "    <tr>\n",
       "      <th>17</th>\n",
       "      <td>9</td>\n",
       "      <td>ultimate</td>\n",
       "      <td>6.77</td>\n",
       "    </tr>\n",
       "    <tr>\n",
       "      <th>18</th>\n",
       "      <td>10</td>\n",
       "      <td>surf</td>\n",
       "      <td>6.72</td>\n",
       "    </tr>\n",
       "    <tr>\n",
       "      <th>19</th>\n",
       "      <td>10</td>\n",
       "      <td>ultimate</td>\n",
       "      <td>6.67</td>\n",
       "    </tr>\n",
       "    <tr>\n",
       "      <th>20</th>\n",
       "      <td>11</td>\n",
       "      <td>surf</td>\n",
       "      <td>6.76</td>\n",
       "    </tr>\n",
       "    <tr>\n",
       "      <th>21</th>\n",
       "      <td>11</td>\n",
       "      <td>ultimate</td>\n",
       "      <td>6.74</td>\n",
       "    </tr>\n",
       "    <tr>\n",
       "      <th>22</th>\n",
       "      <td>12</td>\n",
       "      <td>surf</td>\n",
       "      <td>6.84</td>\n",
       "    </tr>\n",
       "    <tr>\n",
       "      <th>23</th>\n",
       "      <td>12</td>\n",
       "      <td>ultimate</td>\n",
       "      <td>6.67</td>\n",
       "    </tr>\n",
       "  </tbody>\n",
       "</table>\n",
       "</div>"
      ],
      "text/plain": [
       "    month      plan  mean_per_call\n",
       "0       1      surf           6.43\n",
       "1       1  ultimate           6.54\n",
       "2       2      surf           6.91\n",
       "3       2  ultimate           6.52\n",
       "4       3      surf           6.70\n",
       "5       3  ultimate           6.21\n",
       "6       4      surf           6.80\n",
       "7       4  ultimate           6.66\n",
       "8       5      surf           6.77\n",
       "9       5  ultimate           6.66\n",
       "10      6      surf           6.85\n",
       "11      6  ultimate           6.71\n",
       "12      7      surf           6.72\n",
       "13      7  ultimate           6.88\n",
       "14      8      surf           6.73\n",
       "15      8  ultimate           6.61\n",
       "16      9      surf           6.73\n",
       "17      9  ultimate           6.77\n",
       "18     10      surf           6.72\n",
       "19     10  ultimate           6.67\n",
       "20     11      surf           6.76\n",
       "21     11  ultimate           6.74\n",
       "22     12      surf           6.84\n",
       "23     12  ultimate           6.67"
      ]
     },
     "execution_count": 30,
     "metadata": {},
     "output_type": "execute_result"
    }
   ],
   "source": [
    "#Calculamos la duración de llamadas promedio mensual por plan\n",
    "mean_duration = duration_calls_per_plan.groupby(['month', 'plan']).agg(mean_per_call = ('duration','mean')).reset_index()\n",
    "mean_duration['mean_per_call'] = mean_duration['mean_per_call'].round(2)\n",
    "\n",
    "mean_duration"
   ]
  },
  {
   "cell_type": "code",
   "execution_count": 31,
   "metadata": {},
   "outputs": [
    {
     "data": {
      "image/png": "[encoded data removed]",
      "text/plain": [
       "<Figure size 1200x600 with 1 Axes>"
      ]
     },
     "metadata": {},
     "output_type": "display_data"
    }
   ],
   "source": [
    "#Cremos el gráfico de barras con base en una tabla dinamica\n",
    "mean_duration_pivot = mean_duration.pivot(index= 'plan', columns= 'month', values= 'mean_per_call')\n",
    "mean_duration_pivot.plot(kind= 'bar', figsize= (12,6), rot= 0, title= 'Duración de llamadas mensuales por plan')\n",
    "plt.tight_layout()\n",
    "plt.show()"
   ]
  },
  {
   "cell_type": "code",
   "execution_count": 32,
   "metadata": {
    "id": "QoLqW1S_0q1J"
   },
   "outputs": [
    {
     "data": {
      "image/png": "[encoded data removed]",
      "text/plain": [
       "<Figure size 640x480 with 1 Axes>"
      ]
     },
     "metadata": {},
     "output_type": "display_data"
    }
   ],
   "source": [
    "#Creamos un df nuevo von la información de la tabla duracion llamadas para calcular el numero total de minutos por mes y plan\n",
    "minutes_needed = duration_calls_per_plan.groupby(['plan','month']).agg(minutes_required = ('duration','sum')).reset_index()\n",
    "minutes_needed['minutes_required'] = minutes_needed['minutes_required'].round(2)\n",
    "#Aplicamos los filtros necesarios para los hostogramas\n",
    "surf = minutes_needed[minutes_needed['plan'] == 'surf']['minutes_required']\n",
    "ultimate = minutes_needed[minutes_needed['plan'] == 'ultimate']['minutes_required']\n",
    "#Realizamos los histogramas\n",
    "plt.hist(surf, alpha= 0.5, label= 'Surf', color= 'skyblue', bins= 20)\n",
    "plt.hist(ultimate, alpha= 0.5, label= 'Ultimate', color= 'salmon', bins= 20)\n",
    "\n",
    "plt.title('Minutos mensuales requeridos por plan')\n",
    "plt.xlabel('Total minutos (plan/mes)')\n",
    "plt.ylabel('Frecuencia')\n",
    "plt.legend()\n",
    "plt.show()\n"
   ]
  },
  {
   "cell_type": "code",
   "execution_count": 33,
   "metadata": {},
   "outputs": [
    {
     "data": {
      "text/html": [
       "<div>\n",
       "<style scoped>\n",
       "    .dataframe tbody tr th:only-of-type {\n",
       "        vertical-align: middle;\n",
       "    }\n",
       "\n",
       "    .dataframe tbody tr th {\n",
       "        vertical-align: top;\n",
       "    }\n",
       "\n",
       "    .dataframe thead th {\n",
       "        text-align: right;\n",
       "    }\n",
       "</style>\n",
       "<table border=\"1\" class=\"dataframe\">\n",
       "  <thead>\n",
       "    <tr style=\"text-align: right;\">\n",
       "      <th></th>\n",
       "      <th>plan</th>\n",
       "      <th>month</th>\n",
       "      <th>minutes_required</th>\n",
       "    </tr>\n",
       "  </thead>\n",
       "  <tbody>\n",
       "    <tr>\n",
       "      <th>0</th>\n",
       "      <td>surf</td>\n",
       "      <td>1</td>\n",
       "      <td>385.68</td>\n",
       "    </tr>\n",
       "    <tr>\n",
       "      <th>1</th>\n",
       "      <td>surf</td>\n",
       "      <td>2</td>\n",
       "      <td>2527.66</td>\n",
       "    </tr>\n",
       "    <tr>\n",
       "      <th>2</th>\n",
       "      <td>surf</td>\n",
       "      <td>3</td>\n",
       "      <td>7152.31</td>\n",
       "    </tr>\n",
       "    <tr>\n",
       "      <th>3</th>\n",
       "      <td>surf</td>\n",
       "      <td>4</td>\n",
       "      <td>16619.00</td>\n",
       "    </tr>\n",
       "    <tr>\n",
       "      <th>4</th>\n",
       "      <td>surf</td>\n",
       "      <td>5</td>\n",
       "      <td>29033.10</td>\n",
       "    </tr>\n",
       "    <tr>\n",
       "      <th>5</th>\n",
       "      <td>surf</td>\n",
       "      <td>6</td>\n",
       "      <td>39499.26</td>\n",
       "    </tr>\n",
       "    <tr>\n",
       "      <th>6</th>\n",
       "      <td>surf</td>\n",
       "      <td>7</td>\n",
       "      <td>51367.31</td>\n",
       "    </tr>\n",
       "    <tr>\n",
       "      <th>7</th>\n",
       "      <td>surf</td>\n",
       "      <td>8</td>\n",
       "      <td>62721.48</td>\n",
       "    </tr>\n",
       "    <tr>\n",
       "      <th>8</th>\n",
       "      <td>surf</td>\n",
       "      <td>9</td>\n",
       "      <td>75852.46</td>\n",
       "    </tr>\n",
       "    <tr>\n",
       "      <th>9</th>\n",
       "      <td>surf</td>\n",
       "      <td>10</td>\n",
       "      <td>96149.09</td>\n",
       "    </tr>\n",
       "    <tr>\n",
       "      <th>10</th>\n",
       "      <td>surf</td>\n",
       "      <td>11</td>\n",
       "      <td>113086.75</td>\n",
       "    </tr>\n",
       "    <tr>\n",
       "      <th>11</th>\n",
       "      <td>surf</td>\n",
       "      <td>12</td>\n",
       "      <td>142297.14</td>\n",
       "    </tr>\n",
       "    <tr>\n",
       "      <th>12</th>\n",
       "      <td>ultimate</td>\n",
       "      <td>1</td>\n",
       "      <td>732.65</td>\n",
       "    </tr>\n",
       "    <tr>\n",
       "      <th>13</th>\n",
       "      <td>ultimate</td>\n",
       "      <td>2</td>\n",
       "      <td>2659.03</td>\n",
       "    </tr>\n",
       "    <tr>\n",
       "      <th>14</th>\n",
       "      <td>ultimate</td>\n",
       "      <td>3</td>\n",
       "      <td>3428.42</td>\n",
       "    </tr>\n",
       "    <tr>\n",
       "      <th>15</th>\n",
       "      <td>ultimate</td>\n",
       "      <td>4</td>\n",
       "      <td>6646.67</td>\n",
       "    </tr>\n",
       "    <tr>\n",
       "      <th>16</th>\n",
       "      <td>ultimate</td>\n",
       "      <td>5</td>\n",
       "      <td>11126.28</td>\n",
       "    </tr>\n",
       "    <tr>\n",
       "      <th>17</th>\n",
       "      <td>ultimate</td>\n",
       "      <td>6</td>\n",
       "      <td>16441.12</td>\n",
       "    </tr>\n",
       "    <tr>\n",
       "      <th>18</th>\n",
       "      <td>ultimate</td>\n",
       "      <td>7</td>\n",
       "      <td>23822.27</td>\n",
       "    </tr>\n",
       "    <tr>\n",
       "      <th>19</th>\n",
       "      <td>ultimate</td>\n",
       "      <td>8</td>\n",
       "      <td>28206.51</td>\n",
       "    </tr>\n",
       "    <tr>\n",
       "      <th>20</th>\n",
       "      <td>ultimate</td>\n",
       "      <td>9</td>\n",
       "      <td>35542.71</td>\n",
       "    </tr>\n",
       "    <tr>\n",
       "      <th>21</th>\n",
       "      <td>ultimate</td>\n",
       "      <td>10</td>\n",
       "      <td>45067.81</td>\n",
       "    </tr>\n",
       "    <tr>\n",
       "      <th>22</th>\n",
       "      <td>ultimate</td>\n",
       "      <td>11</td>\n",
       "      <td>53400.65</td>\n",
       "    </tr>\n",
       "    <tr>\n",
       "      <th>23</th>\n",
       "      <td>ultimate</td>\n",
       "      <td>12</td>\n",
       "      <td>65384.90</td>\n",
       "    </tr>\n",
       "  </tbody>\n",
       "</table>\n",
       "</div>"
      ],
      "text/plain": [
       "        plan  month  minutes_required\n",
       "0       surf      1            385.68\n",
       "1       surf      2           2527.66\n",
       "2       surf      3           7152.31\n",
       "3       surf      4          16619.00\n",
       "4       surf      5          29033.10\n",
       "5       surf      6          39499.26\n",
       "6       surf      7          51367.31\n",
       "7       surf      8          62721.48\n",
       "8       surf      9          75852.46\n",
       "9       surf     10          96149.09\n",
       "10      surf     11         113086.75\n",
       "11      surf     12         142297.14\n",
       "12  ultimate      1            732.65\n",
       "13  ultimate      2           2659.03\n",
       "14  ultimate      3           3428.42\n",
       "15  ultimate      4           6646.67\n",
       "16  ultimate      5          11126.28\n",
       "17  ultimate      6          16441.12\n",
       "18  ultimate      7          23822.27\n",
       "19  ultimate      8          28206.51\n",
       "20  ultimate      9          35542.71\n",
       "21  ultimate     10          45067.81\n",
       "22  ultimate     11          53400.65\n",
       "23  ultimate     12          65384.90"
      ]
     },
     "execution_count": 33,
     "metadata": {},
     "output_type": "execute_result"
    }
   ],
   "source": [
    "minutes_needed"
   ]
  },
  {
   "cell_type": "markdown",
   "metadata": {
    "id": "bLS9T8OH0q1K"
   },
   "source": [
    "[Calcula la media y la variable de la duración de las llamadas para averiguar si los usuarios de los distintos planes se comportan de forma diferente al realizar sus llamadas.]"
   ]
  },
  {
   "cell_type": "code",
   "execution_count": 34,
   "metadata": {
    "id": "oSndbAnt0q1K"
   },
   "outputs": [
    {
     "name": "stdout",
     "output_type": "stream",
     "text": [
      "Media de los minutos mensuales por plan: plan\n",
      "surf        6.77\n",
      "ultimate    6.70\n",
      "Name: duration, dtype: float64\n",
      "Varianza del total de minutos mensuales por plan:plan\n",
      "surf        34.16\n",
      "ultimate    33.96\n",
      "Name: duration, dtype: float64\n"
     ]
    }
   ],
   "source": [
    "#Calculamos la media\n",
    "mean_min = duration_calls_per_plan.groupby('plan')['duration'].mean().round(2)\n",
    "#Calculamos la Varianza\n",
    "var_min = duration_calls_per_plan.groupby('plan')['duration'].var().round(2)\n",
    "\n",
    "print(f\"Media de los minutos mensuales por plan: {mean_min}\")\n",
    "print(f\"Varianza del total de minutos mensuales por plan:{var_min}\")\n",
    "\n"
   ]
  },
  {
   "cell_type": "code",
   "execution_count": 35,
   "metadata": {
    "id": "nZzoRUKc0q1K"
   },
   "outputs": [
    {
     "data": {
      "image/png": "[encoded data removed]",
      "text/plain": [
       "<Figure size 640x480 with 1 Axes>"
      ]
     },
     "metadata": {},
     "output_type": "display_data"
    }
   ],
   "source": [
    "plt.Figure(figsize= (8,6))\n",
    "sns.boxplot(data= minutes_needed, x= 'month' , y= 'minutes_required')\n",
    "plt.title('Distribucion del total de minutos mensuales')\n",
    "plt.xlabel('Meses')\n",
    "plt.ylabel('Total minutos mensuales')\n",
    "plt.show()"
   ]
  },
  {
   "cell_type": "markdown",
   "metadata": {
    "id": "r627zBO50q1K"
   },
   "source": [
    "[Elabora las conclusiones sobre el comportamiento de los usuarios con respecto a las llamadas. ¿Su comportamiento varía en función del plan?]"
   ]
  },
  {
   "cell_type": "markdown",
   "metadata": {},
   "source": [
    "**Según los gráficos obtenidos veo que el comportamiento varía en dos formas, a medida que avanza el mes incrementa el uso de minutos y también varia por plan ya que los usuarios de surf usan más minutos que los de ultimate**"
   ]
  },
  {
   "cell_type": "markdown",
   "metadata": {
    "id": "8idKy8Wh0q1L"
   },
   "source": [
    "### Mensajes"
   ]
  },
  {
   "cell_type": "code",
   "execution_count": 36,
   "metadata": {
    "id": "NXLxiTit0q1L"
   },
   "outputs": [
    {
     "data": {
      "image/png": "[encoded data removed]",
      "text/plain": [
       "<Figure size 1200x600 with 1 Axes>"
      ]
     },
     "metadata": {},
     "output_type": "display_data"
    }
   ],
   "source": [
    "#Agrupamos los datos necesarios para calcular el número de mensajes por mes y plan\n",
    "msg = service_rates.groupby(['plan', 'month']).agg(msg_sent = ('number_of_msg','count')).reset_index()\n",
    "#Realizamos una tabla dinámica para ordenar los datos\n",
    "msg_pivot = msg.pivot(index= 'plan', columns= 'month', values='msg_sent')\n",
    "#Realizamos una gráfica de barras para realizar la comparación\n",
    "msg_pivot.plot(kind= 'bar', figsize= (12,6), rot= 0, title= 'Comparación mensual de mensajes enviados por plan')\n",
    "plt.legend()\n",
    "plt.show()"
   ]
  },
  {
   "cell_type": "code",
   "execution_count": 37,
   "metadata": {
    "id": "GRI_R7xF0q1L"
   },
   "outputs": [
    {
     "name": "stdout",
     "output_type": "stream",
     "text": [
      "Media de los mensajes enviados por plan: plan\n",
      "surf        31.159568\n",
      "ultimate    37.551389\n",
      "Name: number_of_msg, dtype: float64\n",
      "Varianza de los mensajes enviados por plan: plan\n",
      "surf        1126.724522\n",
      "ultimate    1208.756744\n",
      "Name: number_of_msg, dtype: float64\n"
     ]
    }
   ],
   "source": [
    "#Calculamos la media de mensajes enviados\n",
    "mean_msg= service_rates.groupby('plan')['number_of_msg'].mean()\n",
    "#Calculamos la varianza de los mensajes enviados\n",
    "var_msg = service_rates.groupby('plan')['number_of_msg'].var()\n",
    "\n",
    "print(f\"Media de los mensajes enviados por plan: {mean_msg}\")\n",
    "print(f\"Varianza de los mensajes enviados por plan: {var_msg}\")"
   ]
  },
  {
   "cell_type": "code",
   "execution_count": 49,
   "metadata": {
    "id": "dtFwCGAp0q1M"
   },
   "outputs": [
    {
     "data": {
      "image/png": "[encoded data removed]",
      "text/plain": [
       "<Figure size 640x480 with 1 Axes>"
      ]
     },
     "metadata": {},
     "output_type": "display_data"
    }
   ],
   "source": [
    "#Realizamos un diagrama de caja y bigote\n",
    "plt.Figure(figsize= (10,6))\n",
    "sns.boxplot(data= service_rates, x= 'plan', y= 'number_of_msg', palette= 'tab10' )\n",
    "plt.title('Distribucion de mensajes enviados por plan')\n",
    "plt.xticks(rotation=45)\n",
    "plt.xlabel('Planes')\n",
    "plt.ylabel('Mensajes')\n",
    "plt.show()"
   ]
  },
  {
   "cell_type": "markdown",
   "metadata": {
    "id": "390SSL480q1M"
   },
   "source": [
    "[Elabora las conclusiones sobre el comportamiento de los usuarios con respecto a los mensajes. ¿Su comportamiento varía en función del plan?]"
   ]
  },
  {
   "cell_type": "markdown",
   "metadata": {},
   "source": [
    "**Podemos notar una gran direfencia en el número de mensajes que envían los usuarios del plan Surf contra los usuarios Utimate; También notamos que para ambos casos el envío de mensajes incrementa mes con mes.**\n"
   ]
  },
  {
   "cell_type": "markdown",
   "metadata": {
    "id": "42YSypXz0q1M"
   },
   "source": [
    "### Internet"
   ]
  },
  {
   "cell_type": "code",
   "execution_count": 39,
   "metadata": {
    "id": "lSuKPtjh0q1M"
   },
   "outputs": [
    {
     "data": {
      "text/html": [
       "<div>\n",
       "<style scoped>\n",
       "    .dataframe tbody tr th:only-of-type {\n",
       "        vertical-align: middle;\n",
       "    }\n",
       "\n",
       "    .dataframe tbody tr th {\n",
       "        vertical-align: top;\n",
       "    }\n",
       "\n",
       "    .dataframe thead th {\n",
       "        text-align: right;\n",
       "    }\n",
       "</style>\n",
       "<table border=\"1\" class=\"dataframe\">\n",
       "  <thead>\n",
       "    <tr style=\"text-align: right;\">\n",
       "      <th></th>\n",
       "      <th>plan</th>\n",
       "      <th>trafico_de_datos_gb</th>\n",
       "    </tr>\n",
       "  </thead>\n",
       "  <tbody>\n",
       "    <tr>\n",
       "      <th>0</th>\n",
       "      <td>surf</td>\n",
       "      <td>25436.0</td>\n",
       "    </tr>\n",
       "    <tr>\n",
       "      <th>1</th>\n",
       "      <td>ultimate</td>\n",
       "      <td>12105.0</td>\n",
       "    </tr>\n",
       "  </tbody>\n",
       "</table>\n",
       "</div>"
      ],
      "text/plain": [
       "       plan  trafico_de_datos_gb\n",
       "0      surf              25436.0\n",
       "1  ultimate              12105.0"
      ]
     },
     "execution_count": 39,
     "metadata": {},
     "output_type": "execute_result"
    }
   ],
   "source": [
    "#Agrupamos los datos por plan y por mg consumnmidos para comparar la cantidad de tráfico de Internet consumido por usuarios por plan\n",
    "internet = service_rates.groupby('plan').agg(trafico_de_datos_gb = ('number_of_mb','sum')).reset_index()\n",
    "#Cobvertimos los mg en gb\n",
    "internet['trafico_de_datos_gb'] = np.ceil(internet['trafico_de_datos_gb']/ 1024)\n",
    "internet"
   ]
  },
  {
   "cell_type": "code",
   "execution_count": 40,
   "metadata": {
    "id": "wnh8jYXi0q1N"
   },
   "outputs": [
    {
     "data": {
      "image/png": "[encoded data removed]",
      "text/plain": [
       "<Figure size 1200x600 with 1 Axes>"
      ]
     },
     "metadata": {},
     "output_type": "display_data"
    }
   ],
   "source": [
    "#Aplicamos los datos a un gráfico de barras para su análisis\n",
    "internet.plot(kind= 'bar',\n",
    "             x= 'plan',\n",
    "             y= 'trafico_de_datos_gb',\n",
    "             title= 'Comparación de tráfico de datos por plan',\n",
    "             xlabel= 'Planes',\n",
    "             ylabel= 'Gb consumidos',\n",
    "             figsize= (12,6),\n",
    "             rot= 0,\n",
    "             legend= False\n",
    "             )\n",
    "plt.show()"
   ]
  },
  {
   "cell_type": "code",
   "execution_count": 41,
   "metadata": {
    "id": "5VlyJ9ry0q1N"
   },
   "outputs": [
    {
     "name": "stdout",
     "output_type": "stream",
     "text": [
      "Media del tráfico de datos por plan: plan\n",
      "surf        16558.283490\n",
      "ultimate    17214.699694\n",
      "Name: number_of_mb, dtype: float64\n",
      "Varianza del tráfico de datos por plan: plan\n",
      "surf        6.421640e+07\n",
      "ultimate    6.165229e+07\n",
      "Name: number_of_mb, dtype: float64\n"
     ]
    }
   ],
   "source": [
    "#Calculamos la media del tráfico de datos\n",
    "mean_gb= service_rates.groupby('plan')['number_of_mb'].mean()\n",
    "#Calculamos la varianza del tráfico de datos\n",
    "var_gb = service_rates.groupby('plan')['number_of_mb'].var()\n",
    "\n",
    "print(f\"Media del tráfico de datos por plan: {mean_gb}\")\n",
    "print(f\"Varianza del tráfico de datos por plan: {var_gb}\")"
   ]
  },
  {
   "cell_type": "code",
   "execution_count": 42,
   "metadata": {},
   "outputs": [
    {
     "data": {
      "image/png": "[encoded data removed]",
      "text/plain": [
       "<Figure size 640x480 with 1 Axes>"
      ]
     },
     "metadata": {},
     "output_type": "display_data"
    }
   ],
   "source": [
    "#Aplicaremos los datos a un histograma para ver la distribución de los datos consumidos\n",
    "internet_surf = service_rates[service_rates['plan'] == 'surf']['number_of_mb']\n",
    "internet_ultimate = service_rates[service_rates['plan'] == 'ultimate']['number_of_mb']\n",
    "\n",
    "plt.hist(internet_surf, alpha= 0.7, bins= 20, label = 'Surf', color = 'skyblue', edgecolor = 'black')\n",
    "plt.hist(internet_ultimate, alpha = 0.5, bins= 20, label= 'Ultimate', color = 'salmon', edgecolor = 'black')\n",
    "plt.title('Distribución del consumo de datos por plan')\n",
    "plt.xlabel('Mb consumidos')\n",
    "plt.ylabel('Frecuencia')\n",
    "plt.legend()\n",
    "plt.show()"
   ]
  },
  {
   "cell_type": "markdown",
   "metadata": {
    "id": "UN9zwuMP0q1N"
   },
   "source": [
    "[Elabora las conclusiones sobre cómo los usuarios tienden a consumir el tráfico de Internet. ¿Su comportamiento varía en función del plan?]"
   ]
  },
  {
   "cell_type": "markdown",
   "metadata": {},
   "source": [
    "**Claramente podemos observar que los usuarios del plan Surf utilizan más datos con respecto a los usuarios del plan Ultimate.**\n"
   ]
  },
  {
   "cell_type": "markdown",
   "metadata": {
    "id": "tCijq3260q1N"
   },
   "source": [
    "## Ingreso"
   ]
  },
  {
   "cell_type": "markdown",
   "metadata": {
    "id": "9nq5IAcy0q1O"
   },
   "source": [
    "[Del mismo modo que has estudiado el comportamiento de los usuarios, describe estadísticamente los ingresos de los planes.]"
   ]
  },
  {
   "cell_type": "code",
   "execution_count": 43,
   "metadata": {
    "id": "tz-dq_V00q1O"
   },
   "outputs": [
    {
     "data": {
      "text/html": [
       "<div>\n",
       "<style scoped>\n",
       "    .dataframe tbody tr th:only-of-type {\n",
       "        vertical-align: middle;\n",
       "    }\n",
       "\n",
       "    .dataframe tbody tr th {\n",
       "        vertical-align: top;\n",
       "    }\n",
       "\n",
       "    .dataframe thead th {\n",
       "        text-align: right;\n",
       "    }\n",
       "</style>\n",
       "<table border=\"1\" class=\"dataframe\">\n",
       "  <thead>\n",
       "    <tr style=\"text-align: right;\">\n",
       "      <th></th>\n",
       "      <th>plan</th>\n",
       "      <th>revenue</th>\n",
       "    </tr>\n",
       "  </thead>\n",
       "  <tbody>\n",
       "    <tr>\n",
       "      <th>0</th>\n",
       "      <td>surf</td>\n",
       "      <td>63434.9</td>\n",
       "    </tr>\n",
       "    <tr>\n",
       "      <th>1</th>\n",
       "      <td>ultimate</td>\n",
       "      <td>1666.0</td>\n",
       "    </tr>\n",
       "  </tbody>\n",
       "</table>\n",
       "</div>"
      ],
      "text/plain": [
       "       plan  revenue\n",
       "0      surf  63434.9\n",
       "1  ultimate   1666.0"
      ]
     },
     "execution_count": 43,
     "metadata": {},
     "output_type": "execute_result"
    }
   ],
   "source": [
    "#Calculamos los ingresos totales por plan\n",
    "revenue_per_plan = service_rates.groupby(['plan']).agg(revenue = ('add_cost_total','sum')).reset_index()\n",
    "revenue_per_plan"
   ]
  },
  {
   "cell_type": "code",
   "execution_count": 44,
   "metadata": {
    "id": "0Y1v8ZUz0q1P"
   },
   "outputs": [
    {
     "data": {
      "image/png": "[encoded data removed]",
      "text/plain": [
       "<Figure size 1200x800 with 1 Axes>"
      ]
     },
     "metadata": {},
     "output_type": "display_data"
    }
   ],
   "source": [
    "#Aplicamos un gráfico de barras para analizar los ingresos\n",
    "revenue_per_plan.plot(kind= 'bar',\n",
    "                      x= 'plan',\n",
    "                      y= 'revenue',\n",
    "                      title= 'Ingresos por plan',\n",
    "                      figsize= (12,8),\n",
    "                      xlabel= 'Planes',\n",
    "                      ylabel= 'Ingresos',\n",
    "                      legend=False\n",
    "                      )\n",
    "plt.show()"
   ]
  },
  {
   "cell_type": "code",
   "execution_count": 45,
   "metadata": {
    "id": "bYmwxyVh0q1P"
   },
   "outputs": [
    {
     "name": "stdout",
     "output_type": "stream",
     "text": [
      "Media de ingresos por plan: plan\n",
      "surf        40.327336\n",
      "ultimate     2.313889\n",
      "Name: add_cost_total, dtype: float64\n",
      "Varianza de ingresos por plan: plan\n",
      "surf        3053.962093\n",
      "ultimate     129.848486\n",
      "Name: add_cost_total, dtype: float64\n"
     ]
    }
   ],
   "source": [
    "#Calculamos la media y la varianza de los ingresos\n",
    "mean_revenue = service_rates.groupby('plan')['add_cost_total'].mean()\n",
    "var_revenue = service_rates.groupby('plan')['add_cost_total'].var()\n",
    "\n",
    "print(f\"Media de ingresos por plan: {mean_revenue}\")\n",
    "print(f\"Varianza de ingresos por plan: {var_revenue}\")"
   ]
  },
  {
   "cell_type": "code",
   "execution_count": 46,
   "metadata": {},
   "outputs": [
    {
     "data": {
      "image/png": "[encoded data removed]",
      "text/plain": [
       "<Figure size 640x480 with 1 Axes>"
      ]
     },
     "metadata": {},
     "output_type": "display_data"
    }
   ],
   "source": [
    "#Aplicamos un histograma para ver su distribución\n",
    "revenue_surf = service_rates[service_rates['plan'] == 'surf']['add_cost_total']\n",
    "revenue_ultimate = service_rates[service_rates['plan'] == 'ultimate']['add_cost_total']\n",
    "\n",
    "plt.hist(revenue_surf, bins= 30, alpha= 0.7, label= 'surf', color= 'skyblue', edgecolor= 'black')\n",
    "plt.hist(revenue_ultimate, bins= 30, alpha= 0.5, label= 'ultimate', color= 'salmon', edgecolor= 'black')\n",
    "\n",
    "plt.title('Distribución de ingresos por plan')\n",
    "plt.xlabel('Ingresos')\n",
    "plt.ylabel('Frecuancia')\n",
    "plt.legend()\n",
    "plt.show()"
   ]
  },
  {
   "cell_type": "markdown",
   "metadata": {
    "id": "KAFidcXZ0q1P"
   },
   "source": [
    "[Elabora las conclusiones sobre cómo difiere el ingreso entre los planes.]"
   ]
  },
  {
   "cell_type": "markdown",
   "metadata": {},
   "source": [
    "**Podemos ver que el paln Surf tiene mayores ingresos, lo cual pienso que se debe a que dicho plan tiene menos cantidades de servicios incluidos (Minutos, Mensajes y Megas), por lo que les es más fácil revasar el limite y por ende generar costos extras, a diferencia de el plan Utimate que su rango de servicios es más amplio y aunque genera menos ingresos por costos extras, genera más en su cuota mensual fija lo cual puede compensar los ingresos.** "
   ]
  },
  {
   "cell_type": "markdown",
   "metadata": {
    "id": "ajJ7VKeI0q1Q"
   },
   "source": [
    "## Prueba las hipótesis estadísticas"
   ]
  },
  {
   "cell_type": "markdown",
   "metadata": {
    "id": "AdXAZ-yL0q1Q"
   },
   "source": [
    "[Prueba la hipótesis de que son diferentes los ingresos promedio procedentes de los usuarios de los planes de llamada Ultimate y Surf.]"
   ]
  },
  {
   "cell_type": "markdown",
   "metadata": {
    "id": "IQwa_hsh0q1Q"
   },
   "source": [
    "[Elabora las hipótesis nula y alternativa, escoge la prueba estadística, determina el valor alfa.]"
   ]
  },
  {
   "cell_type": "code",
   "execution_count": 47,
   "metadata": {
    "id": "nFoPNlPq0q1R"
   },
   "outputs": [
    {
     "name": "stdout",
     "output_type": "stream",
     "text": [
      "Estadístico t: -18.27839232810818\n",
      "Valor p: 8.819884691298445e-70\n"
     ]
    }
   ],
   "source": [
    "#Identificamos los ingresos totales de ambos planes por separado \n",
    "ultimate_income= service_rates[service_rates['plan'] == 'ultimate']['add_cost_total']\n",
    "surf_income = service_rates[service_rates['plan'] == 'surf']['add_cost_total']\n",
    "#Determinamos el valor \"t\" y el \"p-valor\", elegimos la prueba estadística \"t\" con un valor alfa de 0.05\n",
    "t_statistic, p_value = stats.ttest_ind(ultimate_income, surf_income)\n",
    "print(f\"Estadístico t: {t_statistic}\")\n",
    "print(f\"Valor p: {p_value}\")\n",
    "\n"
   ]
  },
  {
   "cell_type": "markdown",
   "metadata": {
    "id": "tCcAruM60q1R"
   },
   "source": [
    "[Prueba la hipótesis de que el ingreso promedio de los usuarios del área NY-NJ es diferente al de los usuarios de otras regiones.]"
   ]
  },
  {
   "cell_type": "markdown",
   "metadata": {
    "id": "LsBgitqj0q1R"
   },
   "source": [
    "[Elabora las hipótesis nula y alternativa, escoge la prueba estadística, determina el valor alfa.]"
   ]
  },
  {
   "cell_type": "code",
   "execution_count": 48,
   "metadata": {
    "id": "Cqcj7wrZ0q1S"
   },
   "outputs": [
    {
     "name": "stdout",
     "output_type": "stream",
     "text": [
      "Estadístico t: 1.114906207304329\n",
      "Valor p: 0.2650075550511557\n"
     ]
    }
   ],
   "source": [
    "#Creamos el df necesario para la prueba de hiótesis\n",
    "ny_nj = pd.merge(service_rates, users, on= 'user_id', how= 'left')\n",
    "\n",
    "col_del = ['user_id', 'usd_monthly_pay', 'month', 'number_of_calls',\n",
    "       'minutes_included', 'number_of_minuts', 'minutes_exceeded',\n",
    "       'usd_per_minute', 'add_cost_min', 'messages_included', 'number_of_msg',\n",
    "       'messages_exceeded', 'usd_per_message', 'add_cost_msg',\n",
    "       'mb_per_month_included', 'number_of_mb', 'mb_exceeded', 'usd_per_gb',\n",
    "       'add_cost_mb', 'add_cost_gb', 'first_name',\n",
    "       'last_name', 'age', 'reg_date', 'plan_y', 'churn_date']\n",
    "ny_nj = ny_nj.drop(labels= col_del, axis='columns')\n",
    "\n",
    "#Realizamos los filtros pra distinguir a las ciudades\n",
    "income_ny_nj = ny_nj[ny_nj['city'].str.contains('New York', na=False)]\n",
    "income_other_cities = ny_nj[~ny_nj['city'].str.contains('New York', na=False)]\n",
    "#Realizamos la prueba de hipótesis mediente la prueba \"t\" con un alfa de 0.05\n",
    "t_statistic, p_value = stats.ttest_ind(income_ny_nj['add_cost_total'], income_other_cities['add_cost_total'])\n",
    "\n",
    "print(f\"Estadístico t: {t_statistic}\")\n",
    "print(f\"Valor p: {p_value}\")\n",
    "\n"
   ]
  },
  {
   "cell_type": "markdown",
   "metadata": {
    "id": "bbTR8UQO0q1T"
   },
   "source": [
    "## Conclusión general\n",
    "\n",
    "[En esta sección final, enumera tus conclusiones importantes. Asegúrate de que estas abarquen todas las decisiones (suposiciones) importantes que adoptaste y que determinaron la forma elegida para procesar y analizar los datos.]"
   ]
  },
  {
   "cell_type": "markdown",
   "metadata": {},
   "source": [
    "**Para la hipótesis de que los ingresos promedio de los planes Ultimate y Surf son diferentes concuimos siguiente:**\n",
    "\n",
    "*Estadístico t: -18.278387928183548: Nos indica la magnitud de la diferecia que existe entre los dos grupos alnalizados (ultimate vs surf), es decir que al darnos un número negativo de -18 se puede comprobar que los ingresos del plan ultiamte son significativamente más bajos que los de surf.*\n",
    "\n",
    "*Valor p: 8.820505603061949e-70: nos indica que el valor p es mucho menor que nuestro valor alfa 0.05 por lo cual podemos rechazar la hipótesis nula, ésto significa que hay sufuciente evidenca estadistica para concluir que los ingresos promedio analizados de los planes Ultimate y Surf son diferentes.*"
   ]
  },
  {
   "cell_type": "markdown",
   "metadata": {},
   "source": [
    "**Para la hipótesis de que los ingresos promedio de NY-NJ son diferentes a los de usuarios de otras regiones, concluimos lo siguiente:**\n",
    "\n",
    "*Ya que el valor p es mayor a nuestro valor alfa de 0.05, no podemos rechazar la hipótesis nula dado que no hay una gran diferencia entre le promedio de ingresos de los usuarios de NY-NJ contra los de otros estados*\n",
    "\n",
    "*Nuestro valor estadístico nos indica que entre los ingresos pormedios de ambos grupos, hay una ligera diferencia, lo que refuerza la idea de no rechazar la hípotesis nula.*"
   ]
  }
 ],
 "metadata": {
  "ExecuteTimeLog": [
   {
    "duration": 828,
    "start_time": "2021-11-16T09:21:11.304Z"
   },
   {
    "duration": 893,
    "start_time": "2021-11-16T09:21:17.728Z"
   },
   {
    "duration": 1150,
    "start_time": "2021-11-16T09:21:29.568Z"
   },
   {
    "duration": 3,
    "start_time": "2021-11-16T09:24:14.495Z"
   },
   {
    "duration": 120,
    "start_time": "2021-11-16T09:24:46.630Z"
   },
   {
    "duration": 3,
    "start_time": "2021-11-16T09:28:27.882Z"
   },
   {
    "duration": 4,
    "start_time": "2021-11-16T09:29:54.281Z"
   },
   {
    "duration": 3,
    "start_time": "2021-11-16T09:30:45.936Z"
   },
   {
    "duration": 4,
    "start_time": "2021-11-16T09:31:06.300Z"
   },
   {
    "duration": 113,
    "start_time": "2021-11-16T09:31:37.208Z"
   },
   {
    "duration": 143,
    "start_time": "2021-11-16T09:31:48.656Z"
   },
   {
    "duration": 98,
    "start_time": "2021-11-16T09:31:55.678Z"
   },
   {
    "duration": 3,
    "start_time": "2021-11-16T09:32:08.535Z"
   },
   {
    "duration": 111,
    "start_time": "2021-11-16T09:32:10.120Z"
   },
   {
    "duration": 3,
    "start_time": "2021-11-16T09:32:15.732Z"
   },
   {
    "duration": 4,
    "start_time": "2021-11-16T09:32:29.423Z"
   },
   {
    "duration": 3,
    "start_time": "2021-11-16T10:03:03.074Z"
   },
   {
    "duration": 3,
    "start_time": "2021-11-16T10:10:01.288Z"
   },
   {
    "duration": 3,
    "start_time": "2021-11-16T10:10:46.923Z"
   },
   {
    "duration": 121,
    "start_time": "2021-11-16T10:37:46.494Z"
   },
   {
    "duration": 125,
    "start_time": "2021-11-16T10:38:20.632Z"
   },
   {
    "duration": 112,
    "start_time": "2021-11-16T10:46:53.001Z"
   },
   {
    "duration": 110,
    "start_time": "2021-11-16T10:48:25.775Z"
   },
   {
    "duration": 3,
    "start_time": "2021-11-16T10:50:18.720Z"
   },
   {
    "duration": 4,
    "start_time": "2021-11-16T10:50:37.649Z"
   },
   {
    "duration": 2,
    "start_time": "2021-11-16T10:50:51.884Z"
   },
   {
    "duration": 3,
    "start_time": "2021-11-16T10:51:56.237Z"
   },
   {
    "duration": 101,
    "start_time": "2021-11-16T10:53:13.791Z"
   },
   {
    "duration": 3,
    "start_time": "2021-11-16T10:55:59.186Z"
   },
   {
    "duration": 3,
    "start_time": "2021-11-16T10:56:10.751Z"
   },
   {
    "duration": 3,
    "start_time": "2021-11-16T10:56:49.038Z"
   },
   {
    "duration": 3,
    "start_time": "2021-11-16T10:56:49.174Z"
   },
   {
    "duration": 4,
    "start_time": "2021-11-16T10:56:49.414Z"
   },
   {
    "duration": 3,
    "start_time": "2021-11-16T10:56:49.680Z"
   },
   {
    "duration": 3,
    "start_time": "2021-11-16T10:56:50.370Z"
   },
   {
    "duration": 114,
    "start_time": "2021-11-16T10:59:34.518Z"
   },
   {
    "duration": 3,
    "start_time": "2021-11-16T11:01:41.201Z"
   },
   {
    "duration": 116,
    "start_time": "2021-11-16T11:01:48.754Z"
   },
   {
    "duration": 3,
    "start_time": "2021-11-16T11:02:16.685Z"
   },
   {
    "duration": 3,
    "start_time": "2021-11-16T11:02:19.479Z"
   },
   {
    "duration": 3,
    "start_time": "2021-11-16T11:02:47.067Z"
   },
   {
    "duration": 3,
    "start_time": "2021-11-16T11:02:49.353Z"
   },
   {
    "duration": 3,
    "start_time": "2021-11-16T11:03:07.835Z"
   },
   {
    "duration": 3,
    "start_time": "2021-11-16T11:03:07.953Z"
   },
   {
    "duration": 112,
    "start_time": "2021-11-16T11:07:52.072Z"
   },
   {
    "duration": 187,
    "start_time": "2021-11-16T11:09:23.468Z"
   },
   {
    "duration": 4,
    "start_time": "2021-11-16T11:10:01.455Z"
   },
   {
    "duration": 3,
    "start_time": "2021-11-16T11:10:05.069Z"
   },
   {
    "duration": 4,
    "start_time": "2021-11-16T11:10:13.376Z"
   },
   {
    "duration": 3,
    "start_time": "2021-11-16T11:10:14.434Z"
   },
   {
    "duration": 3,
    "start_time": "2021-11-16T11:10:22.853Z"
   },
   {
    "duration": 4,
    "start_time": "2021-11-16T11:27:29.279Z"
   },
   {
    "duration": 4,
    "start_time": "2021-11-16T11:29:08.919Z"
   },
   {
    "duration": 118,
    "start_time": "2021-11-16T11:29:46.703Z"
   },
   {
    "duration": 437,
    "start_time": "2021-11-16T11:36:02.181Z"
   },
   {
    "duration": 157,
    "start_time": "2021-11-16T11:36:14.388Z"
   },
   {
    "duration": 207,
    "start_time": "2021-11-16T11:47:15.898Z"
   },
   {
    "duration": 3,
    "start_time": "2021-11-16T11:53:52.092Z"
   },
   {
    "duration": 3,
    "start_time": "2021-11-16T11:53:52.236Z"
   },
   {
    "duration": 3,
    "start_time": "2021-11-16T11:59:12.005Z"
   },
   {
    "duration": 112,
    "start_time": "2021-11-16T12:00:33.446Z"
   },
   {
    "duration": 3,
    "start_time": "2021-11-16T12:02:14.453Z"
   },
   {
    "duration": 3,
    "start_time": "2021-11-16T12:02:39.512Z"
   },
   {
    "duration": 106,
    "start_time": "2021-11-16T12:03:03.460Z"
   },
   {
    "duration": 3,
    "start_time": "2021-11-17T20:37:21.139Z"
   },
   {
    "duration": 3,
    "start_time": "2021-11-17T20:37:22.229Z"
   },
   {
    "duration": 3,
    "start_time": "2021-11-17T20:38:38.806Z"
   },
   {
    "duration": 3,
    "start_time": "2021-11-17T20:38:41.958Z"
   },
   {
    "duration": 3,
    "start_time": "2021-11-17T20:43:46.551Z"
   },
   {
    "duration": 4,
    "start_time": "2021-11-17T20:58:21.835Z"
   },
   {
    "duration": 3,
    "start_time": "2021-11-17T20:59:21.872Z"
   },
   {
    "duration": 4,
    "start_time": "2021-11-17T20:59:45.352Z"
   },
   {
    "duration": 4,
    "start_time": "2021-11-17T20:59:49.646Z"
   },
   {
    "duration": 159,
    "start_time": "2021-11-17T21:02:26.949Z"
   },
   {
    "duration": 3,
    "start_time": "2021-11-17T21:03:53.461Z"
   },
   {
    "duration": 3,
    "start_time": "2021-11-17T21:03:53.694Z"
   },
   {
    "duration": 3,
    "start_time": "2021-11-17T21:05:28.145Z"
   },
   {
    "duration": 116,
    "start_time": "2021-11-17T21:05:57.787Z"
   },
   {
    "duration": 3,
    "start_time": "2021-11-17T21:06:37.993Z"
   },
   {
    "duration": 3,
    "start_time": "2021-11-17T21:06:38.261Z"
   },
   {
    "duration": 3,
    "start_time": "2021-11-17T21:11:54.358Z"
   },
   {
    "duration": 3,
    "start_time": "2021-11-17T21:12:43.846Z"
   },
   {
    "duration": 4,
    "start_time": "2021-11-17T21:13:08.773Z"
   },
   {
    "duration": 3,
    "start_time": "2021-11-17T21:14:44.441Z"
   },
   {
    "duration": 3,
    "start_time": "2021-11-17T21:15:42.059Z"
   },
   {
    "duration": 4,
    "start_time": "2021-11-17T21:15:51.995Z"
   },
   {
    "duration": 3,
    "start_time": "2021-11-17T21:15:53.923Z"
   },
   {
    "duration": 3,
    "start_time": "2021-11-17T21:15:55.282Z"
   },
   {
    "duration": 3,
    "start_time": "2021-11-17T21:16:28.492Z"
   },
   {
    "duration": 3,
    "start_time": "2021-11-17T21:16:32.603Z"
   },
   {
    "duration": 3,
    "start_time": "2021-11-17T21:17:06.941Z"
   },
   {
    "duration": 98,
    "start_time": "2021-11-17T21:18:05.733Z"
   },
   {
    "duration": 4,
    "start_time": "2021-11-17T21:21:35.255Z"
   },
   {
    "duration": 3,
    "start_time": "2021-11-17T21:21:37.804Z"
   },
   {
    "duration": 4,
    "start_time": "2021-11-17T21:23:06.071Z"
   },
   {
    "duration": 3,
    "start_time": "2021-11-17T21:23:24.799Z"
   },
   {
    "duration": 3,
    "start_time": "2021-11-17T21:23:32.591Z"
   },
   {
    "duration": 98,
    "start_time": "2021-11-17T21:28:31.559Z"
   },
   {
    "duration": 3,
    "start_time": "2021-11-17T21:28:45.448Z"
   },
   {
    "duration": 3,
    "start_time": "2021-11-17T21:29:17.303Z"
   },
   {
    "duration": 3,
    "start_time": "2021-11-17T21:29:29.617Z"
   },
   {
    "duration": 3,
    "start_time": "2021-11-17T21:29:32.681Z"
   },
   {
    "duration": 3,
    "start_time": "2021-11-17T21:36:11.474Z"
   },
   {
    "duration": 3,
    "start_time": "2021-11-17T21:36:14.791Z"
   },
   {
    "duration": 3,
    "start_time": "2021-11-17T21:36:53.943Z"
   },
   {
    "duration": 3,
    "start_time": "2021-11-17T21:36:56.165Z"
   },
   {
    "duration": 4,
    "start_time": "2021-11-17T21:37:16.590Z"
   },
   {
    "duration": 3,
    "start_time": "2021-11-17T21:37:22.702Z"
   },
   {
    "duration": 4,
    "start_time": "2021-11-17T21:38:03.479Z"
   },
   {
    "duration": 3,
    "start_time": "2021-11-17T21:38:08.601Z"
   },
   {
    "duration": 3,
    "start_time": "2021-11-17T21:38:12.928Z"
   },
   {
    "duration": 3,
    "start_time": "2021-11-17T21:38:48.896Z"
   },
   {
    "duration": 2,
    "start_time": "2021-11-17T21:38:49.171Z"
   },
   {
    "duration": 4,
    "start_time": "2021-11-17T21:39:57.889Z"
   },
   {
    "duration": 3,
    "start_time": "2021-11-17T21:39:58.057Z"
   },
   {
    "duration": 3,
    "start_time": "2021-11-17T21:41:20.108Z"
   },
   {
    "duration": 3,
    "start_time": "2021-11-17T21:41:20.629Z"
   },
   {
    "duration": 3,
    "start_time": "2021-11-17T21:42:49.136Z"
   },
   {
    "duration": 3,
    "start_time": "2021-11-17T21:43:15.137Z"
   },
   {
    "duration": 4,
    "start_time": "2021-11-17T21:43:16.766Z"
   },
   {
    "duration": 4,
    "start_time": "2021-11-17T21:43:31.711Z"
   },
   {
    "duration": 3,
    "start_time": "2021-11-17T21:43:36.312Z"
   },
   {
    "duration": 4,
    "start_time": "2021-11-17T21:45:08.825Z"
   },
   {
    "duration": 4,
    "start_time": "2021-11-17T21:45:10.119Z"
   },
   {
    "duration": 4,
    "start_time": "2021-11-17T21:45:13.748Z"
   },
   {
    "duration": 3,
    "start_time": "2021-11-17T21:45:22.219Z"
   },
   {
    "duration": 3,
    "start_time": "2021-11-17T21:45:33.412Z"
   },
   {
    "duration": 2,
    "start_time": "2021-11-17T21:46:01.885Z"
   },
   {
    "duration": 3,
    "start_time": "2021-11-17T21:46:03.628Z"
   },
   {
    "duration": 107,
    "start_time": "2021-11-17T21:47:32.512Z"
   },
   {
    "duration": 103,
    "start_time": "2021-11-17T21:50:36.243Z"
   },
   {
    "duration": 3,
    "start_time": "2021-11-18T06:28:31.440Z"
   },
   {
    "duration": 3,
    "start_time": "2021-11-18T06:29:00.168Z"
   },
   {
    "duration": 3,
    "start_time": "2021-11-18T06:31:27.008Z"
   },
   {
    "duration": 2,
    "start_time": "2021-11-18T06:35:34.288Z"
   },
   {
    "duration": 2,
    "start_time": "2021-11-18T06:38:04.527Z"
   }
  ],
  "colab": {
   "provenance": []
  },
  "kernelspec": {
   "display_name": "Python 3 (ipykernel)",
   "language": "python",
   "name": "python3"
  },
  "language_info": {
   "codemirror_mode": {
    "name": "ipython",
    "version": 3
   },
   "file_extension": ".py",
   "mimetype": "text/x-python",
   "name": "python",
   "nbconvert_exporter": "python",
   "pygments_lexer": "ipython3",
   "version": "3.9.23"
  },
  "toc": {
   "base_numbering": 1,
   "nav_menu": {},
   "number_sections": true,
   "sideBar": true,
   "skip_h1_title": false,
   "title_cell": "Table of Contents",
   "title_sidebar": "Contents",
   "toc_cell": false,
   "toc_position": {},
   "toc_section_display": true,
   "toc_window_display": true
  }
 },
 "nbformat": 4,
 "nbformat_minor": 4
}
